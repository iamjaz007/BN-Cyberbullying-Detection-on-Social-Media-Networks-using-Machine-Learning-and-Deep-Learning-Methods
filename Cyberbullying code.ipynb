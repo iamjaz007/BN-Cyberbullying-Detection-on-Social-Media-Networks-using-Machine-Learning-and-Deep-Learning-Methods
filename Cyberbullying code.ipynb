{
 "cells": [
  {
   "cell_type": "markdown",
   "metadata": {},
   "source": [
    "# Import libraries"
   ]
  },
  {
   "cell_type": "code",
   "execution_count": 1,
   "metadata": {
    "colab": {
     "base_uri": "https://localhost:8080/"
    },
    "id": "UsCWRQllDekQ",
    "outputId": "43a86df4-cdd6-4339-c175-11b12dbb63e0"
   },
   "outputs": [
    {
     "name": "stdout",
     "output_type": "stream",
     "text": [
      "Defaulting to user installation because normal site-packages is not writeable\n",
      "Requirement already satisfied: chefboost in c:\\users\\nahid\\appdata\\roaming\\python\\python39\\site-packages (0.0.17)\n",
      "Requirement already satisfied: numpy>=1.14.0 in c:\\programdata\\anaconda3\\lib\\site-packages (from chefboost) (1.21.5)\n",
      "Requirement already satisfied: pandas>=0.22.0 in c:\\programdata\\anaconda3\\lib\\site-packages (from chefboost) (1.4.2)\n",
      "Requirement already satisfied: psutil>=5.4.3 in c:\\programdata\\anaconda3\\lib\\site-packages (from chefboost) (5.8.0)\n",
      "Requirement already satisfied: tqdm>=4.30.0 in c:\\programdata\\anaconda3\\lib\\site-packages (from chefboost) (4.64.0)\n",
      "Requirement already satisfied: pytz>=2020.1 in c:\\programdata\\anaconda3\\lib\\site-packages (from pandas>=0.22.0->chefboost) (2021.3)\n",
      "Requirement already satisfied: python-dateutil>=2.8.1 in c:\\programdata\\anaconda3\\lib\\site-packages (from pandas>=0.22.0->chefboost) (2.8.2)\n",
      "Requirement already satisfied: six>=1.5 in c:\\programdata\\anaconda3\\lib\\site-packages (from python-dateutil>=2.8.1->pandas>=0.22.0->chefboost) (1.16.0)\n",
      "Requirement already satisfied: colorama in c:\\programdata\\anaconda3\\lib\\site-packages (from tqdm>=4.30.0->chefboost) (0.4.4)\n"
     ]
    }
   ],
   "source": [
    "# Install Chefboost package \n",
    "!pip install chefboost"
   ]
  },
  {
   "cell_type": "code",
   "execution_count": 2,
   "metadata": {
    "id": "PXSweK6isv50"
   },
   "outputs": [],
   "source": [
    "import nltk \n",
    "from chefboost import Chefboost as chef\n",
    "import pandas as pd\n",
    "import numpy as np\n",
    "import matplotlib.pyplot as plt\n",
    "import seaborn as sns"
   ]
  },
  {
   "cell_type": "code",
   "execution_count": 3,
   "metadata": {},
   "outputs": [
    {
     "data": {
      "text/plain": [
       "'C:\\\\Users\\\\Nahid\\\\Downloads'"
      ]
     },
     "execution_count": 3,
     "metadata": {},
     "output_type": "execute_result"
    }
   ],
   "source": [
    "pwd"
   ]
  },
  {
   "cell_type": "markdown",
   "metadata": {},
   "source": [
    "# Load dataset"
   ]
  },
  {
   "cell_type": "code",
   "execution_count": 4,
   "metadata": {
    "colab": {
     "base_uri": "https://localhost:8080/",
     "height": 424
    },
    "id": "ZY78sfVsDpcm",
    "outputId": "582a54b3-8b83-40f2-cf96-6093742fd6b3"
   },
   "outputs": [
    {
     "data": {
      "text/html": [
       "<div>\n",
       "<style scoped>\n",
       "    .dataframe tbody tr th:only-of-type {\n",
       "        vertical-align: middle;\n",
       "    }\n",
       "\n",
       "    .dataframe tbody tr th {\n",
       "        vertical-align: top;\n",
       "    }\n",
       "\n",
       "    .dataframe thead th {\n",
       "        text-align: right;\n",
       "    }\n",
       "</style>\n",
       "<table border=\"1\" class=\"dataframe\">\n",
       "  <thead>\n",
       "    <tr style=\"text-align: right;\">\n",
       "      <th></th>\n",
       "      <th>comment</th>\n",
       "      <th>Category</th>\n",
       "      <th>Gender</th>\n",
       "      <th>comment react number</th>\n",
       "      <th>label</th>\n",
       "      <th>Prediction</th>\n",
       "    </tr>\n",
       "  </thead>\n",
       "  <tbody>\n",
       "    <tr>\n",
       "      <th>0</th>\n",
       "      <td>ওই হালার পুত এখন কি মদ খাওয়ার সময় রাতের বেলা...</td>\n",
       "      <td>Actor</td>\n",
       "      <td>Female</td>\n",
       "      <td>1.0</td>\n",
       "      <td>sexual</td>\n",
       "      <td>1</td>\n",
       "    </tr>\n",
       "    <tr>\n",
       "      <th>1</th>\n",
       "      <td>ঘরে বসে শুট করতে কেমন লেগেছে? ক্যামেরাতে কে ছি...</td>\n",
       "      <td>Singer</td>\n",
       "      <td>Male</td>\n",
       "      <td>2.0</td>\n",
       "      <td>not bully</td>\n",
       "      <td>0</td>\n",
       "    </tr>\n",
       "    <tr>\n",
       "      <th>2</th>\n",
       "      <td>অরে বাবা, এই টা কোন পাগল????</td>\n",
       "      <td>Actor</td>\n",
       "      <td>Female</td>\n",
       "      <td>2.0</td>\n",
       "      <td>not bully</td>\n",
       "      <td>0</td>\n",
       "    </tr>\n",
       "    <tr>\n",
       "      <th>3</th>\n",
       "      <td>ক্যাপ্টেন অফ বাংলাদেশ</td>\n",
       "      <td>Sports</td>\n",
       "      <td>Male</td>\n",
       "      <td>0.0</td>\n",
       "      <td>not bully</td>\n",
       "      <td>0</td>\n",
       "    </tr>\n",
       "    <tr>\n",
       "      <th>4</th>\n",
       "      <td>পটকা মাছ</td>\n",
       "      <td>Politician</td>\n",
       "      <td>Male</td>\n",
       "      <td>0.0</td>\n",
       "      <td>troll</td>\n",
       "      <td>1</td>\n",
       "    </tr>\n",
       "    <tr>\n",
       "      <th>...</th>\n",
       "      <td>...</td>\n",
       "      <td>...</td>\n",
       "      <td>...</td>\n",
       "      <td>...</td>\n",
       "      <td>...</td>\n",
       "      <td>...</td>\n",
       "    </tr>\n",
       "    <tr>\n",
       "      <th>43996</th>\n",
       "      <td>হিরো আলম,, এগিয়ে যাও</td>\n",
       "      <td>Social</td>\n",
       "      <td>Male</td>\n",
       "      <td>0.0</td>\n",
       "      <td>not bully</td>\n",
       "      <td>0</td>\n",
       "    </tr>\n",
       "    <tr>\n",
       "      <th>43997</th>\n",
       "      <td>হিরো আলমকে সাপোর্ট দেওয়ার জন্য অসংখ্য ধন্যবাদ...</td>\n",
       "      <td>Social</td>\n",
       "      <td>Male</td>\n",
       "      <td>1.0</td>\n",
       "      <td>not bully</td>\n",
       "      <td>0</td>\n",
       "    </tr>\n",
       "    <tr>\n",
       "      <th>43998</th>\n",
       "      <td>হিরো ভাই তুমি এগিয়ে য়াও</td>\n",
       "      <td>Social</td>\n",
       "      <td>Male</td>\n",
       "      <td>0.0</td>\n",
       "      <td>not bully</td>\n",
       "      <td>0</td>\n",
       "    </tr>\n",
       "    <tr>\n",
       "      <th>43999</th>\n",
       "      <td>হুম ভাও তোমরা এগিয়ে যাও আমরা তোমাদের পিছনে আছি</td>\n",
       "      <td>Actor</td>\n",
       "      <td>Female</td>\n",
       "      <td>1.0</td>\n",
       "      <td>not bully</td>\n",
       "      <td>0</td>\n",
       "    </tr>\n",
       "    <tr>\n",
       "      <th>44000</th>\n",
       "      <td>হ্যালো তোমাদের সাথে কি আমাকে চ্যাট করবে</td>\n",
       "      <td>Social</td>\n",
       "      <td>Male</td>\n",
       "      <td>0.0</td>\n",
       "      <td>not bully</td>\n",
       "      <td>0</td>\n",
       "    </tr>\n",
       "  </tbody>\n",
       "</table>\n",
       "<p>44001 rows × 6 columns</p>\n",
       "</div>"
      ],
      "text/plain": [
       "                                                 comment    Category  Gender  \\\n",
       "0      ওই হালার পুত এখন কি মদ খাওয়ার সময় রাতের বেলা...       Actor  Female   \n",
       "1      ঘরে বসে শুট করতে কেমন লেগেছে? ক্যামেরাতে কে ছি...      Singer    Male   \n",
       "2                           অরে বাবা, এই টা কোন পাগল????       Actor  Female   \n",
       "3                                  ক্যাপ্টেন অফ বাংলাদেশ      Sports    Male   \n",
       "4                                               পটকা মাছ  Politician    Male   \n",
       "...                                                  ...         ...     ...   \n",
       "43996                               হিরো আলম,, এগিয়ে যাও      Social    Male   \n",
       "43997  হিরো আলমকে সাপোর্ট দেওয়ার জন্য অসংখ্য ধন্যবাদ...      Social    Male   \n",
       "43998                            হিরো ভাই তুমি এগিয়ে য়াও      Social    Male   \n",
       "43999     হুম ভাও তোমরা এগিয়ে যাও আমরা তোমাদের পিছনে আছি       Actor  Female   \n",
       "44000            হ্যালো তোমাদের সাথে কি আমাকে চ্যাট করবে      Social    Male   \n",
       "\n",
       "       comment react number      label  Prediction  \n",
       "0                       1.0     sexual           1  \n",
       "1                       2.0  not bully           0  \n",
       "2                       2.0  not bully           0  \n",
       "3                       0.0  not bully           0  \n",
       "4                       0.0      troll           1  \n",
       "...                     ...        ...         ...  \n",
       "43996                   0.0  not bully           0  \n",
       "43997                   1.0  not bully           0  \n",
       "43998                   0.0  not bully           0  \n",
       "43999                   1.0  not bully           0  \n",
       "44000                   0.0  not bully           0  \n",
       "\n",
       "[44001 rows x 6 columns]"
      ]
     },
     "execution_count": 4,
     "metadata": {},
     "output_type": "execute_result"
    }
   ],
   "source": [
    "cd=pd.read_excel('bangla_online_comments_dataset.xlsx')\n",
    "cd"
   ]
  },
  {
   "cell_type": "markdown",
   "metadata": {
    "id": "Alg7rxzh7GBc"
   },
   "source": [
    "# Data analysis"
   ]
  },
  {
   "cell_type": "code",
   "execution_count": 5,
   "metadata": {},
   "outputs": [
    {
     "data": {
      "text/plain": [
       "<AxesSubplot:xlabel='label', ylabel='count'>"
      ]
     },
     "execution_count": 5,
     "metadata": {},
     "output_type": "execute_result"
    },
    {
     "data": {
      "image/png": "[encoded data removed]",
      "text/plain": [
       "<Figure size 432x288 with 1 Axes>"
      ]
     },
     "metadata": {
      "needs_background": "light"
     },
     "output_type": "display_data"
    }
   ],
   "source": [
    "import seaborn as sns\n",
    "sns.countplot(x='label',data=cd)"
   ]
  },
  {
   "cell_type": "code",
   "execution_count": 6,
   "metadata": {},
   "outputs": [
    {
     "data": {
      "text/html": [
       "<div>\n",
       "<style scoped>\n",
       "    .dataframe tbody tr th:only-of-type {\n",
       "        vertical-align: middle;\n",
       "    }\n",
       "\n",
       "    .dataframe tbody tr th {\n",
       "        vertical-align: top;\n",
       "    }\n",
       "\n",
       "    .dataframe thead th {\n",
       "        text-align: right;\n",
       "    }\n",
       "</style>\n",
       "<table border=\"1\" class=\"dataframe\">\n",
       "  <thead>\n",
       "    <tr style=\"text-align: right;\">\n",
       "      <th></th>\n",
       "      <th>comment</th>\n",
       "      <th>Prediction</th>\n",
       "    </tr>\n",
       "  </thead>\n",
       "  <tbody>\n",
       "    <tr>\n",
       "      <th>0</th>\n",
       "      <td>ওই হালার পুত এখন কি মদ খাওয়ার সময় রাতের বেলা...</td>\n",
       "      <td>1</td>\n",
       "    </tr>\n",
       "    <tr>\n",
       "      <th>1</th>\n",
       "      <td>ঘরে বসে শুট করতে কেমন লেগেছে? ক্যামেরাতে কে ছি...</td>\n",
       "      <td>0</td>\n",
       "    </tr>\n",
       "    <tr>\n",
       "      <th>2</th>\n",
       "      <td>অরে বাবা, এই টা কোন পাগল????</td>\n",
       "      <td>0</td>\n",
       "    </tr>\n",
       "    <tr>\n",
       "      <th>3</th>\n",
       "      <td>ক্যাপ্টেন অফ বাংলাদেশ</td>\n",
       "      <td>0</td>\n",
       "    </tr>\n",
       "    <tr>\n",
       "      <th>4</th>\n",
       "      <td>পটকা মাছ</td>\n",
       "      <td>1</td>\n",
       "    </tr>\n",
       "    <tr>\n",
       "      <th>...</th>\n",
       "      <td>...</td>\n",
       "      <td>...</td>\n",
       "    </tr>\n",
       "    <tr>\n",
       "      <th>43996</th>\n",
       "      <td>হিরো আলম,, এগিয়ে যাও</td>\n",
       "      <td>0</td>\n",
       "    </tr>\n",
       "    <tr>\n",
       "      <th>43997</th>\n",
       "      <td>হিরো আলমকে সাপোর্ট দেওয়ার জন্য অসংখ্য ধন্যবাদ...</td>\n",
       "      <td>0</td>\n",
       "    </tr>\n",
       "    <tr>\n",
       "      <th>43998</th>\n",
       "      <td>হিরো ভাই তুমি এগিয়ে য়াও</td>\n",
       "      <td>0</td>\n",
       "    </tr>\n",
       "    <tr>\n",
       "      <th>43999</th>\n",
       "      <td>হুম ভাও তোমরা এগিয়ে যাও আমরা তোমাদের পিছনে আছি</td>\n",
       "      <td>0</td>\n",
       "    </tr>\n",
       "    <tr>\n",
       "      <th>44000</th>\n",
       "      <td>হ্যালো তোমাদের সাথে কি আমাকে চ্যাট করবে</td>\n",
       "      <td>0</td>\n",
       "    </tr>\n",
       "  </tbody>\n",
       "</table>\n",
       "<p>44001 rows × 2 columns</p>\n",
       "</div>"
      ],
      "text/plain": [
       "                                                 comment  Prediction\n",
       "0      ওই হালার পুত এখন কি মদ খাওয়ার সময় রাতের বেলা...           1\n",
       "1      ঘরে বসে শুট করতে কেমন লেগেছে? ক্যামেরাতে কে ছি...           0\n",
       "2                           অরে বাবা, এই টা কোন পাগল????           0\n",
       "3                                  ক্যাপ্টেন অফ বাংলাদেশ           0\n",
       "4                                               পটকা মাছ           1\n",
       "...                                                  ...         ...\n",
       "43996                               হিরো আলম,, এগিয়ে যাও           0\n",
       "43997  হিরো আলমকে সাপোর্ট দেওয়ার জন্য অসংখ্য ধন্যবাদ...           0\n",
       "43998                            হিরো ভাই তুমি এগিয়ে য়াও           0\n",
       "43999     হুম ভাও তোমরা এগিয়ে যাও আমরা তোমাদের পিছনে আছি           0\n",
       "44000            হ্যালো তোমাদের সাথে কি আমাকে চ্যাট করবে           0\n",
       "\n",
       "[44001 rows x 2 columns]"
      ]
     },
     "execution_count": 6,
     "metadata": {},
     "output_type": "execute_result"
    }
   ],
   "source": [
    "cd=cd.drop(['Category','Gender','comment react number','label'],axis=1)\n",
    "cd"
   ]
  },
  {
   "cell_type": "code",
   "execution_count": 7,
   "metadata": {},
   "outputs": [
    {
     "name": "stdout",
     "output_type": "stream",
     "text": [
      "Dataset shape is  (44001, 2)\n"
     ]
    }
   ],
   "source": [
    "# Print shape of dataset.\n",
    "print('Dataset shape is ', cd.shape)"
   ]
  },
  {
   "cell_type": "code",
   "execution_count": 8,
   "metadata": {
    "colab": {
     "base_uri": "https://localhost:8080/"
    },
    "id": "c03aDleK3XAT",
    "outputId": "c59e73c5-3b89-4dc2-bcec-b8cf086337cd"
   },
   "outputs": [
    {
     "data": {
      "text/plain": [
       "1    65.137156\n",
       "0    34.862844\n",
       "Name: Prediction, dtype: float64"
      ]
     },
     "execution_count": 8,
     "metadata": {},
     "output_type": "execute_result"
    }
   ],
   "source": [
    "cd['Prediction'].value_counts(normalize=True)*100"
   ]
  },
  {
   "cell_type": "code",
   "execution_count": 9,
   "metadata": {
    "colab": {
     "base_uri": "https://localhost:8080/",
     "height": 296
    },
    "id": "WIwNiTWK6RVr",
    "outputId": "b4f43e53-4c84-4077-efd0-126ad9b7df84"
   },
   "outputs": [
    {
     "data": {
      "text/plain": [
       "<AxesSubplot:>"
      ]
     },
     "execution_count": 9,
     "metadata": {},
     "output_type": "execute_result"
    },
    {
     "data": {
      "image/png": "[encoded data removed]",
      "text/plain": [
       "<Figure size 432x288 with 1 Axes>"
      ]
     },
     "metadata": {
      "needs_background": "light"
     },
     "output_type": "display_data"
    }
   ],
   "source": [
    "cd['Prediction'].value_counts().sort_index().plot.bar()"
   ]
  },
  {
   "cell_type": "code",
   "execution_count": 10,
   "metadata": {
    "colab": {
     "base_uri": "https://localhost:8080/",
     "height": 424
    },
    "id": "jIjwSIgjEjW2",
    "outputId": "adbcd3f4-7614-49f3-a94a-1f4a7b5c358e"
   },
   "outputs": [
    {
     "data": {
      "text/html": [
       "<div>\n",
       "<style scoped>\n",
       "    .dataframe tbody tr th:only-of-type {\n",
       "        vertical-align: middle;\n",
       "    }\n",
       "\n",
       "    .dataframe tbody tr th {\n",
       "        vertical-align: top;\n",
       "    }\n",
       "\n",
       "    .dataframe thead th {\n",
       "        text-align: right;\n",
       "    }\n",
       "</style>\n",
       "<table border=\"1\" class=\"dataframe\">\n",
       "  <thead>\n",
       "    <tr style=\"text-align: right;\">\n",
       "      <th></th>\n",
       "      <th>comment</th>\n",
       "      <th>Prediction</th>\n",
       "    </tr>\n",
       "  </thead>\n",
       "  <tbody>\n",
       "    <tr>\n",
       "      <th>0</th>\n",
       "      <td>ওই হালার পুত এখন কি মদ খাওয়ার সময় রাতের বেলা...</td>\n",
       "      <td>1</td>\n",
       "    </tr>\n",
       "    <tr>\n",
       "      <th>1</th>\n",
       "      <td>ঘরে বসে শুট করতে কেমন লেগেছে? ক্যামেরাতে কে ছি...</td>\n",
       "      <td>0</td>\n",
       "    </tr>\n",
       "    <tr>\n",
       "      <th>2</th>\n",
       "      <td>অরে বাবা, এই টা কোন পাগল????</td>\n",
       "      <td>0</td>\n",
       "    </tr>\n",
       "    <tr>\n",
       "      <th>3</th>\n",
       "      <td>ক্যাপ্টেন অফ বাংলাদেশ</td>\n",
       "      <td>0</td>\n",
       "    </tr>\n",
       "    <tr>\n",
       "      <th>4</th>\n",
       "      <td>পটকা মাছ</td>\n",
       "      <td>1</td>\n",
       "    </tr>\n",
       "    <tr>\n",
       "      <th>...</th>\n",
       "      <td>...</td>\n",
       "      <td>...</td>\n",
       "    </tr>\n",
       "    <tr>\n",
       "      <th>43996</th>\n",
       "      <td>হিরো আলম,, এগিয়ে যাও</td>\n",
       "      <td>0</td>\n",
       "    </tr>\n",
       "    <tr>\n",
       "      <th>43997</th>\n",
       "      <td>হিরো আলমকে সাপোর্ট দেওয়ার জন্য অসংখ্য ধন্যবাদ...</td>\n",
       "      <td>0</td>\n",
       "    </tr>\n",
       "    <tr>\n",
       "      <th>43998</th>\n",
       "      <td>হিরো ভাই তুমি এগিয়ে য়াও</td>\n",
       "      <td>0</td>\n",
       "    </tr>\n",
       "    <tr>\n",
       "      <th>43999</th>\n",
       "      <td>হুম ভাও তোমরা এগিয়ে যাও আমরা তোমাদের পিছনে আছি</td>\n",
       "      <td>0</td>\n",
       "    </tr>\n",
       "    <tr>\n",
       "      <th>44000</th>\n",
       "      <td>হ্যালো তোমাদের সাথে কি আমাকে চ্যাট করবে</td>\n",
       "      <td>0</td>\n",
       "    </tr>\n",
       "  </tbody>\n",
       "</table>\n",
       "<p>44001 rows × 2 columns</p>\n",
       "</div>"
      ],
      "text/plain": [
       "                                                 comment  Prediction\n",
       "0      ওই হালার পুত এখন কি মদ খাওয়ার সময় রাতের বেলা...           1\n",
       "1      ঘরে বসে শুট করতে কেমন লেগেছে? ক্যামেরাতে কে ছি...           0\n",
       "2                           অরে বাবা, এই টা কোন পাগল????           0\n",
       "3                                  ক্যাপ্টেন অফ বাংলাদেশ           0\n",
       "4                                               পটকা মাছ           1\n",
       "...                                                  ...         ...\n",
       "43996                               হিরো আলম,, এগিয়ে যাও           0\n",
       "43997  হিরো আলমকে সাপোর্ট দেওয়ার জন্য অসংখ্য ধন্যবাদ...           0\n",
       "43998                            হিরো ভাই তুমি এগিয়ে য়াও           0\n",
       "43999     হুম ভাও তোমরা এগিয়ে যাও আমরা তোমাদের পিছনে আছি           0\n",
       "44000            হ্যালো তোমাদের সাথে কি আমাকে চ্যাট করবে           0\n",
       "\n",
       "[44001 rows x 2 columns]"
      ]
     },
     "execution_count": 10,
     "metadata": {},
     "output_type": "execute_result"
    }
   ],
   "source": [
    "cd.to_csv('output.csv','r', encoding='utf-8')\n",
    "cd"
   ]
  },
  {
   "cell_type": "markdown",
   "metadata": {},
   "source": [
    "# Data preprocessing"
   ]
  },
  {
   "cell_type": "code",
   "execution_count": 11,
   "metadata": {
    "colab": {
     "base_uri": "https://localhost:8080/"
    },
    "id": "nm_IsYEKGt72",
    "outputId": "0efa6b26-1173-4484-9fb3-31c3586e31a9",
    "scrolled": true
   },
   "outputs": [
    {
     "name": "stdout",
     "output_type": "stream",
     "text": [
      "Defaulting to user installation because normal site-packages is not writeable\n",
      "Requirement already satisfied: emoji in c:\\users\\nahid\\appdata\\roaming\\python\\python39\\site-packages (2.0.0)\n"
     ]
    }
   ],
   "source": [
    "!pip install emoji"
   ]
  },
  {
   "cell_type": "code",
   "execution_count": 12,
   "metadata": {
    "id": "-kx5cYhFE2a7"
   },
   "outputs": [],
   "source": [
    "#remove punctuation\n",
    "import re\n",
    "import emoji\n",
    "def remove_punc(text):\n",
    "    whitespace = re.compile(u\"[\\s\\u0020\\u00a0\\u1680\\u180e\\u202f\\u205f\\u3000\\u2000-\\u200a]+\", re.UNICODE)\n",
    "    bangla_fullstop = u\"\\u0964\"\n",
    "    punctSeq   = u\"['\\\"“”‘’]+|[.?!,…]+|[:;]+\"\n",
    "    punc = u\"[৷–()—,$%^&*+={}\\[\\]:\\\"|\\'\\~`<>/,€¦!?½£¶™¼©⅐⅑⅒⅓⅔⅕⅖⅗⅘⅙⅚⅛⅜⅝⅞⅟↉¤¿º;-]+\"\n",
    "    text= whitespace.sub(\" \",text).strip()\n",
    "    text= re.sub(punctSeq, \" \", text)\n",
    "    text = re.sub(bangla_fullstop, \" \",text)\n",
    "    text = re.sub(punc, \" \", text)\n",
    "    text = re.sub('\\w*\\d\\w*', \" \", text)\n",
    "def get_emoji_regexp():\n",
    "    text = re.sub(emoji.get_emoji_regexp(), \"\", text)\n",
    "    return text"
   ]
  },
  {
   "cell_type": "code",
   "execution_count": 13,
   "metadata": {
    "colab": {
     "base_uri": "https://localhost:8080/",
     "height": 424
    },
    "id": "VRW0BmkKG5S8",
    "outputId": "cd02db05-91fc-4db0-99c1-2702a00a5223"
   },
   "outputs": [
    {
     "data": {
      "text/html": [
       "<div>\n",
       "<style scoped>\n",
       "    .dataframe tbody tr th:only-of-type {\n",
       "        vertical-align: middle;\n",
       "    }\n",
       "\n",
       "    .dataframe tbody tr th {\n",
       "        vertical-align: top;\n",
       "    }\n",
       "\n",
       "    .dataframe thead th {\n",
       "        text-align: right;\n",
       "    }\n",
       "</style>\n",
       "<table border=\"1\" class=\"dataframe\">\n",
       "  <thead>\n",
       "    <tr style=\"text-align: right;\">\n",
       "      <th></th>\n",
       "      <th>comment</th>\n",
       "      <th>Prediction</th>\n",
       "      <th>Clean</th>\n",
       "    </tr>\n",
       "  </thead>\n",
       "  <tbody>\n",
       "    <tr>\n",
       "      <th>0</th>\n",
       "      <td>ওই হালার পুত এখন কি মদ খাওয়ার সময় রাতের বেলা...</td>\n",
       "      <td>1</td>\n",
       "      <td>None</td>\n",
       "    </tr>\n",
       "    <tr>\n",
       "      <th>1</th>\n",
       "      <td>ঘরে বসে শুট করতে কেমন লেগেছে? ক্যামেরাতে কে ছি...</td>\n",
       "      <td>0</td>\n",
       "      <td>None</td>\n",
       "    </tr>\n",
       "    <tr>\n",
       "      <th>2</th>\n",
       "      <td>অরে বাবা, এই টা কোন পাগল????</td>\n",
       "      <td>0</td>\n",
       "      <td>None</td>\n",
       "    </tr>\n",
       "    <tr>\n",
       "      <th>3</th>\n",
       "      <td>ক্যাপ্টেন অফ বাংলাদেশ</td>\n",
       "      <td>0</td>\n",
       "      <td>None</td>\n",
       "    </tr>\n",
       "    <tr>\n",
       "      <th>4</th>\n",
       "      <td>পটকা মাছ</td>\n",
       "      <td>1</td>\n",
       "      <td>None</td>\n",
       "    </tr>\n",
       "    <tr>\n",
       "      <th>...</th>\n",
       "      <td>...</td>\n",
       "      <td>...</td>\n",
       "      <td>...</td>\n",
       "    </tr>\n",
       "    <tr>\n",
       "      <th>43996</th>\n",
       "      <td>হিরো আলম,, এগিয়ে যাও</td>\n",
       "      <td>0</td>\n",
       "      <td>None</td>\n",
       "    </tr>\n",
       "    <tr>\n",
       "      <th>43997</th>\n",
       "      <td>হিরো আলমকে সাপোর্ট দেওয়ার জন্য অসংখ্য ধন্যবাদ...</td>\n",
       "      <td>0</td>\n",
       "      <td>None</td>\n",
       "    </tr>\n",
       "    <tr>\n",
       "      <th>43998</th>\n",
       "      <td>হিরো ভাই তুমি এগিয়ে য়াও</td>\n",
       "      <td>0</td>\n",
       "      <td>None</td>\n",
       "    </tr>\n",
       "    <tr>\n",
       "      <th>43999</th>\n",
       "      <td>হুম ভাও তোমরা এগিয়ে যাও আমরা তোমাদের পিছনে আছি</td>\n",
       "      <td>0</td>\n",
       "      <td>None</td>\n",
       "    </tr>\n",
       "    <tr>\n",
       "      <th>44000</th>\n",
       "      <td>হ্যালো তোমাদের সাথে কি আমাকে চ্যাট করবে</td>\n",
       "      <td>0</td>\n",
       "      <td>None</td>\n",
       "    </tr>\n",
       "  </tbody>\n",
       "</table>\n",
       "<p>44001 rows × 3 columns</p>\n",
       "</div>"
      ],
      "text/plain": [
       "                                                 comment  Prediction Clean\n",
       "0      ওই হালার পুত এখন কি মদ খাওয়ার সময় রাতের বেলা...           1  None\n",
       "1      ঘরে বসে শুট করতে কেমন লেগেছে? ক্যামেরাতে কে ছি...           0  None\n",
       "2                           অরে বাবা, এই টা কোন পাগল????           0  None\n",
       "3                                  ক্যাপ্টেন অফ বাংলাদেশ           0  None\n",
       "4                                               পটকা মাছ           1  None\n",
       "...                                                  ...         ...   ...\n",
       "43996                               হিরো আলম,, এগিয়ে যাও           0  None\n",
       "43997  হিরো আলমকে সাপোর্ট দেওয়ার জন্য অসংখ্য ধন্যবাদ...           0  None\n",
       "43998                            হিরো ভাই তুমি এগিয়ে য়াও           0  None\n",
       "43999     হুম ভাও তোমরা এগিয়ে যাও আমরা তোমাদের পিছনে আছি           0  None\n",
       "44000            হ্যালো তোমাদের সাথে কি আমাকে চ্যাট করবে           0  None\n",
       "\n",
       "[44001 rows x 3 columns]"
      ]
     },
     "execution_count": 13,
     "metadata": {},
     "output_type": "execute_result"
    }
   ],
   "source": [
    "cd['Clean']= cd['comment'].apply(lambda x: remove_punc(x))\n",
    "cd"
   ]
  },
  {
   "cell_type": "code",
   "execution_count": 14,
   "metadata": {
    "colab": {
     "base_uri": "https://localhost:8080/"
    },
    "id": "6bF-As0qMh-W",
    "outputId": "c001746f-0030-456d-85a4-5db2c478679a",
    "scrolled": true
   },
   "outputs": [
    {
     "name": "stderr",
     "output_type": "stream",
     "text": [
      "[nltk_data] Downloading package punkt to\n",
      "[nltk_data]     C:\\Users\\Nahid\\AppData\\Roaming\\nltk_data...\n",
      "[nltk_data]   Package punkt is already up-to-date!\n"
     ]
    }
   ],
   "source": [
    "#tokenization\n",
    "import nltk\n",
    "nltk.download('punkt')\n",
    "cd['new'] = cd.apply(lambda row: nltk.word_tokenize(row['comment']), axis=1)"
   ]
  },
  {
   "cell_type": "code",
   "execution_count": 15,
   "metadata": {
    "colab": {
     "base_uri": "https://localhost:8080/",
     "height": 424
    },
    "id": "bk3jC7pRNC4V",
    "outputId": "b10bf699-68df-430c-b521-cccf248b975f"
   },
   "outputs": [
    {
     "data": {
      "text/html": [
       "<div>\n",
       "<style scoped>\n",
       "    .dataframe tbody tr th:only-of-type {\n",
       "        vertical-align: middle;\n",
       "    }\n",
       "\n",
       "    .dataframe tbody tr th {\n",
       "        vertical-align: top;\n",
       "    }\n",
       "\n",
       "    .dataframe thead th {\n",
       "        text-align: right;\n",
       "    }\n",
       "</style>\n",
       "<table border=\"1\" class=\"dataframe\">\n",
       "  <thead>\n",
       "    <tr style=\"text-align: right;\">\n",
       "      <th></th>\n",
       "      <th>comment</th>\n",
       "      <th>Prediction</th>\n",
       "      <th>Clean</th>\n",
       "      <th>new</th>\n",
       "    </tr>\n",
       "  </thead>\n",
       "  <tbody>\n",
       "    <tr>\n",
       "      <th>0</th>\n",
       "      <td>ওই হালার পুত এখন কি মদ খাওয়ার সময় রাতের বেলা...</td>\n",
       "      <td>1</td>\n",
       "      <td>None</td>\n",
       "      <td>[ওই, হালার, পুত, এখন, কি, মদ, খাওয়ার, সময়, র...</td>\n",
       "    </tr>\n",
       "    <tr>\n",
       "      <th>1</th>\n",
       "      <td>ঘরে বসে শুট করতে কেমন লেগেছে? ক্যামেরাতে কে ছি...</td>\n",
       "      <td>0</td>\n",
       "      <td>None</td>\n",
       "      <td>[ঘরে, বসে, শুট, করতে, কেমন, লেগেছে, ?, ক্যামের...</td>\n",
       "    </tr>\n",
       "    <tr>\n",
       "      <th>2</th>\n",
       "      <td>অরে বাবা, এই টা কোন পাগল????</td>\n",
       "      <td>0</td>\n",
       "      <td>None</td>\n",
       "      <td>[অরে, বাবা, ,, এই, টা, কোন, পাগল, ?, ?, ?, ?]</td>\n",
       "    </tr>\n",
       "    <tr>\n",
       "      <th>3</th>\n",
       "      <td>ক্যাপ্টেন অফ বাংলাদেশ</td>\n",
       "      <td>0</td>\n",
       "      <td>None</td>\n",
       "      <td>[ক্যাপ্টেন, অফ, বাংলাদেশ]</td>\n",
       "    </tr>\n",
       "    <tr>\n",
       "      <th>4</th>\n",
       "      <td>পটকা মাছ</td>\n",
       "      <td>1</td>\n",
       "      <td>None</td>\n",
       "      <td>[পটকা, মাছ]</td>\n",
       "    </tr>\n",
       "    <tr>\n",
       "      <th>...</th>\n",
       "      <td>...</td>\n",
       "      <td>...</td>\n",
       "      <td>...</td>\n",
       "      <td>...</td>\n",
       "    </tr>\n",
       "    <tr>\n",
       "      <th>43996</th>\n",
       "      <td>হিরো আলম,, এগিয়ে যাও</td>\n",
       "      <td>0</td>\n",
       "      <td>None</td>\n",
       "      <td>[হিরো, আলম, ,, ,, এগিয়ে, যাও]</td>\n",
       "    </tr>\n",
       "    <tr>\n",
       "      <th>43997</th>\n",
       "      <td>হিরো আলমকে সাপোর্ট দেওয়ার জন্য অসংখ্য ধন্যবাদ...</td>\n",
       "      <td>0</td>\n",
       "      <td>None</td>\n",
       "      <td>[হিরো, আলমকে, সাপোর্ট, দেওয়ার, জন্য, অসংখ্য, ...</td>\n",
       "    </tr>\n",
       "    <tr>\n",
       "      <th>43998</th>\n",
       "      <td>হিরো ভাই তুমি এগিয়ে য়াও</td>\n",
       "      <td>0</td>\n",
       "      <td>None</td>\n",
       "      <td>[হিরো, ভাই, তুমি, এগিয়ে, য়াও]</td>\n",
       "    </tr>\n",
       "    <tr>\n",
       "      <th>43999</th>\n",
       "      <td>হুম ভাও তোমরা এগিয়ে যাও আমরা তোমাদের পিছনে আছি</td>\n",
       "      <td>0</td>\n",
       "      <td>None</td>\n",
       "      <td>[হুম, ভাও, তোমরা, এগিয়ে, যাও, আমরা, তোমাদের, প...</td>\n",
       "    </tr>\n",
       "    <tr>\n",
       "      <th>44000</th>\n",
       "      <td>হ্যালো তোমাদের সাথে কি আমাকে চ্যাট করবে</td>\n",
       "      <td>0</td>\n",
       "      <td>None</td>\n",
       "      <td>[হ্যালো, তোমাদের, সাথে, কি, আমাকে, চ্যাট, করবে]</td>\n",
       "    </tr>\n",
       "  </tbody>\n",
       "</table>\n",
       "<p>44001 rows × 4 columns</p>\n",
       "</div>"
      ],
      "text/plain": [
       "                                                 comment  Prediction Clean  \\\n",
       "0      ওই হালার পুত এখন কি মদ খাওয়ার সময় রাতের বেলা...           1  None   \n",
       "1      ঘরে বসে শুট করতে কেমন লেগেছে? ক্যামেরাতে কে ছি...           0  None   \n",
       "2                           অরে বাবা, এই টা কোন পাগল????           0  None   \n",
       "3                                  ক্যাপ্টেন অফ বাংলাদেশ           0  None   \n",
       "4                                               পটকা মাছ           1  None   \n",
       "...                                                  ...         ...   ...   \n",
       "43996                               হিরো আলম,, এগিয়ে যাও           0  None   \n",
       "43997  হিরো আলমকে সাপোর্ট দেওয়ার জন্য অসংখ্য ধন্যবাদ...           0  None   \n",
       "43998                            হিরো ভাই তুমি এগিয়ে য়াও           0  None   \n",
       "43999     হুম ভাও তোমরা এগিয়ে যাও আমরা তোমাদের পিছনে আছি           0  None   \n",
       "44000            হ্যালো তোমাদের সাথে কি আমাকে চ্যাট করবে           0  None   \n",
       "\n",
       "                                                     new  \n",
       "0      [ওই, হালার, পুত, এখন, কি, মদ, খাওয়ার, সময়, র...  \n",
       "1      [ঘরে, বসে, শুট, করতে, কেমন, লেগেছে, ?, ক্যামের...  \n",
       "2          [অরে, বাবা, ,, এই, টা, কোন, পাগল, ?, ?, ?, ?]  \n",
       "3                              [ক্যাপ্টেন, অফ, বাংলাদেশ]  \n",
       "4                                            [পটকা, মাছ]  \n",
       "...                                                  ...  \n",
       "43996                      [হিরো, আলম, ,, ,, এগিয়ে, যাও]  \n",
       "43997  [হিরো, আলমকে, সাপোর্ট, দেওয়ার, জন্য, অসংখ্য, ...  \n",
       "43998                      [হিরো, ভাই, তুমি, এগিয়ে, য়াও]  \n",
       "43999  [হুম, ভাও, তোমরা, এগিয়ে, যাও, আমরা, তোমাদের, প...  \n",
       "44000    [হ্যালো, তোমাদের, সাথে, কি, আমাকে, চ্যাট, করবে]  \n",
       "\n",
       "[44001 rows x 4 columns]"
      ]
     },
     "execution_count": 15,
     "metadata": {},
     "output_type": "execute_result"
    }
   ],
   "source": [
    "cd"
   ]
  },
  {
   "cell_type": "code",
   "execution_count": 16,
   "metadata": {
    "colab": {
     "base_uri": "https://localhost:8080/"
    },
    "id": "3jAh4MP_NIi9",
    "outputId": "2140a2d1-ec2d-488c-891c-90a091066cb7"
   },
   "outputs": [
    {
     "data": {
      "text/plain": [
       "['অতএব',\n",
       " 'অথচ',\n",
       " 'অথবা',\n",
       " 'অনুযায়ী',\n",
       " 'অনেক',\n",
       " 'অনেকে',\n",
       " 'অনেকেই',\n",
       " 'অন্তত',\n",
       " 'অন্য',\n",
       " 'অবধি',\n",
       " 'অবশ্য',\n",
       " 'অর্থাত',\n",
       " 'আই',\n",
       " 'আগামী',\n",
       " 'আগে',\n",
       " 'আগেই',\n",
       " 'আছে',\n",
       " 'আজ',\n",
       " 'আদ্যভাগে',\n",
       " 'আপনার',\n",
       " 'আপনি',\n",
       " 'আবার',\n",
       " 'আমরা',\n",
       " 'আমাকে',\n",
       " 'আমাদের',\n",
       " 'আমার',\n",
       " 'আমি',\n",
       " 'আর',\n",
       " 'আরও',\n",
       " 'ই',\n",
       " 'ইত্যাদি',\n",
       " 'ইহা',\n",
       " 'উচিত',\n",
       " 'উত্তর',\n",
       " 'উনি',\n",
       " 'উপর',\n",
       " 'উপরে',\n",
       " 'এ',\n",
       " 'এঁদের',\n",
       " 'এঁরা',\n",
       " 'এই',\n",
       " 'একই',\n",
       " 'একটি',\n",
       " 'একবার',\n",
       " 'একে',\n",
       " 'এক্',\n",
       " 'এখন',\n",
       " 'এখনও',\n",
       " 'এখানে',\n",
       " 'এখানেই',\n",
       " 'এটা',\n",
       " 'এটাই',\n",
       " 'এটি',\n",
       " 'এত',\n",
       " 'এতটাই',\n",
       " 'এতে',\n",
       " 'এদের',\n",
       " 'এব',\n",
       " 'এবং',\n",
       " 'এবার',\n",
       " 'এমন',\n",
       " 'এমনকী',\n",
       " 'এমনি',\n",
       " 'এর',\n",
       " 'এরা',\n",
       " 'এল',\n",
       " 'এস',\n",
       " 'এসে',\n",
       " 'ঐ',\n",
       " 'ও',\n",
       " 'ওঁদের',\n",
       " 'ওঁর',\n",
       " 'ওঁরা',\n",
       " 'ওই',\n",
       " 'ওকে',\n",
       " 'ওখানে',\n",
       " 'ওদের',\n",
       " 'ওর',\n",
       " 'ওরা',\n",
       " 'কখনও',\n",
       " 'কত',\n",
       " 'কবে',\n",
       " 'কমনে',\n",
       " 'কয়েক',\n",
       " 'কয়েকটি',\n",
       " 'করছে',\n",
       " 'করছেন',\n",
       " 'করতে',\n",
       " 'করবে',\n",
       " 'করবেন',\n",
       " 'করলে',\n",
       " 'করলেন',\n",
       " 'করা',\n",
       " 'করাই',\n",
       " 'করায়',\n",
       " 'করার',\n",
       " 'করি',\n",
       " 'করিতে',\n",
       " 'করিয়া',\n",
       " 'করিয়ে',\n",
       " 'করে',\n",
       " 'করেই',\n",
       " 'করেছিলেন',\n",
       " 'করেছে',\n",
       " 'করেছেন',\n",
       " 'করেন',\n",
       " 'কাউকে',\n",
       " 'কাছ',\n",
       " 'কাছে',\n",
       " 'কাজ',\n",
       " 'কাজে',\n",
       " 'কারও',\n",
       " 'কারণ',\n",
       " 'কি',\n",
       " 'কিংবা',\n",
       " 'কিছু',\n",
       " 'কিছুই',\n",
       " 'কিন্তু',\n",
       " 'কী',\n",
       " 'কে',\n",
       " 'কেউ',\n",
       " 'কেউই',\n",
       " 'কেখা',\n",
       " 'কেন',\n",
       " 'কোটি',\n",
       " 'কোন',\n",
       " 'কোনও',\n",
       " 'কোনো',\n",
       " 'ক্ষেত্রে',\n",
       " 'কয়েক',\n",
       " 'খুব',\n",
       " 'গিয়ে',\n",
       " 'গিয়েছে',\n",
       " 'গিয়ে',\n",
       " 'গুলি',\n",
       " 'গেছে',\n",
       " 'গেল',\n",
       " 'গেলে',\n",
       " 'গোটা',\n",
       " 'চলে',\n",
       " 'চান',\n",
       " 'চায়',\n",
       " 'চার',\n",
       " 'চালু',\n",
       " 'চেয়ে',\n",
       " 'চেষ্টা',\n",
       " 'ছাড়া',\n",
       " 'ছাড়াও',\n",
       " 'ছিল',\n",
       " 'ছিলেন',\n",
       " 'জন',\n",
       " 'জনকে',\n",
       " 'জনের',\n",
       " 'জন্য',\n",
       " 'জন্যওজে',\n",
       " 'জানতে',\n",
       " 'জানা',\n",
       " 'জানানো',\n",
       " 'জানায়',\n",
       " 'জানিয়ে',\n",
       " 'জানিয়েছে',\n",
       " 'জে',\n",
       " 'জ্নজন',\n",
       " 'টি',\n",
       " 'ঠিক',\n",
       " 'তখন',\n",
       " 'তত',\n",
       " 'তথা',\n",
       " 'তবু',\n",
       " 'তবে',\n",
       " 'তা',\n",
       " 'তাঁকে',\n",
       " 'তাঁদের',\n",
       " 'তাঁর',\n",
       " 'তাঁরা',\n",
       " 'তাঁাহারা',\n",
       " 'তাই',\n",
       " 'তাও',\n",
       " 'তাকে',\n",
       " 'তাতে',\n",
       " 'তাদের',\n",
       " 'তার',\n",
       " 'তারপর',\n",
       " 'তারা',\n",
       " 'তারৈ',\n",
       " 'তাহলে',\n",
       " 'তাহা',\n",
       " 'তাহাতে',\n",
       " 'তাহার',\n",
       " 'তিনঐ',\n",
       " 'তিনি',\n",
       " 'তিনিও',\n",
       " 'তুমি',\n",
       " 'তুলে',\n",
       " 'তেমন',\n",
       " 'তো',\n",
       " 'তোমার',\n",
       " 'থাকবে',\n",
       " 'থাকবেন',\n",
       " 'থাকা',\n",
       " 'থাকায়',\n",
       " 'থাকে',\n",
       " 'থাকেন',\n",
       " 'থেকে',\n",
       " 'থেকেই',\n",
       " 'থেকেও',\n",
       " 'দিকে',\n",
       " 'দিতে',\n",
       " 'দিন',\n",
       " 'দিয়ে',\n",
       " 'দিয়েছে',\n",
       " 'দিয়েছেন',\n",
       " 'দিলেন',\n",
       " 'দু',\n",
       " 'দুই',\n",
       " 'দুটি',\n",
       " 'দুটো',\n",
       " 'দেওয়া',\n",
       " 'দেওয়ার',\n",
       " 'দেওয়া',\n",
       " 'দেখতে',\n",
       " 'দেখা',\n",
       " 'দেখে',\n",
       " 'দেন',\n",
       " 'দেয়',\n",
       " 'দ্বারা',\n",
       " 'ধরা',\n",
       " 'ধরে',\n",
       " 'ধামার',\n",
       " 'নতুন',\n",
       " 'নয়',\n",
       " 'না',\n",
       " 'নাই',\n",
       " 'নাকি',\n",
       " 'নাগাদ',\n",
       " 'নানা',\n",
       " 'নিজে',\n",
       " 'নিজেই',\n",
       " 'নিজেদের',\n",
       " 'নিজের',\n",
       " 'নিতে',\n",
       " 'নিয়ে',\n",
       " 'নিয়ে',\n",
       " 'নেই',\n",
       " 'নেওয়া',\n",
       " 'নেওয়ার',\n",
       " 'নেওয়া',\n",
       " 'নয়',\n",
       " 'পক্ষে',\n",
       " 'পর',\n",
       " 'পরে',\n",
       " 'পরেই',\n",
       " 'পরেও',\n",
       " 'পর্যন্ত',\n",
       " 'পাওয়া',\n",
       " 'পাচ',\n",
       " 'পারি',\n",
       " 'পারে',\n",
       " 'পারেন',\n",
       " 'পি',\n",
       " 'পেয়ে',\n",
       " 'পেয়্র্',\n",
       " 'প্রতি',\n",
       " 'প্রথম',\n",
       " 'প্রভৃতি',\n",
       " 'প্রযন্ত',\n",
       " 'প্রাথমিক',\n",
       " 'প্রায়',\n",
       " 'প্রায়',\n",
       " 'ফলে',\n",
       " 'ফিরে',\n",
       " 'ফের',\n",
       " 'বক্তব্য',\n",
       " 'বদলে',\n",
       " 'বন',\n",
       " 'বরং',\n",
       " 'বলতে',\n",
       " 'বলল',\n",
       " 'বললেন',\n",
       " 'বলা',\n",
       " 'বলে',\n",
       " 'বলেছেন',\n",
       " 'বলেন',\n",
       " 'বসে',\n",
       " 'বহু',\n",
       " 'বা',\n",
       " 'বাদে',\n",
       " 'বার',\n",
       " 'বি',\n",
       " 'বিনা',\n",
       " 'বিভিন্ন',\n",
       " 'বিশেষ',\n",
       " 'বিষয়টি',\n",
       " 'বেশ',\n",
       " 'বেশি',\n",
       " 'ব্যবহার',\n",
       " 'ব্যাপারে',\n",
       " 'ভাবে',\n",
       " 'ভাবেই',\n",
       " 'মতো',\n",
       " 'মতোই',\n",
       " 'মধ্যভাগে',\n",
       " 'মধ্যে',\n",
       " 'মধ্যেই',\n",
       " 'মধ্যেও',\n",
       " 'মনে',\n",
       " 'মাত্র',\n",
       " 'মাধ্যমে',\n",
       " 'মোট',\n",
       " 'মোটেই',\n",
       " 'যখন',\n",
       " 'যত',\n",
       " 'যতটা',\n",
       " 'যথেষ্ট',\n",
       " 'যদি',\n",
       " 'যদিও',\n",
       " 'যা',\n",
       " 'যাঁর',\n",
       " 'যাঁরা',\n",
       " 'যাওয়া',\n",
       " 'যাওয়ার',\n",
       " 'যাওয়া',\n",
       " 'যাকে',\n",
       " 'যাচ্ছে',\n",
       " 'যাতে',\n",
       " 'যাদের',\n",
       " 'যান',\n",
       " 'যাবে',\n",
       " 'যায়',\n",
       " 'যার',\n",
       " 'যারা',\n",
       " 'যিনি',\n",
       " 'যে',\n",
       " 'যেখানে',\n",
       " 'যেতে',\n",
       " 'যেন',\n",
       " 'যেমন',\n",
       " 'র',\n",
       " 'রকম',\n",
       " 'রয়েছে',\n",
       " 'রাখা',\n",
       " 'রেখে',\n",
       " 'লক্ষ',\n",
       " 'শুধু',\n",
       " 'শুরু',\n",
       " 'সঙ্গে',\n",
       " 'সঙ্গেও',\n",
       " 'সব',\n",
       " 'সবার',\n",
       " 'সমস্ত',\n",
       " 'সম্প্রতি',\n",
       " 'সহ',\n",
       " 'সহিত',\n",
       " 'সাধারণ',\n",
       " 'সামনে',\n",
       " 'সি',\n",
       " 'সুতরাং',\n",
       " 'সে',\n",
       " 'সেই',\n",
       " 'সেখান',\n",
       " 'সেখানে',\n",
       " 'সেটা',\n",
       " 'সেটাই',\n",
       " 'সেটাও',\n",
       " 'সেটি',\n",
       " 'স্পষ্ট',\n",
       " 'স্বয়ং',\n",
       " 'হইতে',\n",
       " 'হইবে',\n",
       " 'হইয়া',\n",
       " 'হওয়া',\n",
       " 'হওয়ায়',\n",
       " 'হওয়ার',\n",
       " 'হচ্ছে',\n",
       " 'হত',\n",
       " 'হতে',\n",
       " 'হতেই',\n",
       " 'হন',\n",
       " 'হবে',\n",
       " 'হবেন',\n",
       " 'হয়',\n",
       " 'হয়তো',\n",
       " 'হয়নি',\n",
       " 'হয়ে',\n",
       " 'হয়েই',\n",
       " 'হয়েছিল',\n",
       " 'হয়েছে',\n",
       " 'হয়েছেন',\n",
       " 'হল',\n",
       " 'হলে',\n",
       " 'হলেই',\n",
       " 'হলেও',\n",
       " 'হলো',\n",
       " 'হাজার',\n",
       " 'হিসাবে',\n",
       " 'হৈলে',\n",
       " 'হোক',\n",
       " 'হয়']"
      ]
     },
     "execution_count": 16,
     "metadata": {},
     "output_type": "execute_result"
    }
   ],
   "source": [
    "#Stopword\n",
    "stopwords=\"অতএব অথচ অথবা অনুযায়ী অনেক অনেকে অনেকেই অন্তত অন্য অবধি অবশ্য অর্থাত আই আগামী আগে আগেই আছে আজ আদ্যভাগে আপনার আপনি আবার আমরা আমাকে আমাদের আমার আমি আর আরও ই ইত্যাদি ইহা উচিত উত্তর উনি উপর উপরে এ এঁদের এঁরা এই একই একটি একবার একে এক্ এখন এখনও এখানে এখানেই এটা এটাই এটি এত এতটাই এতে এদের এব এবং এবার এমন এমনকী এমনি এর এরা এল এস এসে ঐ ও ওঁদের ওঁর ওঁরা ওই ওকে ওখানে ওদের ওর ওরা কখনও কত কবে কমনে কয়েক কয়েকটি করছে করছেন করতে করবে করবেন করলে করলেন করা করাই করায় করার করি করিতে করিয়া করিয়ে করে করেই করেছিলেন করেছে করেছেন করেন কাউকে কাছ কাছে কাজ কাজে কারও কারণ কি কিংবা কিছু কিছুই কিন্তু কী কে কেউ কেউই কেখা কেন কোটি কোন কোনও কোনো ক্ষেত্রে কয়েক খুব গিয়ে গিয়েছে গিয়ে গুলি গেছে গেল গেলে গোটা চলে চান চায় চার চালু চেয়ে চেষ্টা ছাড়া ছাড়াও ছিল ছিলেন জন জনকে জনের জন্য জন্যওজে জানতে জানা জানানো জানায় জানিয়ে জানিয়েছে জে জ্নজন টি ঠিক তখন তত তথা তবু তবে তা তাঁকে তাঁদের তাঁর তাঁরা তাঁাহারা তাই তাও তাকে তাতে তাদের তার তারপর তারা তারৈ তাহলে তাহা তাহাতে তাহার তিনঐ তিনি তিনিও তুমি তুলে তেমন তো তোমার থাকবে থাকবেন থাকা থাকায় থাকে থাকেন থেকে থেকেই থেকেও দিকে দিতে দিন দিয়ে দিয়েছে দিয়েছেন দিলেন দু দুই দুটি দুটো দেওয়া দেওয়ার দেওয়া দেখতে দেখা দেখে দেন দেয় দ্বারা ধরা ধরে ধামার নতুন নয় না নাই নাকি নাগাদ নানা নিজে নিজেই নিজেদের নিজের নিতে নিয়ে নিয়ে নেই নেওয়া নেওয়ার নেওয়া নয় পক্ষে পর পরে পরেই পরেও পর্যন্ত পাওয়া পাচ পারি পারে পারেন পি পেয়ে পেয়্র্ প্রতি প্রথম প্রভৃতি প্রযন্ত প্রাথমিক প্রায় প্রায় ফলে ফিরে ফের বক্তব্য বদলে বন বরং বলতে বলল বললেন বলা বলে বলেছেন বলেন বসে বহু বা বাদে বার বি বিনা বিভিন্ন বিশেষ বিষয়টি বেশ বেশি ব্যবহার ব্যাপারে ভাবে ভাবেই মতো মতোই মধ্যভাগে মধ্যে মধ্যেই মধ্যেও মনে মাত্র মাধ্যমে মোট মোটেই যখন যত যতটা যথেষ্ট যদি যদিও যা যাঁর যাঁরা যাওয়া যাওয়ার যাওয়া যাকে যাচ্ছে যাতে যাদের যান যাবে যায় যার যারা যিনি যে যেখানে যেতে যেন যেমন র রকম রয়েছে রাখা রেখে লক্ষ শুধু শুরু সঙ্গে সঙ্গেও সব সবার সমস্ত সম্প্রতি সহ সহিত সাধারণ সামনে সি সুতরাং সে সেই সেখান সেখানে সেটা সেটাই সেটাও সেটি স্পষ্ট স্বয়ং হইতে হইবে হইয়া হওয়া হওয়ায় হওয়ার হচ্ছে হত হতে হতেই হন হবে হবেন হয় হয়তো হয়নি হয়ে হয়েই হয়েছিল হয়েছে হয়েছেন হল হলে হলেই হলেও হলো হাজার হিসাবে হৈলে হোক হয়\"\n",
    "doc=stopwords.split()\n",
    "doc\n"
   ]
  },
  {
   "cell_type": "code",
   "execution_count": 17,
   "metadata": {
    "id": "7oTAERYjdSXX"
   },
   "outputs": [],
   "source": [
    "def reomve_stopwrds(text):\n",
    "    text=[word for word in text if word not in doc]\n",
    "    return text"
   ]
  },
  {
   "cell_type": "code",
   "execution_count": 18,
   "metadata": {
    "colab": {
     "base_uri": "https://localhost:8080/",
     "height": 572
    },
    "id": "vHCA-1HrdAo8",
    "outputId": "662c6725-136e-4325-c808-e6e9570830e9"
   },
   "outputs": [
    {
     "data": {
      "text/html": [
       "<div>\n",
       "<style scoped>\n",
       "    .dataframe tbody tr th:only-of-type {\n",
       "        vertical-align: middle;\n",
       "    }\n",
       "\n",
       "    .dataframe tbody tr th {\n",
       "        vertical-align: top;\n",
       "    }\n",
       "\n",
       "    .dataframe thead th {\n",
       "        text-align: right;\n",
       "    }\n",
       "</style>\n",
       "<table border=\"1\" class=\"dataframe\">\n",
       "  <thead>\n",
       "    <tr style=\"text-align: right;\">\n",
       "      <th></th>\n",
       "      <th>comment</th>\n",
       "      <th>Prediction</th>\n",
       "      <th>Clean</th>\n",
       "      <th>new</th>\n",
       "      <th>cmt_r_wrds</th>\n",
       "    </tr>\n",
       "  </thead>\n",
       "  <tbody>\n",
       "    <tr>\n",
       "      <th>0</th>\n",
       "      <td>ওই হালার পুত এখন কি মদ খাওয়ার সময় রাতের বেলা...</td>\n",
       "      <td>1</td>\n",
       "      <td>None</td>\n",
       "      <td>[ওই, হালার, পুত, এখন, কি, মদ, খাওয়ার, সময়, র...</td>\n",
       "      <td>[হালার, পুত, মদ, খাওয়ার, সময়, রাতের, বেলা, ম...</td>\n",
       "    </tr>\n",
       "    <tr>\n",
       "      <th>1</th>\n",
       "      <td>ঘরে বসে শুট করতে কেমন লেগেছে? ক্যামেরাতে কে ছি...</td>\n",
       "      <td>0</td>\n",
       "      <td>None</td>\n",
       "      <td>[ঘরে, বসে, শুট, করতে, কেমন, লেগেছে, ?, ক্যামের...</td>\n",
       "      <td>[ঘরে, শুট, কেমন, লেগেছে, ?, ক্যামেরাতে, ?]</td>\n",
       "    </tr>\n",
       "    <tr>\n",
       "      <th>2</th>\n",
       "      <td>অরে বাবা, এই টা কোন পাগল????</td>\n",
       "      <td>0</td>\n",
       "      <td>None</td>\n",
       "      <td>[অরে, বাবা, ,, এই, টা, কোন, পাগল, ?, ?, ?, ?]</td>\n",
       "      <td>[অরে, বাবা, ,, টা, পাগল, ?, ?, ?, ?]</td>\n",
       "    </tr>\n",
       "    <tr>\n",
       "      <th>3</th>\n",
       "      <td>ক্যাপ্টেন অফ বাংলাদেশ</td>\n",
       "      <td>0</td>\n",
       "      <td>None</td>\n",
       "      <td>[ক্যাপ্টেন, অফ, বাংলাদেশ]</td>\n",
       "      <td>[ক্যাপ্টেন, অফ, বাংলাদেশ]</td>\n",
       "    </tr>\n",
       "    <tr>\n",
       "      <th>4</th>\n",
       "      <td>পটকা মাছ</td>\n",
       "      <td>1</td>\n",
       "      <td>None</td>\n",
       "      <td>[পটকা, মাছ]</td>\n",
       "      <td>[পটকা, মাছ]</td>\n",
       "    </tr>\n",
       "    <tr>\n",
       "      <th>...</th>\n",
       "      <td>...</td>\n",
       "      <td>...</td>\n",
       "      <td>...</td>\n",
       "      <td>...</td>\n",
       "      <td>...</td>\n",
       "    </tr>\n",
       "    <tr>\n",
       "      <th>43996</th>\n",
       "      <td>হিরো আলম,, এগিয়ে যাও</td>\n",
       "      <td>0</td>\n",
       "      <td>None</td>\n",
       "      <td>[হিরো, আলম, ,, ,, এগিয়ে, যাও]</td>\n",
       "      <td>[হিরো, আলম, ,, ,, এগিয়ে, যাও]</td>\n",
       "    </tr>\n",
       "    <tr>\n",
       "      <th>43997</th>\n",
       "      <td>হিরো আলমকে সাপোর্ট দেওয়ার জন্য অসংখ্য ধন্যবাদ...</td>\n",
       "      <td>0</td>\n",
       "      <td>None</td>\n",
       "      <td>[হিরো, আলমকে, সাপোর্ট, দেওয়ার, জন্য, অসংখ্য, ...</td>\n",
       "      <td>[হিরো, আলমকে, সাপোর্ট, অসংখ্য, ধন্যবাদ, আপনাকে]</td>\n",
       "    </tr>\n",
       "    <tr>\n",
       "      <th>43998</th>\n",
       "      <td>হিরো ভাই তুমি এগিয়ে য়াও</td>\n",
       "      <td>0</td>\n",
       "      <td>None</td>\n",
       "      <td>[হিরো, ভাই, তুমি, এগিয়ে, য়াও]</td>\n",
       "      <td>[হিরো, ভাই, এগিয়ে, য়াও]</td>\n",
       "    </tr>\n",
       "    <tr>\n",
       "      <th>43999</th>\n",
       "      <td>হুম ভাও তোমরা এগিয়ে যাও আমরা তোমাদের পিছনে আছি</td>\n",
       "      <td>0</td>\n",
       "      <td>None</td>\n",
       "      <td>[হুম, ভাও, তোমরা, এগিয়ে, যাও, আমরা, তোমাদের, প...</td>\n",
       "      <td>[হুম, ভাও, তোমরা, এগিয়ে, যাও, তোমাদের, পিছনে, ...</td>\n",
       "    </tr>\n",
       "    <tr>\n",
       "      <th>44000</th>\n",
       "      <td>হ্যালো তোমাদের সাথে কি আমাকে চ্যাট করবে</td>\n",
       "      <td>0</td>\n",
       "      <td>None</td>\n",
       "      <td>[হ্যালো, তোমাদের, সাথে, কি, আমাকে, চ্যাট, করবে]</td>\n",
       "      <td>[হ্যালো, তোমাদের, সাথে, চ্যাট]</td>\n",
       "    </tr>\n",
       "  </tbody>\n",
       "</table>\n",
       "<p>44001 rows × 5 columns</p>\n",
       "</div>"
      ],
      "text/plain": [
       "                                                 comment  Prediction Clean  \\\n",
       "0      ওই হালার পুত এখন কি মদ খাওয়ার সময় রাতের বেলা...           1  None   \n",
       "1      ঘরে বসে শুট করতে কেমন লেগেছে? ক্যামেরাতে কে ছি...           0  None   \n",
       "2                           অরে বাবা, এই টা কোন পাগল????           0  None   \n",
       "3                                  ক্যাপ্টেন অফ বাংলাদেশ           0  None   \n",
       "4                                               পটকা মাছ           1  None   \n",
       "...                                                  ...         ...   ...   \n",
       "43996                               হিরো আলম,, এগিয়ে যাও           0  None   \n",
       "43997  হিরো আলমকে সাপোর্ট দেওয়ার জন্য অসংখ্য ধন্যবাদ...           0  None   \n",
       "43998                            হিরো ভাই তুমি এগিয়ে য়াও           0  None   \n",
       "43999     হুম ভাও তোমরা এগিয়ে যাও আমরা তোমাদের পিছনে আছি           0  None   \n",
       "44000            হ্যালো তোমাদের সাথে কি আমাকে চ্যাট করবে           0  None   \n",
       "\n",
       "                                                     new  \\\n",
       "0      [ওই, হালার, পুত, এখন, কি, মদ, খাওয়ার, সময়, র...   \n",
       "1      [ঘরে, বসে, শুট, করতে, কেমন, লেগেছে, ?, ক্যামের...   \n",
       "2          [অরে, বাবা, ,, এই, টা, কোন, পাগল, ?, ?, ?, ?]   \n",
       "3                              [ক্যাপ্টেন, অফ, বাংলাদেশ]   \n",
       "4                                            [পটকা, মাছ]   \n",
       "...                                                  ...   \n",
       "43996                      [হিরো, আলম, ,, ,, এগিয়ে, যাও]   \n",
       "43997  [হিরো, আলমকে, সাপোর্ট, দেওয়ার, জন্য, অসংখ্য, ...   \n",
       "43998                      [হিরো, ভাই, তুমি, এগিয়ে, য়াও]   \n",
       "43999  [হুম, ভাও, তোমরা, এগিয়ে, যাও, আমরা, তোমাদের, প...   \n",
       "44000    [হ্যালো, তোমাদের, সাথে, কি, আমাকে, চ্যাট, করবে]   \n",
       "\n",
       "                                              cmt_r_wrds  \n",
       "0      [হালার, পুত, মদ, খাওয়ার, সময়, রাতের, বেলা, ম...  \n",
       "1             [ঘরে, শুট, কেমন, লেগেছে, ?, ক্যামেরাতে, ?]  \n",
       "2                   [অরে, বাবা, ,, টা, পাগল, ?, ?, ?, ?]  \n",
       "3                              [ক্যাপ্টেন, অফ, বাংলাদেশ]  \n",
       "4                                            [পটকা, মাছ]  \n",
       "...                                                  ...  \n",
       "43996                      [হিরো, আলম, ,, ,, এগিয়ে, যাও]  \n",
       "43997    [হিরো, আলমকে, সাপোর্ট, অসংখ্য, ধন্যবাদ, আপনাকে]  \n",
       "43998                            [হিরো, ভাই, এগিয়ে, য়াও]  \n",
       "43999  [হুম, ভাও, তোমরা, এগিয়ে, যাও, তোমাদের, পিছনে, ...  \n",
       "44000                     [হ্যালো, তোমাদের, সাথে, চ্যাট]  \n",
       "\n",
       "[44001 rows x 5 columns]"
      ]
     },
     "execution_count": 18,
     "metadata": {},
     "output_type": "execute_result"
    }
   ],
   "source": [
    "cd['cmt_r_wrds']= cd['new'].apply(lambda x: reomve_stopwrds(x))\n",
    "cd"
   ]
  },
  {
   "cell_type": "code",
   "execution_count": 19,
   "metadata": {
    "id": "3fmeqwvSi8aB"
   },
   "outputs": [],
   "source": [
    "x=cd.iloc[:, 4]\n",
    "y=cd.iloc[:, 1]"
   ]
  },
  {
   "cell_type": "code",
   "execution_count": 20,
   "metadata": {
    "id": "AoUojdHGjjnU"
   },
   "outputs": [],
   "source": [
    "import gensim\n",
    "from gensim.models import Word2Vec\n",
    "model1 = gensim.models.Word2Vec(x,vector_size=100, window=5, min_count=1, workers=4)"
   ]
  },
  {
   "cell_type": "code",
   "execution_count": 21,
   "metadata": {
    "id": "iRUBISHBjtf2"
   },
   "outputs": [],
   "source": [
    "vec=model1.wv['জামাই']-model1.wv['আদর']+model1.wv['শালা']"
   ]
  },
  {
   "cell_type": "code",
   "execution_count": 22,
   "metadata": {
    "colab": {
     "base_uri": "https://localhost:8080/"
    },
    "id": "pPr0d3W7jzpi",
    "outputId": "3dc17336-99b8-4ec2-e701-8ab690312e19"
   },
   "outputs": [
    {
     "data": {
      "text/plain": [
       "[('শালা', 0.999618649482727),\n",
       " ('সালা', 0.9838600158691406),\n",
       " ('বেটা', 0.9805804491043091),\n",
       " ('কুওার', 0.9798876047134399),\n",
       " ('মাদারচোদ', 0.9797152876853943),\n",
       " ('পুত', 0.9780870079994202),\n",
       " ('বলদা', 0.9768692255020142),\n",
       " ('ব্যাটা', 0.9748429656028748),\n",
       " ('পোলা', 0.9728414416313171),\n",
       " ('সালার', 0.9725977778434753)]"
      ]
     },
     "execution_count": 22,
     "metadata": {},
     "output_type": "execute_result"
    }
   ],
   "source": [
    "model1.wv.most_similar([vec])"
   ]
  },
  {
   "cell_type": "code",
   "execution_count": 23,
   "metadata": {},
   "outputs": [
    {
     "name": "stdout",
     "output_type": "stream",
     "text": [
      "(44001, 74313)\n"
     ]
    },
    {
     "data": {
      "text/plain": [
       "<44001x74313 sparse matrix of type '<class 'numpy.int64'>'\n",
       "\twith 502161 stored elements in Compressed Sparse Row format>"
      ]
     },
     "execution_count": 23,
     "metadata": {},
     "output_type": "execute_result"
    }
   ],
   "source": [
    "from sklearn.feature_extraction.text import CountVectorizer\n",
    "vec = CountVectorizer(tokenizer=lambda doc1: doc1, lowercase=False)\n",
    "X = vec.fit_transform(x)\n",
    "print(X.shape)\n",
    "X\n",
    "#print(vec.get_feature_names())\n",
    "\n",
    "#from sklearn.feature_extraction.text import CountVectorizer \n",
    "#vectorizer =CountVectorizer(tokenizer=lambda doc: doc, lowercase=False).fit_transform(z)\n",
    "#X=vectorizer.toarray()\n",
    "#X[50]"
   ]
  },
  {
   "cell_type": "code",
   "execution_count": 24,
   "metadata": {},
   "outputs": [],
   "source": [
    "from sklearn.model_selection import train_test_split\n",
    "x_train,x_test,y_train,y_test=train_test_split(X,y,test_size=0.15,random_state = 1)"
   ]
  },
  {
   "cell_type": "markdown",
   "metadata": {},
   "source": [
    "# RF"
   ]
  },
  {
   "cell_type": "code",
   "execution_count": 25,
   "metadata": {},
   "outputs": [
    {
     "data": {
      "text/plain": [
       "array([0, 1, 0, ..., 0, 1, 0], dtype=int64)"
      ]
     },
     "execution_count": 25,
     "metadata": {},
     "output_type": "execute_result"
    }
   ],
   "source": [
    "from sklearn.ensemble import RandomForestClassifier\n",
    "rclf = RandomForestClassifier()\n",
    "rclf.fit(x_train,y_train)\n",
    "y_pred=rclf.predict(x_test)\n",
    "y_pred"
   ]
  },
  {
   "cell_type": "code",
   "execution_count": 26,
   "metadata": {},
   "outputs": [
    {
     "data": {
      "text/plain": [
       "array([[1995,  371],\n",
       "       [ 624, 3611]], dtype=int64)"
      ]
     },
     "execution_count": 26,
     "metadata": {},
     "output_type": "execute_result"
    }
   ],
   "source": [
    "from sklearn.metrics import classification_report,confusion_matrix\n",
    "cm=confusion_matrix(y_test,y_pred)\n",
    "cm"
   ]
  },
  {
   "cell_type": "code",
   "execution_count": 27,
   "metadata": {},
   "outputs": [
    {
     "name": "stdout",
     "output_type": "stream",
     "text": [
      "              precision    recall  f1-score   support\n",
      "\n",
      "           0       0.76      0.84      0.80      2366\n",
      "           1       0.91      0.85      0.88      4235\n",
      "\n",
      "    accuracy                           0.85      6601\n",
      "   macro avg       0.83      0.85      0.84      6601\n",
      "weighted avg       0.85      0.85      0.85      6601\n",
      "\n"
     ]
    }
   ],
   "source": [
    "print(classification_report(y_test,y_pred))"
   ]
  },
  {
   "cell_type": "code",
   "execution_count": 28,
   "metadata": {},
   "outputs": [
    {
     "data": {
      "text/plain": [
       "0.8492652628389638"
      ]
     },
     "execution_count": 28,
     "metadata": {},
     "output_type": "execute_result"
    }
   ],
   "source": [
    "from sklearn.metrics import accuracy_score\n",
    "acc=accuracy_score(y_test, y_pred)\n",
    "acc"
   ]
  },
  {
   "cell_type": "markdown",
   "metadata": {},
   "source": [
    "# SVM"
   ]
  },
  {
   "cell_type": "code",
   "execution_count": 29,
   "metadata": {},
   "outputs": [],
   "source": [
    "x_train,x_test,y_train,y_test=train_test_split(X,y,test_size=0.15,random_state = 2)"
   ]
  },
  {
   "cell_type": "code",
   "execution_count": 30,
   "metadata": {},
   "outputs": [
    {
     "data": {
      "text/plain": [
       "array([1, 1, 0, ..., 1, 1, 0], dtype=int64)"
      ]
     },
     "execution_count": 30,
     "metadata": {},
     "output_type": "execute_result"
    }
   ],
   "source": [
    "from sklearn import svm\n",
    "SVM = svm.SVC(kernel='linear')\n",
    "#C=1.0, kernel='rbf', degree=3, gamma='scale', coef0=0.0, shrinking=True, probability=True, tol=0.001, cache_size=200, class_weight=None, verbose=False, max_iter=-1, decision_function_shape='ovr', break_ties=False, random_state=None\n",
    "SVM.fit(x_train, y_train)\n",
    "#predict the labels on validation dataset\n",
    "y_pred = SVM.predict(x_test)\n",
    "y_pred"
   ]
  },
  {
   "cell_type": "code",
   "execution_count": 31,
   "metadata": {},
   "outputs": [
    {
     "data": {
      "text/plain": [
       "array([[1995,  354],\n",
       "       [ 501, 3751]], dtype=int64)"
      ]
     },
     "execution_count": 31,
     "metadata": {},
     "output_type": "execute_result"
    }
   ],
   "source": [
    "from sklearn.metrics import classification_report,confusion_matrix\n",
    "cm=confusion_matrix(y_test,y_pred)\n",
    "cm"
   ]
  },
  {
   "cell_type": "code",
   "execution_count": 32,
   "metadata": {},
   "outputs": [
    {
     "name": "stdout",
     "output_type": "stream",
     "text": [
      "              precision    recall  f1-score   support\n",
      "\n",
      "           0       0.80      0.85      0.82      2349\n",
      "           1       0.91      0.88      0.90      4252\n",
      "\n",
      "    accuracy                           0.87      6601\n",
      "   macro avg       0.86      0.87      0.86      6601\n",
      "weighted avg       0.87      0.87      0.87      6601\n",
      "\n"
     ]
    }
   ],
   "source": [
    "print(classification_report(y_test,y_pred))"
   ]
  },
  {
   "cell_type": "code",
   "execution_count": 33,
   "metadata": {},
   "outputs": [
    {
     "data": {
      "text/plain": [
       "0.8704741705802151"
      ]
     },
     "execution_count": 33,
     "metadata": {},
     "output_type": "execute_result"
    }
   ],
   "source": [
    "from sklearn.metrics import accuracy_score\n",
    "acc=accuracy_score(y_test, y_pred)\n",
    "acc"
   ]
  },
  {
   "cell_type": "markdown",
   "metadata": {},
   "source": [
    "# DT"
   ]
  },
  {
   "cell_type": "code",
   "execution_count": 34,
   "metadata": {},
   "outputs": [
    {
     "data": {
      "text/plain": [
       "array([0, 1, 1, ..., 1, 1, 0], dtype=int64)"
      ]
     },
     "execution_count": 34,
     "metadata": {},
     "output_type": "execute_result"
    }
   ],
   "source": [
    "from sklearn.tree import DecisionTreeClassifier\n",
    "dtree = DecisionTreeClassifier()\n",
    "dtree.fit(x_train,y_train)\n",
    "y_pred=dtree.predict(x_test)\n",
    "y_pred"
   ]
  },
  {
   "cell_type": "code",
   "execution_count": 35,
   "metadata": {},
   "outputs": [
    {
     "data": {
      "text/plain": [
       "array([[1924,  425],\n",
       "       [ 654, 3598]], dtype=int64)"
      ]
     },
     "execution_count": 35,
     "metadata": {},
     "output_type": "execute_result"
    }
   ],
   "source": [
    "from sklearn.metrics import classification_report,confusion_matrix\n",
    "cm=confusion_matrix(y_test,y_pred)\n",
    "cm"
   ]
  },
  {
   "cell_type": "code",
   "execution_count": 36,
   "metadata": {},
   "outputs": [
    {
     "name": "stdout",
     "output_type": "stream",
     "text": [
      "              precision    recall  f1-score   support\n",
      "\n",
      "           0       0.75      0.82      0.78      2349\n",
      "           1       0.89      0.85      0.87      4252\n",
      "\n",
      "    accuracy                           0.84      6601\n",
      "   macro avg       0.82      0.83      0.83      6601\n",
      "weighted avg       0.84      0.84      0.84      6601\n",
      "\n"
     ]
    }
   ],
   "source": [
    "print(classification_report(y_test,y_pred))"
   ]
  },
  {
   "cell_type": "code",
   "execution_count": 37,
   "metadata": {},
   "outputs": [
    {
     "data": {
      "text/plain": [
       "0.836539918194213"
      ]
     },
     "execution_count": 37,
     "metadata": {},
     "output_type": "execute_result"
    }
   ],
   "source": [
    "from sklearn.metrics import accuracy_score\n",
    "acc=accuracy_score(y_test, y_pred)\n",
    "acc"
   ]
  },
  {
   "cell_type": "markdown",
   "metadata": {},
   "source": [
    "# MLP"
   ]
  },
  {
   "cell_type": "code",
   "execution_count": 38,
   "metadata": {},
   "outputs": [
    {
     "data": {
      "text/plain": [
       "array([0, 1, 0, ..., 1, 1, 0], dtype=int64)"
      ]
     },
     "execution_count": 38,
     "metadata": {},
     "output_type": "execute_result"
    }
   ],
   "source": [
    "from sklearn.neural_network import MLPClassifier\n",
    "clf = MLPClassifier(hidden_layer_sizes=50, activation='relu',max_iter=100)\n",
    "clf.fit(x_train, y_train)\n",
    "y_pred = clf.predict(x_test)\n",
    "y_pred"
   ]
  },
  {
   "cell_type": "code",
   "execution_count": 39,
   "metadata": {},
   "outputs": [
    {
     "data": {
      "text/plain": [
       "array([[1946,  403],\n",
       "       [ 595, 3657]], dtype=int64)"
      ]
     },
     "execution_count": 39,
     "metadata": {},
     "output_type": "execute_result"
    }
   ],
   "source": [
    "from sklearn.metrics import classification_report,confusion_matrix\n",
    "cm=confusion_matrix(y_test,y_pred)\n",
    "cm"
   ]
  },
  {
   "cell_type": "code",
   "execution_count": 40,
   "metadata": {},
   "outputs": [
    {
     "name": "stdout",
     "output_type": "stream",
     "text": [
      "              precision    recall  f1-score   support\n",
      "\n",
      "           0       0.77      0.83      0.80      2349\n",
      "           1       0.90      0.86      0.88      4252\n",
      "\n",
      "    accuracy                           0.85      6601\n",
      "   macro avg       0.83      0.84      0.84      6601\n",
      "weighted avg       0.85      0.85      0.85      6601\n",
      "\n"
     ]
    }
   ],
   "source": [
    "print(classification_report(y_test,y_pred))"
   ]
  },
  {
   "cell_type": "code",
   "execution_count": 41,
   "metadata": {},
   "outputs": [
    {
     "data": {
      "text/plain": [
       "0.8488107862445085"
      ]
     },
     "execution_count": 41,
     "metadata": {},
     "output_type": "execute_result"
    }
   ],
   "source": [
    "from sklearn.metrics import accuracy_score\n",
    "acc=accuracy_score(y_test, y_pred)\n",
    "acc"
   ]
  },
  {
   "cell_type": "markdown",
   "metadata": {},
   "source": [
    "# KNN"
   ]
  },
  {
   "cell_type": "code",
   "execution_count": 42,
   "metadata": {},
   "outputs": [],
   "source": [
    "x_train,x_test,y_train,y_test=train_test_split(X,y,test_size=0.15,random_state = 1)"
   ]
  },
  {
   "cell_type": "code",
   "execution_count": 43,
   "metadata": {},
   "outputs": [
    {
     "data": {
      "text/plain": [
       "array([0, 0, 0, ..., 0, 0, 0], dtype=int64)"
      ]
     },
     "execution_count": 43,
     "metadata": {},
     "output_type": "execute_result"
    }
   ],
   "source": [
    "from sklearn.neighbors import KNeighborsClassifier \n",
    "knn = KNeighborsClassifier(n_neighbors=1)\n",
    "knn.fit(x_train,y_train)\n",
    "y_pred=knn.predict(x_test)\n",
    "y_pred"
   ]
  },
  {
   "cell_type": "code",
   "execution_count": 44,
   "metadata": {},
   "outputs": [
    {
     "name": "stdout",
     "output_type": "stream",
     "text": [
      "              precision    recall  f1-score   support\n",
      "\n",
      "           0       0.58      0.87      0.69      2366\n",
      "           1       0.90      0.65      0.75      4235\n",
      "\n",
      "    accuracy                           0.73      6601\n",
      "   macro avg       0.74      0.76      0.72      6601\n",
      "weighted avg       0.78      0.73      0.73      6601\n",
      "\n"
     ]
    }
   ],
   "source": [
    "print(classification_report(y_test,y_pred))"
   ]
  },
  {
   "cell_type": "code",
   "execution_count": 45,
   "metadata": {},
   "outputs": [
    {
     "data": {
      "text/plain": [
       "0.7257991213452507"
      ]
     },
     "execution_count": 45,
     "metadata": {},
     "output_type": "execute_result"
    }
   ],
   "source": [
    "from sklearn.metrics import accuracy_score\n",
    "acc=accuracy_score(y_test, y_pred)\n",
    "acc"
   ]
  },
  {
   "cell_type": "markdown",
   "metadata": {},
   "source": [
    "# ADa"
   ]
  },
  {
   "cell_type": "code",
   "execution_count": 46,
   "metadata": {},
   "outputs": [],
   "source": [
    "x_train,x_test,y_train,y_test=train_test_split(X,y,test_size=0.15,random_state = 1)"
   ]
  },
  {
   "cell_type": "code",
   "execution_count": 47,
   "metadata": {},
   "outputs": [
    {
     "data": {
      "text/plain": [
       "array([1, 1, 1, ..., 1, 1, 1], dtype=int64)"
      ]
     },
     "execution_count": 47,
     "metadata": {},
     "output_type": "execute_result"
    }
   ],
   "source": [
    "#Create adaboost classifer object\n",
    "from sklearn.ensemble import AdaBoostClassifier\n",
    "abc = AdaBoostClassifier()\n",
    "model = abc.fit(x_train, y_train)\n",
    "y_pred = model.predict(x_test)\n",
    "y_pred"
   ]
  },
  {
   "cell_type": "code",
   "execution_count": 48,
   "metadata": {},
   "outputs": [
    {
     "data": {
      "text/plain": [
       "array([[ 823, 1543],\n",
       "       [ 101, 4134]], dtype=int64)"
      ]
     },
     "execution_count": 48,
     "metadata": {},
     "output_type": "execute_result"
    }
   ],
   "source": [
    "from sklearn.metrics import classification_report,confusion_matrix\n",
    "cm=confusion_matrix(y_test,y_pred)\n",
    "cm"
   ]
  },
  {
   "cell_type": "code",
   "execution_count": 49,
   "metadata": {},
   "outputs": [
    {
     "name": "stdout",
     "output_type": "stream",
     "text": [
      "              precision    recall  f1-score   support\n",
      "\n",
      "           0       0.89      0.35      0.50      2366\n",
      "           1       0.73      0.98      0.83      4235\n",
      "\n",
      "    accuracy                           0.75      6601\n",
      "   macro avg       0.81      0.66      0.67      6601\n",
      "weighted avg       0.79      0.75      0.71      6601\n",
      "\n"
     ]
    }
   ],
   "source": [
    "print(classification_report(y_test,y_pred))"
   ]
  },
  {
   "cell_type": "code",
   "execution_count": 50,
   "metadata": {},
   "outputs": [
    {
     "data": {
      "text/plain": [
       "0.7509468262384488"
      ]
     },
     "execution_count": 50,
     "metadata": {},
     "output_type": "execute_result"
    }
   ],
   "source": [
    "from sklearn.metrics import accuracy_score\n",
    "acc=accuracy_score(y_test, y_pred)\n",
    "acc"
   ]
  }
 ],
 "metadata": {
  "accelerator": "GPU",
  "colab": {
   "provenance": []
  },
  "gpuClass": "standard",
  "kernelspec": {
   "display_name": "Python 3 (ipykernel)",
   "language": "python",
   "name": "python3"
  },
  "language_info": {
   "codemirror_mode": {
    "name": "ipython",
    "version": 3
   },
   "file_extension": ".py",
   "mimetype": "text/x-python",
   "name": "python",
   "nbconvert_exporter": "python",
   "pygments_lexer": "ipython3",
   "version": "3.9.12"
  }
 },
 "nbformat": 4,
 "nbformat_minor": 1
}
