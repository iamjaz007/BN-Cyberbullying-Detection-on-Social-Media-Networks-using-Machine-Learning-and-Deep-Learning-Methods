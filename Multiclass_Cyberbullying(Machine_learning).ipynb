{
  "cells": [
    {
      "cell_type": "markdown",
      "metadata": {
        "id": "pDdR2NBrje9b"
      },
      "source": [
        "# **Import libraries**"
      ]
    },
    {
      "cell_type": "code",
      "execution_count": 1,
      "metadata": {
        "id": "gHbQYvX9E1Y4"
      },
      "outputs": [],
      "source": [
        "import pandas as pd\n",
        "import numpy as np\n",
        "import string\n",
        "import seaborn as sns\n",
        "import matplotlib.pyplot as plt\n",
        "from nltk.corpus import stopwords\n",
        "from sklearn.feature_extraction.text import CountVectorizer\n",
        "from sklearn.feature_extraction.text import TfidfTransformer\n",
        "from sklearn.model_selection import train_test_split\n",
        "from sklearn.svm import SVC\n",
        "from collections import Counter\n",
        "from sklearn.metrics import classification_report,confusion_matrix\n",
        "from sklearn.model_selection import GridSearchCV\n",
        "import io \n",
        "from sklearn.model_selection import train_test_split\n",
        "from sklearn.feature_extraction.text import TfidfVectorizer"
      ]
    },
    {
      "cell_type": "code",
      "execution_count": 2,
      "metadata": {
        "id": "Zw7zzmoMFKQS"
      },
      "outputs": [],
      "source": [
        "from sklearn.linear_model import LogisticRegression\n",
        "from sklearn.neighbors import KNeighborsClassifier\n",
        "from sklearn.naive_bayes import GaussianNB,MultinomialNB\n",
        "from sklearn.metrics import accuracy_score,classification_report"
      ]
    },
    {
      "cell_type": "markdown",
      "metadata": {
        "id": "xBnNisGLj341"
      },
      "source": [
        "# **Load dataset**"
      ]
    },
    {
      "cell_type": "code",
      "execution_count": 3,
      "metadata": {
        "colab": {
          "base_uri": "https://localhost:8080/"
        },
        "id": "_13jMT8rFKSp",
        "outputId": "8b986626-5af3-48f3-8cd9-32de6bff5de2"
      },
      "outputs": [
        {
          "output_type": "stream",
          "name": "stdout",
          "text": [
            "Mounted at /content/drive\n"
          ]
        }
      ],
      "source": [
        "from google.colab import drive\n",
        "drive.mount('/content/drive')"
      ]
    },
    {
      "cell_type": "code",
      "execution_count": 4,
      "metadata": {
        "id": "fjl_AniiFKU-"
      },
      "outputs": [],
      "source": [
        "import pandas as pd\n",
        "data = pd.read_excel(\"/content/drive/MyDrive/Thesis Slide/Datasets /bangla_online_comments_dataset.xlsx\")"
      ]
    },
    {
      "cell_type": "code",
      "execution_count": 5,
      "metadata": {
        "colab": {
          "base_uri": "https://localhost:8080/",
          "height": 424
        },
        "id": "oVf5tBbhFKXf",
        "outputId": "3eae366c-dcf1-4a6f-e4d9-4a5a685a7344"
      },
      "outputs": [
        {
          "output_type": "execute_result",
          "data": {
            "text/plain": [
              "                                                 comment    Category  Gender  \\\n",
              "0      ওই হালার পুত এখন কি মদ খাওয়ার সময় রাতের বেলা...       Actor  Female   \n",
              "1      ঘরে বসে শুট করতে কেমন লেগেছে? ক্যামেরাতে কে ছি...      Singer    Male   \n",
              "2                           অরে বাবা, এই টা কোন পাগল????       Actor  Female   \n",
              "3                                  ক্যাপ্টেন অফ বাংলাদেশ      Sports    Male   \n",
              "4                                               পটকা মাছ  Politician    Male   \n",
              "...                                                  ...         ...     ...   \n",
              "43996                               হিরো আলম,, এগিয়ে যাও      Social    Male   \n",
              "43997  হিরো আলমকে সাপোর্ট দেওয়ার জন্য অসংখ্য ধন্যবাদ...      Social    Male   \n",
              "43998                            হিরো ভাই তুমি এগিয়ে য়াও      Social    Male   \n",
              "43999     হুম ভাও তোমরা এগিয়ে যাও আমরা তোমাদের পিছনে আছি       Actor  Female   \n",
              "44000            হ্যালো তোমাদের সাথে কি আমাকে চ্যাট করবে      Social    Male   \n",
              "\n",
              "       comment react number      label  \n",
              "0                       1.0     sexual  \n",
              "1                       2.0  not bully  \n",
              "2                       2.0  not bully  \n",
              "3                       0.0  not bully  \n",
              "4                       0.0      troll  \n",
              "...                     ...        ...  \n",
              "43996                   0.0  not bully  \n",
              "43997                   1.0  not bully  \n",
              "43998                   0.0  not bully  \n",
              "43999                   1.0  not bully  \n",
              "44000                   0.0  not bully  \n",
              "\n",
              "[44001 rows x 5 columns]"
            ],
            "text/html": [
              "\n",
              "  <div id=\"df-c8fa7f40-8359-45d1-848a-dbec5dd9d284\">\n",
              "    <div class=\"colab-df-container\">\n",
              "      <div>\n",
              "<style scoped>\n",
              "    .dataframe tbody tr th:only-of-type {\n",
              "        vertical-align: middle;\n",
              "    }\n",
              "\n",
              "    .dataframe tbody tr th {\n",
              "        vertical-align: top;\n",
              "    }\n",
              "\n",
              "    .dataframe thead th {\n",
              "        text-align: right;\n",
              "    }\n",
              "</style>\n",
              "<table border=\"1\" class=\"dataframe\">\n",
              "  <thead>\n",
              "    <tr style=\"text-align: right;\">\n",
              "      <th></th>\n",
              "      <th>comment</th>\n",
              "      <th>Category</th>\n",
              "      <th>Gender</th>\n",
              "      <th>comment react number</th>\n",
              "      <th>label</th>\n",
              "    </tr>\n",
              "  </thead>\n",
              "  <tbody>\n",
              "    <tr>\n",
              "      <th>0</th>\n",
              "      <td>ওই হালার পুত এখন কি মদ খাওয়ার সময় রাতের বেলা...</td>\n",
              "      <td>Actor</td>\n",
              "      <td>Female</td>\n",
              "      <td>1.0</td>\n",
              "      <td>sexual</td>\n",
              "    </tr>\n",
              "    <tr>\n",
              "      <th>1</th>\n",
              "      <td>ঘরে বসে শুট করতে কেমন লেগেছে? ক্যামেরাতে কে ছি...</td>\n",
              "      <td>Singer</td>\n",
              "      <td>Male</td>\n",
              "      <td>2.0</td>\n",
              "      <td>not bully</td>\n",
              "    </tr>\n",
              "    <tr>\n",
              "      <th>2</th>\n",
              "      <td>অরে বাবা, এই টা কোন পাগল????</td>\n",
              "      <td>Actor</td>\n",
              "      <td>Female</td>\n",
              "      <td>2.0</td>\n",
              "      <td>not bully</td>\n",
              "    </tr>\n",
              "    <tr>\n",
              "      <th>3</th>\n",
              "      <td>ক্যাপ্টেন অফ বাংলাদেশ</td>\n",
              "      <td>Sports</td>\n",
              "      <td>Male</td>\n",
              "      <td>0.0</td>\n",
              "      <td>not bully</td>\n",
              "    </tr>\n",
              "    <tr>\n",
              "      <th>4</th>\n",
              "      <td>পটকা মাছ</td>\n",
              "      <td>Politician</td>\n",
              "      <td>Male</td>\n",
              "      <td>0.0</td>\n",
              "      <td>troll</td>\n",
              "    </tr>\n",
              "    <tr>\n",
              "      <th>...</th>\n",
              "      <td>...</td>\n",
              "      <td>...</td>\n",
              "      <td>...</td>\n",
              "      <td>...</td>\n",
              "      <td>...</td>\n",
              "    </tr>\n",
              "    <tr>\n",
              "      <th>43996</th>\n",
              "      <td>হিরো আলম,, এগিয়ে যাও</td>\n",
              "      <td>Social</td>\n",
              "      <td>Male</td>\n",
              "      <td>0.0</td>\n",
              "      <td>not bully</td>\n",
              "    </tr>\n",
              "    <tr>\n",
              "      <th>43997</th>\n",
              "      <td>হিরো আলমকে সাপোর্ট দেওয়ার জন্য অসংখ্য ধন্যবাদ...</td>\n",
              "      <td>Social</td>\n",
              "      <td>Male</td>\n",
              "      <td>1.0</td>\n",
              "      <td>not bully</td>\n",
              "    </tr>\n",
              "    <tr>\n",
              "      <th>43998</th>\n",
              "      <td>হিরো ভাই তুমি এগিয়ে য়াও</td>\n",
              "      <td>Social</td>\n",
              "      <td>Male</td>\n",
              "      <td>0.0</td>\n",
              "      <td>not bully</td>\n",
              "    </tr>\n",
              "    <tr>\n",
              "      <th>43999</th>\n",
              "      <td>হুম ভাও তোমরা এগিয়ে যাও আমরা তোমাদের পিছনে আছি</td>\n",
              "      <td>Actor</td>\n",
              "      <td>Female</td>\n",
              "      <td>1.0</td>\n",
              "      <td>not bully</td>\n",
              "    </tr>\n",
              "    <tr>\n",
              "      <th>44000</th>\n",
              "      <td>হ্যালো তোমাদের সাথে কি আমাকে চ্যাট করবে</td>\n",
              "      <td>Social</td>\n",
              "      <td>Male</td>\n",
              "      <td>0.0</td>\n",
              "      <td>not bully</td>\n",
              "    </tr>\n",
              "  </tbody>\n",
              "</table>\n",
              "<p>44001 rows × 5 columns</p>\n",
              "</div>\n",
              "      <button class=\"colab-df-convert\" onclick=\"convertToInteractive('df-c8fa7f40-8359-45d1-848a-dbec5dd9d284')\"\n",
              "              title=\"Convert this dataframe to an interactive table.\"\n",
              "              style=\"display:none;\">\n",
              "        \n",
              "  <svg xmlns=\"http://www.w3.org/2000/svg\" height=\"24px\"viewBox=\"0 0 24 24\"\n",
              "       width=\"24px\">\n",
              "    <path d=\"M0 0h24v24H0V0z\" fill=\"none\"/>\n",
              "    <path d=\"M18.56 5.44l.94 2.06.94-2.06 2.06-.94-2.06-.94-.94-2.06-.94 2.06-2.06.94zm-11 1L8.5 8.5l.94-2.06 2.06-.94-2.06-.94L8.5 2.5l-.94 2.06-2.06.94zm10 10l.94 2.06.94-2.06 2.06-.94-2.06-.94-.94-2.06-.94 2.06-2.06.94z\"/><path d=\"M17.41 7.96l-1.37-1.37c-.4-.4-.92-.59-1.43-.59-.52 0-1.04.2-1.43.59L10.3 9.45l-7.72 7.72c-.78.78-.78 2.05 0 2.83L4 21.41c.39.39.9.59 1.41.59.51 0 1.02-.2 1.41-.59l7.78-7.78 2.81-2.81c.8-.78.8-2.07 0-2.86zM5.41 20L4 18.59l7.72-7.72 1.47 1.35L5.41 20z\"/>\n",
              "  </svg>\n",
              "      </button>\n",
              "      \n",
              "  <style>\n",
              "    .colab-df-container {\n",
              "      display:flex;\n",
              "      flex-wrap:wrap;\n",
              "      gap: 12px;\n",
              "    }\n",
              "\n",
              "    .colab-df-convert {\n",
              "      background-color: #E8F0FE;\n",
              "      border: none;\n",
              "      border-radius: 50%;\n",
              "      cursor: pointer;\n",
              "      display: none;\n",
              "      fill: #1967D2;\n",
              "      height: 32px;\n",
              "      padding: 0 0 0 0;\n",
              "      width: 32px;\n",
              "    }\n",
              "\n",
              "    .colab-df-convert:hover {\n",
              "      background-color: #E2EBFA;\n",
              "      box-shadow: 0px 1px 2px rgba(60, 64, 67, 0.3), 0px 1px 3px 1px rgba(60, 64, 67, 0.15);\n",
              "      fill: #174EA6;\n",
              "    }\n",
              "\n",
              "    [theme=dark] .colab-df-convert {\n",
              "      background-color: #3B4455;\n",
              "      fill: #D2E3FC;\n",
              "    }\n",
              "\n",
              "    [theme=dark] .colab-df-convert:hover {\n",
              "      background-color: #434B5C;\n",
              "      box-shadow: 0px 1px 3px 1px rgba(0, 0, 0, 0.15);\n",
              "      filter: drop-shadow(0px 1px 2px rgba(0, 0, 0, 0.3));\n",
              "      fill: #FFFFFF;\n",
              "    }\n",
              "  </style>\n",
              "\n",
              "      <script>\n",
              "        const buttonEl =\n",
              "          document.querySelector('#df-c8fa7f40-8359-45d1-848a-dbec5dd9d284 button.colab-df-convert');\n",
              "        buttonEl.style.display =\n",
              "          google.colab.kernel.accessAllowed ? 'block' : 'none';\n",
              "\n",
              "        async function convertToInteractive(key) {\n",
              "          const element = document.querySelector('#df-c8fa7f40-8359-45d1-848a-dbec5dd9d284');\n",
              "          const dataTable =\n",
              "            await google.colab.kernel.invokeFunction('convertToInteractive',\n",
              "                                                     [key], {});\n",
              "          if (!dataTable) return;\n",
              "\n",
              "          const docLinkHtml = 'Like what you see? Visit the ' +\n",
              "            '<a target=\"_blank\" href=https://colab.research.google.com/notebooks/data_table.ipynb>data table notebook</a>'\n",
              "            + ' to learn more about interactive tables.';\n",
              "          element.innerHTML = '';\n",
              "          dataTable['output_type'] = 'display_data';\n",
              "          await google.colab.output.renderOutput(dataTable, element);\n",
              "          const docLink = document.createElement('div');\n",
              "          docLink.innerHTML = docLinkHtml;\n",
              "          element.appendChild(docLink);\n",
              "        }\n",
              "      </script>\n",
              "    </div>\n",
              "  </div>\n",
              "  "
            ]
          },
          "metadata": {},
          "execution_count": 5
        }
      ],
      "source": [
        "data"
      ]
    },
    {
      "cell_type": "code",
      "execution_count": 6,
      "metadata": {
        "id": "ssVb-9GHFKZ0"
      },
      "outputs": [],
      "source": [
        "data=data.drop(['Category','Gender','comment react number'],axis=1)"
      ]
    },
    {
      "cell_type": "code",
      "execution_count": 7,
      "metadata": {
        "colab": {
          "base_uri": "https://localhost:8080/",
          "height": 424
        },
        "id": "LjNBL9kK4xGg",
        "outputId": "f31471e9-6362-48de-aab3-ec282561f631"
      },
      "outputs": [
        {
          "output_type": "execute_result",
          "data": {
            "text/plain": [
              "                                                 comment      label\n",
              "0      ওই হালার পুত এখন কি মদ খাওয়ার সময় রাতের বেলা...     sexual\n",
              "1      ঘরে বসে শুট করতে কেমন লেগেছে? ক্যামেরাতে কে ছি...  not bully\n",
              "2                           অরে বাবা, এই টা কোন পাগল????  not bully\n",
              "3                                  ক্যাপ্টেন অফ বাংলাদেশ  not bully\n",
              "4                                               পটকা মাছ      troll\n",
              "...                                                  ...        ...\n",
              "43996                               হিরো আলম,, এগিয়ে যাও  not bully\n",
              "43997  হিরো আলমকে সাপোর্ট দেওয়ার জন্য অসংখ্য ধন্যবাদ...  not bully\n",
              "43998                            হিরো ভাই তুমি এগিয়ে য়াও  not bully\n",
              "43999     হুম ভাও তোমরা এগিয়ে যাও আমরা তোমাদের পিছনে আছি  not bully\n",
              "44000            হ্যালো তোমাদের সাথে কি আমাকে চ্যাট করবে  not bully\n",
              "\n",
              "[44001 rows x 2 columns]"
            ],
            "text/html": [
              "\n",
              "  <div id=\"df-43b53f79-7c22-4e9e-9159-d88753f06262\">\n",
              "    <div class=\"colab-df-container\">\n",
              "      <div>\n",
              "<style scoped>\n",
              "    .dataframe tbody tr th:only-of-type {\n",
              "        vertical-align: middle;\n",
              "    }\n",
              "\n",
              "    .dataframe tbody tr th {\n",
              "        vertical-align: top;\n",
              "    }\n",
              "\n",
              "    .dataframe thead th {\n",
              "        text-align: right;\n",
              "    }\n",
              "</style>\n",
              "<table border=\"1\" class=\"dataframe\">\n",
              "  <thead>\n",
              "    <tr style=\"text-align: right;\">\n",
              "      <th></th>\n",
              "      <th>comment</th>\n",
              "      <th>label</th>\n",
              "    </tr>\n",
              "  </thead>\n",
              "  <tbody>\n",
              "    <tr>\n",
              "      <th>0</th>\n",
              "      <td>ওই হালার পুত এখন কি মদ খাওয়ার সময় রাতের বেলা...</td>\n",
              "      <td>sexual</td>\n",
              "    </tr>\n",
              "    <tr>\n",
              "      <th>1</th>\n",
              "      <td>ঘরে বসে শুট করতে কেমন লেগেছে? ক্যামেরাতে কে ছি...</td>\n",
              "      <td>not bully</td>\n",
              "    </tr>\n",
              "    <tr>\n",
              "      <th>2</th>\n",
              "      <td>অরে বাবা, এই টা কোন পাগল????</td>\n",
              "      <td>not bully</td>\n",
              "    </tr>\n",
              "    <tr>\n",
              "      <th>3</th>\n",
              "      <td>ক্যাপ্টেন অফ বাংলাদেশ</td>\n",
              "      <td>not bully</td>\n",
              "    </tr>\n",
              "    <tr>\n",
              "      <th>4</th>\n",
              "      <td>পটকা মাছ</td>\n",
              "      <td>troll</td>\n",
              "    </tr>\n",
              "    <tr>\n",
              "      <th>...</th>\n",
              "      <td>...</td>\n",
              "      <td>...</td>\n",
              "    </tr>\n",
              "    <tr>\n",
              "      <th>43996</th>\n",
              "      <td>হিরো আলম,, এগিয়ে যাও</td>\n",
              "      <td>not bully</td>\n",
              "    </tr>\n",
              "    <tr>\n",
              "      <th>43997</th>\n",
              "      <td>হিরো আলমকে সাপোর্ট দেওয়ার জন্য অসংখ্য ধন্যবাদ...</td>\n",
              "      <td>not bully</td>\n",
              "    </tr>\n",
              "    <tr>\n",
              "      <th>43998</th>\n",
              "      <td>হিরো ভাই তুমি এগিয়ে য়াও</td>\n",
              "      <td>not bully</td>\n",
              "    </tr>\n",
              "    <tr>\n",
              "      <th>43999</th>\n",
              "      <td>হুম ভাও তোমরা এগিয়ে যাও আমরা তোমাদের পিছনে আছি</td>\n",
              "      <td>not bully</td>\n",
              "    </tr>\n",
              "    <tr>\n",
              "      <th>44000</th>\n",
              "      <td>হ্যালো তোমাদের সাথে কি আমাকে চ্যাট করবে</td>\n",
              "      <td>not bully</td>\n",
              "    </tr>\n",
              "  </tbody>\n",
              "</table>\n",
              "<p>44001 rows × 2 columns</p>\n",
              "</div>\n",
              "      <button class=\"colab-df-convert\" onclick=\"convertToInteractive('df-43b53f79-7c22-4e9e-9159-d88753f06262')\"\n",
              "              title=\"Convert this dataframe to an interactive table.\"\n",
              "              style=\"display:none;\">\n",
              "        \n",
              "  <svg xmlns=\"http://www.w3.org/2000/svg\" height=\"24px\"viewBox=\"0 0 24 24\"\n",
              "       width=\"24px\">\n",
              "    <path d=\"M0 0h24v24H0V0z\" fill=\"none\"/>\n",
              "    <path d=\"M18.56 5.44l.94 2.06.94-2.06 2.06-.94-2.06-.94-.94-2.06-.94 2.06-2.06.94zm-11 1L8.5 8.5l.94-2.06 2.06-.94-2.06-.94L8.5 2.5l-.94 2.06-2.06.94zm10 10l.94 2.06.94-2.06 2.06-.94-2.06-.94-.94-2.06-.94 2.06-2.06.94z\"/><path d=\"M17.41 7.96l-1.37-1.37c-.4-.4-.92-.59-1.43-.59-.52 0-1.04.2-1.43.59L10.3 9.45l-7.72 7.72c-.78.78-.78 2.05 0 2.83L4 21.41c.39.39.9.59 1.41.59.51 0 1.02-.2 1.41-.59l7.78-7.78 2.81-2.81c.8-.78.8-2.07 0-2.86zM5.41 20L4 18.59l7.72-7.72 1.47 1.35L5.41 20z\"/>\n",
              "  </svg>\n",
              "      </button>\n",
              "      \n",
              "  <style>\n",
              "    .colab-df-container {\n",
              "      display:flex;\n",
              "      flex-wrap:wrap;\n",
              "      gap: 12px;\n",
              "    }\n",
              "\n",
              "    .colab-df-convert {\n",
              "      background-color: #E8F0FE;\n",
              "      border: none;\n",
              "      border-radius: 50%;\n",
              "      cursor: pointer;\n",
              "      display: none;\n",
              "      fill: #1967D2;\n",
              "      height: 32px;\n",
              "      padding: 0 0 0 0;\n",
              "      width: 32px;\n",
              "    }\n",
              "\n",
              "    .colab-df-convert:hover {\n",
              "      background-color: #E2EBFA;\n",
              "      box-shadow: 0px 1px 2px rgba(60, 64, 67, 0.3), 0px 1px 3px 1px rgba(60, 64, 67, 0.15);\n",
              "      fill: #174EA6;\n",
              "    }\n",
              "\n",
              "    [theme=dark] .colab-df-convert {\n",
              "      background-color: #3B4455;\n",
              "      fill: #D2E3FC;\n",
              "    }\n",
              "\n",
              "    [theme=dark] .colab-df-convert:hover {\n",
              "      background-color: #434B5C;\n",
              "      box-shadow: 0px 1px 3px 1px rgba(0, 0, 0, 0.15);\n",
              "      filter: drop-shadow(0px 1px 2px rgba(0, 0, 0, 0.3));\n",
              "      fill: #FFFFFF;\n",
              "    }\n",
              "  </style>\n",
              "\n",
              "      <script>\n",
              "        const buttonEl =\n",
              "          document.querySelector('#df-43b53f79-7c22-4e9e-9159-d88753f06262 button.colab-df-convert');\n",
              "        buttonEl.style.display =\n",
              "          google.colab.kernel.accessAllowed ? 'block' : 'none';\n",
              "\n",
              "        async function convertToInteractive(key) {\n",
              "          const element = document.querySelector('#df-43b53f79-7c22-4e9e-9159-d88753f06262');\n",
              "          const dataTable =\n",
              "            await google.colab.kernel.invokeFunction('convertToInteractive',\n",
              "                                                     [key], {});\n",
              "          if (!dataTable) return;\n",
              "\n",
              "          const docLinkHtml = 'Like what you see? Visit the ' +\n",
              "            '<a target=\"_blank\" href=https://colab.research.google.com/notebooks/data_table.ipynb>data table notebook</a>'\n",
              "            + ' to learn more about interactive tables.';\n",
              "          element.innerHTML = '';\n",
              "          dataTable['output_type'] = 'display_data';\n",
              "          await google.colab.output.renderOutput(dataTable, element);\n",
              "          const docLink = document.createElement('div');\n",
              "          docLink.innerHTML = docLinkHtml;\n",
              "          element.appendChild(docLink);\n",
              "        }\n",
              "      </script>\n",
              "    </div>\n",
              "  </div>\n",
              "  "
            ]
          },
          "metadata": {},
          "execution_count": 7
        }
      ],
      "source": [
        "data"
      ]
    },
    {
      "cell_type": "code",
      "execution_count": 8,
      "metadata": {
        "colab": {
          "base_uri": "https://localhost:8080/"
        },
        "id": "Lgjd1j3xFKcK",
        "outputId": "fa4d23d6-fb9a-42bd-b811-dc0cc6885c2d"
      },
      "outputs": [
        {
          "output_type": "stream",
          "name": "stdout",
          "text": [
            "comment    object\n",
            "label      object\n",
            "dtype: object\n"
          ]
        }
      ],
      "source": [
        "print(data.dtypes)"
      ]
    },
    {
      "cell_type": "code",
      "execution_count": 9,
      "metadata": {
        "colab": {
          "base_uri": "https://localhost:8080/"
        },
        "id": "Glfs4RGcFKeb",
        "outputId": "b48c6b75-5551-4525-c2f6-d03b3e01a94a"
      },
      "outputs": [
        {
          "output_type": "execute_result",
          "data": {
            "text/plain": [
              "comment    0\n",
              "label      0\n",
              "dtype: int64"
            ]
          },
          "metadata": {},
          "execution_count": 9
        }
      ],
      "source": [
        "data.isnull().sum()"
      ]
    },
    {
      "cell_type": "code",
      "execution_count": 10,
      "metadata": {
        "colab": {
          "base_uri": "https://localhost:8080/",
          "height": 424
        },
        "id": "1_I6eJ61FKjL",
        "outputId": "7d5474e6-d3a7-4b13-913d-6080ec5818cb"
      },
      "outputs": [
        {
          "output_type": "execute_result",
          "data": {
            "text/plain": [
              "                                                 comment      label\n",
              "0      ওই হালার পুত এখন কি মদ খাওয়ার সময় রাতের বেলা...     sexual\n",
              "1      ঘরে বসে শুট করতে কেমন লেগেছে? ক্যামেরাতে কে ছি...  not bully\n",
              "2                           অরে বাবা, এই টা কোন পাগল????  not bully\n",
              "3                                  ক্যাপ্টেন অফ বাংলাদেশ  not bully\n",
              "4                                               পটকা মাছ      troll\n",
              "...                                                  ...        ...\n",
              "43996                               হিরো আলম,, এগিয়ে যাও  not bully\n",
              "43997  হিরো আলমকে সাপোর্ট দেওয়ার জন্য অসংখ্য ধন্যবাদ...  not bully\n",
              "43998                            হিরো ভাই তুমি এগিয়ে য়াও  not bully\n",
              "43999     হুম ভাও তোমরা এগিয়ে যাও আমরা তোমাদের পিছনে আছি  not bully\n",
              "44000            হ্যালো তোমাদের সাথে কি আমাকে চ্যাট করবে  not bully\n",
              "\n",
              "[44001 rows x 2 columns]"
            ],
            "text/html": [
              "\n",
              "  <div id=\"df-9cdfe6ab-4fd6-4b8c-ba65-ba97e7ddb930\">\n",
              "    <div class=\"colab-df-container\">\n",
              "      <div>\n",
              "<style scoped>\n",
              "    .dataframe tbody tr th:only-of-type {\n",
              "        vertical-align: middle;\n",
              "    }\n",
              "\n",
              "    .dataframe tbody tr th {\n",
              "        vertical-align: top;\n",
              "    }\n",
              "\n",
              "    .dataframe thead th {\n",
              "        text-align: right;\n",
              "    }\n",
              "</style>\n",
              "<table border=\"1\" class=\"dataframe\">\n",
              "  <thead>\n",
              "    <tr style=\"text-align: right;\">\n",
              "      <th></th>\n",
              "      <th>comment</th>\n",
              "      <th>label</th>\n",
              "    </tr>\n",
              "  </thead>\n",
              "  <tbody>\n",
              "    <tr>\n",
              "      <th>0</th>\n",
              "      <td>ওই হালার পুত এখন কি মদ খাওয়ার সময় রাতের বেলা...</td>\n",
              "      <td>sexual</td>\n",
              "    </tr>\n",
              "    <tr>\n",
              "      <th>1</th>\n",
              "      <td>ঘরে বসে শুট করতে কেমন লেগেছে? ক্যামেরাতে কে ছি...</td>\n",
              "      <td>not bully</td>\n",
              "    </tr>\n",
              "    <tr>\n",
              "      <th>2</th>\n",
              "      <td>অরে বাবা, এই টা কোন পাগল????</td>\n",
              "      <td>not bully</td>\n",
              "    </tr>\n",
              "    <tr>\n",
              "      <th>3</th>\n",
              "      <td>ক্যাপ্টেন অফ বাংলাদেশ</td>\n",
              "      <td>not bully</td>\n",
              "    </tr>\n",
              "    <tr>\n",
              "      <th>4</th>\n",
              "      <td>পটকা মাছ</td>\n",
              "      <td>troll</td>\n",
              "    </tr>\n",
              "    <tr>\n",
              "      <th>...</th>\n",
              "      <td>...</td>\n",
              "      <td>...</td>\n",
              "    </tr>\n",
              "    <tr>\n",
              "      <th>43996</th>\n",
              "      <td>হিরো আলম,, এগিয়ে যাও</td>\n",
              "      <td>not bully</td>\n",
              "    </tr>\n",
              "    <tr>\n",
              "      <th>43997</th>\n",
              "      <td>হিরো আলমকে সাপোর্ট দেওয়ার জন্য অসংখ্য ধন্যবাদ...</td>\n",
              "      <td>not bully</td>\n",
              "    </tr>\n",
              "    <tr>\n",
              "      <th>43998</th>\n",
              "      <td>হিরো ভাই তুমি এগিয়ে য়াও</td>\n",
              "      <td>not bully</td>\n",
              "    </tr>\n",
              "    <tr>\n",
              "      <th>43999</th>\n",
              "      <td>হুম ভাও তোমরা এগিয়ে যাও আমরা তোমাদের পিছনে আছি</td>\n",
              "      <td>not bully</td>\n",
              "    </tr>\n",
              "    <tr>\n",
              "      <th>44000</th>\n",
              "      <td>হ্যালো তোমাদের সাথে কি আমাকে চ্যাট করবে</td>\n",
              "      <td>not bully</td>\n",
              "    </tr>\n",
              "  </tbody>\n",
              "</table>\n",
              "<p>44001 rows × 2 columns</p>\n",
              "</div>\n",
              "      <button class=\"colab-df-convert\" onclick=\"convertToInteractive('df-9cdfe6ab-4fd6-4b8c-ba65-ba97e7ddb930')\"\n",
              "              title=\"Convert this dataframe to an interactive table.\"\n",
              "              style=\"display:none;\">\n",
              "        \n",
              "  <svg xmlns=\"http://www.w3.org/2000/svg\" height=\"24px\"viewBox=\"0 0 24 24\"\n",
              "       width=\"24px\">\n",
              "    <path d=\"M0 0h24v24H0V0z\" fill=\"none\"/>\n",
              "    <path d=\"M18.56 5.44l.94 2.06.94-2.06 2.06-.94-2.06-.94-.94-2.06-.94 2.06-2.06.94zm-11 1L8.5 8.5l.94-2.06 2.06-.94-2.06-.94L8.5 2.5l-.94 2.06-2.06.94zm10 10l.94 2.06.94-2.06 2.06-.94-2.06-.94-.94-2.06-.94 2.06-2.06.94z\"/><path d=\"M17.41 7.96l-1.37-1.37c-.4-.4-.92-.59-1.43-.59-.52 0-1.04.2-1.43.59L10.3 9.45l-7.72 7.72c-.78.78-.78 2.05 0 2.83L4 21.41c.39.39.9.59 1.41.59.51 0 1.02-.2 1.41-.59l7.78-7.78 2.81-2.81c.8-.78.8-2.07 0-2.86zM5.41 20L4 18.59l7.72-7.72 1.47 1.35L5.41 20z\"/>\n",
              "  </svg>\n",
              "      </button>\n",
              "      \n",
              "  <style>\n",
              "    .colab-df-container {\n",
              "      display:flex;\n",
              "      flex-wrap:wrap;\n",
              "      gap: 12px;\n",
              "    }\n",
              "\n",
              "    .colab-df-convert {\n",
              "      background-color: #E8F0FE;\n",
              "      border: none;\n",
              "      border-radius: 50%;\n",
              "      cursor: pointer;\n",
              "      display: none;\n",
              "      fill: #1967D2;\n",
              "      height: 32px;\n",
              "      padding: 0 0 0 0;\n",
              "      width: 32px;\n",
              "    }\n",
              "\n",
              "    .colab-df-convert:hover {\n",
              "      background-color: #E2EBFA;\n",
              "      box-shadow: 0px 1px 2px rgba(60, 64, 67, 0.3), 0px 1px 3px 1px rgba(60, 64, 67, 0.15);\n",
              "      fill: #174EA6;\n",
              "    }\n",
              "\n",
              "    [theme=dark] .colab-df-convert {\n",
              "      background-color: #3B4455;\n",
              "      fill: #D2E3FC;\n",
              "    }\n",
              "\n",
              "    [theme=dark] .colab-df-convert:hover {\n",
              "      background-color: #434B5C;\n",
              "      box-shadow: 0px 1px 3px 1px rgba(0, 0, 0, 0.15);\n",
              "      filter: drop-shadow(0px 1px 2px rgba(0, 0, 0, 0.3));\n",
              "      fill: #FFFFFF;\n",
              "    }\n",
              "  </style>\n",
              "\n",
              "      <script>\n",
              "        const buttonEl =\n",
              "          document.querySelector('#df-9cdfe6ab-4fd6-4b8c-ba65-ba97e7ddb930 button.colab-df-convert');\n",
              "        buttonEl.style.display =\n",
              "          google.colab.kernel.accessAllowed ? 'block' : 'none';\n",
              "\n",
              "        async function convertToInteractive(key) {\n",
              "          const element = document.querySelector('#df-9cdfe6ab-4fd6-4b8c-ba65-ba97e7ddb930');\n",
              "          const dataTable =\n",
              "            await google.colab.kernel.invokeFunction('convertToInteractive',\n",
              "                                                     [key], {});\n",
              "          if (!dataTable) return;\n",
              "\n",
              "          const docLinkHtml = 'Like what you see? Visit the ' +\n",
              "            '<a target=\"_blank\" href=https://colab.research.google.com/notebooks/data_table.ipynb>data table notebook</a>'\n",
              "            + ' to learn more about interactive tables.';\n",
              "          element.innerHTML = '';\n",
              "          dataTable['output_type'] = 'display_data';\n",
              "          await google.colab.output.renderOutput(dataTable, element);\n",
              "          const docLink = document.createElement('div');\n",
              "          docLink.innerHTML = docLinkHtml;\n",
              "          element.appendChild(docLink);\n",
              "        }\n",
              "      </script>\n",
              "    </div>\n",
              "  </div>\n",
              "  "
            ]
          },
          "metadata": {},
          "execution_count": 10
        }
      ],
      "source": [
        "data"
      ]
    },
    {
      "cell_type": "code",
      "execution_count": 11,
      "metadata": {
        "id": "PYKMe7q5FKlS"
      },
      "outputs": [],
      "source": [
        "#Remove punctuations\n",
        "def remove_punctuations(text):\n",
        "    for punctuation in string.punctuation:\n",
        "        text = text.replace(punctuation, '')\n",
        "    return text\n",
        "# Apply to the DF series\n",
        "\n",
        "#data['comment_text'] = data['comment_text'].str.replace('“”‘’','')\n",
        "#data['comment_text'] = data['comment_text'].str.replace('’‘“”,'')\n",
        "data['comment'] = data['comment'].str.replace('।','')\n",
        "\n",
        "data['comment'] = data['comment'].apply(remove_punctuations)"
      ]
    },
    {
      "cell_type": "code",
      "execution_count": 12,
      "metadata": {
        "colab": {
          "base_uri": "https://localhost:8080/"
        },
        "id": "238oPZq2FKnY",
        "outputId": "33cb8590-97c0-4bce-cb1e-da6c39b2ffd3"
      },
      "outputs": [
        {
          "output_type": "execute_result",
          "data": {
            "text/plain": [
              "0        ওই হালার পুত এখন কি মদ খাওয়ার সময় রাতের বেলা...\n",
              "1         ঘরে বসে শুট করতে কেমন লেগেছে ক্যামেরাতে কে ছিলেন\n",
              "2                                  অরে বাবা এই টা কোন পাগল\n",
              "3                                    ক্যাপ্টেন অফ বাংলাদেশ\n",
              "4                                                 পটকা মাছ\n",
              "                               ...                        \n",
              "39995                   হিরু আলমকে সাহসিকতার জন্য ধন্যবাদ৷\n",
              "39996                                হিরো আলম ভাই কেমন আছো\n",
              "39997                                    এত গসাগসির কি আছে\n",
              "39998    তাহার গরতে আমার চা ঢালার খুব ইচ্ছা একবার যদি প...\n",
              "39999      একজন মুসলমান হয়ে এক হিন্দু মানুষ কে বিবাহ করলেন\n",
              "Name: comment, Length: 40000, dtype: object"
            ]
          },
          "metadata": {},
          "execution_count": 12
        }
      ],
      "source": [
        "data['comment'].head(40000)"
      ]
    },
    {
      "cell_type": "code",
      "execution_count": 13,
      "metadata": {
        "id": "ZF_UypWjFKpQ"
      },
      "outputs": [],
      "source": [
        "data['comment'] = data['comment'].str.replace('৷','')"
      ]
    },
    {
      "cell_type": "code",
      "execution_count": 14,
      "metadata": {
        "id": "vzNUOUVBFKrc"
      },
      "outputs": [],
      "source": [
        "data['comment'] = data['comment'].str.replace('\\n','')"
      ]
    },
    {
      "cell_type": "code",
      "execution_count": 15,
      "metadata": {
        "id": "drpIjqLBF04i"
      },
      "outputs": [],
      "source": [
        "#Remove emojis\n",
        "import re\n",
        "\n",
        "\n",
        "def remove_emoji(string):\n",
        "    emoji_pattern = re.compile(\"[\"\n",
        "                               u\"\\U0001F600-\\U0001F64F\"  # emoticons\n",
        "                               u\"\\U0001F300-\\U0001F5FF\"  # symbols & pictographs\n",
        "                               u\"\\U0001F680-\\U0001F6FF\"  # transport & map symbols\n",
        "                               u\"\\U0001F1E0-\\U0001F1FF\"  # flags (iOS)\n",
        "                               u\"\\U00002500-\\U00002BEF\"  # chinese char\n",
        "                               u\"\\U00002702-\\U000027B0\"\n",
        "                               u\"\\U00002702-\\U000027B0\"\n",
        "                               u\"\\U000024C2-\\U0001F251\"\n",
        "                               u\"\\U0001f926-\\U0001f937\"\n",
        "                               u\"\\U00010000-\\U0010ffff\"\n",
        "                               u\"\\u2640-\\u2642\"\n",
        "                               u\"\\u2600-\\u2B55\"\n",
        "                               u\"\\u200d\"\n",
        "                               u\"\\u23cf\"\n",
        "                               u\"\\u23e9\"\n",
        "                               u\"\\u231a\"\n",
        "                               u\"\\ufe0f\"  # dingbats\n",
        "                               u\"\\u3030\"\n",
        "                               u\"\\u09E6-\\u09EF\"#banglanumerical code\n",
        "                               u\"\\u0030-\\u0039\"#englishnumercal code\n",
        "                               u\"\\u0041-\\u005A\"#uppercaseenglish alphabet\n",
        "                               u\"\\u0061-\\u007A\"#lowercaseenglish alphabet\n",
        "                               u\"\\u2019\"\n",
        "                               u\"\\u2018\"\n",
        "                               u\"\\u201C\"\n",
        "                               u\"\\u201D\"\n",
        "                               u\"\\u201E\"\n",
        "                               u\"\\u201F\"\n",
        "\n",
        "                               \"]+\", flags=re.UNICODE)\n",
        "    return emoji_pattern.sub(r'', string)\n",
        "\n",
        "data['new']=data['comment'].apply(remove_emoji)"
      ]
    },
    {
      "cell_type": "code",
      "execution_count": 16,
      "metadata": {
        "colab": {
          "base_uri": "https://localhost:8080/",
          "height": 424
        },
        "id": "xjON4feOF07f",
        "outputId": "dd250f48-3c2e-4898-9629-0278d5afd26c"
      },
      "outputs": [
        {
          "output_type": "execute_result",
          "data": {
            "text/plain": [
              "                                                 comment      label  \\\n",
              "0      ওই হালার পুত এখন কি মদ খাওয়ার সময় রাতের বেলা...     sexual   \n",
              "1       ঘরে বসে শুট করতে কেমন লেগেছে ক্যামেরাতে কে ছিলেন  not bully   \n",
              "2                                অরে বাবা এই টা কোন পাগল  not bully   \n",
              "3                                  ক্যাপ্টেন অফ বাংলাদেশ  not bully   \n",
              "4                                               পটকা মাছ      troll   \n",
              "...                                                  ...        ...   \n",
              "43996                                 হিরো আলম এগিয়ে যাও  not bully   \n",
              "43997  হিরো আলমকে সাপোর্ট দেওয়ার জন্য অসংখ্য ধন্যবাদ...  not bully   \n",
              "43998                            হিরো ভাই তুমি এগিয়ে য়াও  not bully   \n",
              "43999     হুম ভাও তোমরা এগিয়ে যাও আমরা তোমাদের পিছনে আছি  not bully   \n",
              "44000            হ্যালো তোমাদের সাথে কি আমাকে চ্যাট করবে  not bully   \n",
              "\n",
              "                                                     new  \n",
              "0      ওই হালার পুত এখন কি মদ খাওয়ার সময় রাতের বেলা...  \n",
              "1       ঘরে বসে শুট করতে কেমন লেগেছে ক্যামেরাতে কে ছিলেন  \n",
              "2                                অরে বাবা এই টা কোন পাগল  \n",
              "3                                  ক্যাপ্টেন অফ বাংলাদেশ  \n",
              "4                                               পটকা মাছ  \n",
              "...                                                  ...  \n",
              "43996                                 হিরো আলম এগিয়ে যাও  \n",
              "43997  হিরো আলমকে সাপোর্ট দেওয়ার জন্য অসংখ্য ধন্যবাদ...  \n",
              "43998                            হিরো ভাই তুমি এগিয়ে য়াও  \n",
              "43999     হুম ভাও তোমরা এগিয়ে যাও আমরা তোমাদের পিছনে আছি  \n",
              "44000            হ্যালো তোমাদের সাথে কি আমাকে চ্যাট করবে  \n",
              "\n",
              "[44001 rows x 3 columns]"
            ],
            "text/html": [
              "\n",
              "  <div id=\"df-3fc07c18-325b-4f92-b939-d20b2b9190c7\">\n",
              "    <div class=\"colab-df-container\">\n",
              "      <div>\n",
              "<style scoped>\n",
              "    .dataframe tbody tr th:only-of-type {\n",
              "        vertical-align: middle;\n",
              "    }\n",
              "\n",
              "    .dataframe tbody tr th {\n",
              "        vertical-align: top;\n",
              "    }\n",
              "\n",
              "    .dataframe thead th {\n",
              "        text-align: right;\n",
              "    }\n",
              "</style>\n",
              "<table border=\"1\" class=\"dataframe\">\n",
              "  <thead>\n",
              "    <tr style=\"text-align: right;\">\n",
              "      <th></th>\n",
              "      <th>comment</th>\n",
              "      <th>label</th>\n",
              "      <th>new</th>\n",
              "    </tr>\n",
              "  </thead>\n",
              "  <tbody>\n",
              "    <tr>\n",
              "      <th>0</th>\n",
              "      <td>ওই হালার পুত এখন কি মদ খাওয়ার সময় রাতের বেলা...</td>\n",
              "      <td>sexual</td>\n",
              "      <td>ওই হালার পুত এখন কি মদ খাওয়ার সময় রাতের বেলা...</td>\n",
              "    </tr>\n",
              "    <tr>\n",
              "      <th>1</th>\n",
              "      <td>ঘরে বসে শুট করতে কেমন লেগেছে ক্যামেরাতে কে ছিলেন</td>\n",
              "      <td>not bully</td>\n",
              "      <td>ঘরে বসে শুট করতে কেমন লেগেছে ক্যামেরাতে কে ছিলেন</td>\n",
              "    </tr>\n",
              "    <tr>\n",
              "      <th>2</th>\n",
              "      <td>অরে বাবা এই টা কোন পাগল</td>\n",
              "      <td>not bully</td>\n",
              "      <td>অরে বাবা এই টা কোন পাগল</td>\n",
              "    </tr>\n",
              "    <tr>\n",
              "      <th>3</th>\n",
              "      <td>ক্যাপ্টেন অফ বাংলাদেশ</td>\n",
              "      <td>not bully</td>\n",
              "      <td>ক্যাপ্টেন অফ বাংলাদেশ</td>\n",
              "    </tr>\n",
              "    <tr>\n",
              "      <th>4</th>\n",
              "      <td>পটকা মাছ</td>\n",
              "      <td>troll</td>\n",
              "      <td>পটকা মাছ</td>\n",
              "    </tr>\n",
              "    <tr>\n",
              "      <th>...</th>\n",
              "      <td>...</td>\n",
              "      <td>...</td>\n",
              "      <td>...</td>\n",
              "    </tr>\n",
              "    <tr>\n",
              "      <th>43996</th>\n",
              "      <td>হিরো আলম এগিয়ে যাও</td>\n",
              "      <td>not bully</td>\n",
              "      <td>হিরো আলম এগিয়ে যাও</td>\n",
              "    </tr>\n",
              "    <tr>\n",
              "      <th>43997</th>\n",
              "      <td>হিরো আলমকে সাপোর্ট দেওয়ার জন্য অসংখ্য ধন্যবাদ...</td>\n",
              "      <td>not bully</td>\n",
              "      <td>হিরো আলমকে সাপোর্ট দেওয়ার জন্য অসংখ্য ধন্যবাদ...</td>\n",
              "    </tr>\n",
              "    <tr>\n",
              "      <th>43998</th>\n",
              "      <td>হিরো ভাই তুমি এগিয়ে য়াও</td>\n",
              "      <td>not bully</td>\n",
              "      <td>হিরো ভাই তুমি এগিয়ে য়াও</td>\n",
              "    </tr>\n",
              "    <tr>\n",
              "      <th>43999</th>\n",
              "      <td>হুম ভাও তোমরা এগিয়ে যাও আমরা তোমাদের পিছনে আছি</td>\n",
              "      <td>not bully</td>\n",
              "      <td>হুম ভাও তোমরা এগিয়ে যাও আমরা তোমাদের পিছনে আছি</td>\n",
              "    </tr>\n",
              "    <tr>\n",
              "      <th>44000</th>\n",
              "      <td>হ্যালো তোমাদের সাথে কি আমাকে চ্যাট করবে</td>\n",
              "      <td>not bully</td>\n",
              "      <td>হ্যালো তোমাদের সাথে কি আমাকে চ্যাট করবে</td>\n",
              "    </tr>\n",
              "  </tbody>\n",
              "</table>\n",
              "<p>44001 rows × 3 columns</p>\n",
              "</div>\n",
              "      <button class=\"colab-df-convert\" onclick=\"convertToInteractive('df-3fc07c18-325b-4f92-b939-d20b2b9190c7')\"\n",
              "              title=\"Convert this dataframe to an interactive table.\"\n",
              "              style=\"display:none;\">\n",
              "        \n",
              "  <svg xmlns=\"http://www.w3.org/2000/svg\" height=\"24px\"viewBox=\"0 0 24 24\"\n",
              "       width=\"24px\">\n",
              "    <path d=\"M0 0h24v24H0V0z\" fill=\"none\"/>\n",
              "    <path d=\"M18.56 5.44l.94 2.06.94-2.06 2.06-.94-2.06-.94-.94-2.06-.94 2.06-2.06.94zm-11 1L8.5 8.5l.94-2.06 2.06-.94-2.06-.94L8.5 2.5l-.94 2.06-2.06.94zm10 10l.94 2.06.94-2.06 2.06-.94-2.06-.94-.94-2.06-.94 2.06-2.06.94z\"/><path d=\"M17.41 7.96l-1.37-1.37c-.4-.4-.92-.59-1.43-.59-.52 0-1.04.2-1.43.59L10.3 9.45l-7.72 7.72c-.78.78-.78 2.05 0 2.83L4 21.41c.39.39.9.59 1.41.59.51 0 1.02-.2 1.41-.59l7.78-7.78 2.81-2.81c.8-.78.8-2.07 0-2.86zM5.41 20L4 18.59l7.72-7.72 1.47 1.35L5.41 20z\"/>\n",
              "  </svg>\n",
              "      </button>\n",
              "      \n",
              "  <style>\n",
              "    .colab-df-container {\n",
              "      display:flex;\n",
              "      flex-wrap:wrap;\n",
              "      gap: 12px;\n",
              "    }\n",
              "\n",
              "    .colab-df-convert {\n",
              "      background-color: #E8F0FE;\n",
              "      border: none;\n",
              "      border-radius: 50%;\n",
              "      cursor: pointer;\n",
              "      display: none;\n",
              "      fill: #1967D2;\n",
              "      height: 32px;\n",
              "      padding: 0 0 0 0;\n",
              "      width: 32px;\n",
              "    }\n",
              "\n",
              "    .colab-df-convert:hover {\n",
              "      background-color: #E2EBFA;\n",
              "      box-shadow: 0px 1px 2px rgba(60, 64, 67, 0.3), 0px 1px 3px 1px rgba(60, 64, 67, 0.15);\n",
              "      fill: #174EA6;\n",
              "    }\n",
              "\n",
              "    [theme=dark] .colab-df-convert {\n",
              "      background-color: #3B4455;\n",
              "      fill: #D2E3FC;\n",
              "    }\n",
              "\n",
              "    [theme=dark] .colab-df-convert:hover {\n",
              "      background-color: #434B5C;\n",
              "      box-shadow: 0px 1px 3px 1px rgba(0, 0, 0, 0.15);\n",
              "      filter: drop-shadow(0px 1px 2px rgba(0, 0, 0, 0.3));\n",
              "      fill: #FFFFFF;\n",
              "    }\n",
              "  </style>\n",
              "\n",
              "      <script>\n",
              "        const buttonEl =\n",
              "          document.querySelector('#df-3fc07c18-325b-4f92-b939-d20b2b9190c7 button.colab-df-convert');\n",
              "        buttonEl.style.display =\n",
              "          google.colab.kernel.accessAllowed ? 'block' : 'none';\n",
              "\n",
              "        async function convertToInteractive(key) {\n",
              "          const element = document.querySelector('#df-3fc07c18-325b-4f92-b939-d20b2b9190c7');\n",
              "          const dataTable =\n",
              "            await google.colab.kernel.invokeFunction('convertToInteractive',\n",
              "                                                     [key], {});\n",
              "          if (!dataTable) return;\n",
              "\n",
              "          const docLinkHtml = 'Like what you see? Visit the ' +\n",
              "            '<a target=\"_blank\" href=https://colab.research.google.com/notebooks/data_table.ipynb>data table notebook</a>'\n",
              "            + ' to learn more about interactive tables.';\n",
              "          element.innerHTML = '';\n",
              "          dataTable['output_type'] = 'display_data';\n",
              "          await google.colab.output.renderOutput(dataTable, element);\n",
              "          const docLink = document.createElement('div');\n",
              "          docLink.innerHTML = docLinkHtml;\n",
              "          element.appendChild(docLink);\n",
              "        }\n",
              "      </script>\n",
              "    </div>\n",
              "  </div>\n",
              "  "
            ]
          },
          "metadata": {},
          "execution_count": 16
        }
      ],
      "source": [
        "data"
      ]
    },
    {
      "cell_type": "code",
      "execution_count": 17,
      "metadata": {
        "id": "U5dsCHUSF0-w"
      },
      "outputs": [],
      "source": [
        "columns_titles = [\"new\",\"comment\",\"label\"]\n",
        "Cyberbully_data=data.reindex(columns=columns_titles)"
      ]
    },
    {
      "cell_type": "code",
      "execution_count": 18,
      "metadata": {
        "colab": {
          "base_uri": "https://localhost:8080/",
          "height": 424
        },
        "id": "PS-4GwPFF1Bj",
        "outputId": "70fd300e-bb8b-4387-b1b3-070b4df294a5"
      },
      "outputs": [
        {
          "output_type": "execute_result",
          "data": {
            "text/plain": [
              "                                                     new  \\\n",
              "0      ওই হালার পুত এখন কি মদ খাওয়ার সময় রাতের বেলা...   \n",
              "1       ঘরে বসে শুট করতে কেমন লেগেছে ক্যামেরাতে কে ছিলেন   \n",
              "2                                অরে বাবা এই টা কোন পাগল   \n",
              "3                                  ক্যাপ্টেন অফ বাংলাদেশ   \n",
              "4                                               পটকা মাছ   \n",
              "...                                                  ...   \n",
              "43996                                 হিরো আলম এগিয়ে যাও   \n",
              "43997  হিরো আলমকে সাপোর্ট দেওয়ার জন্য অসংখ্য ধন্যবাদ...   \n",
              "43998                            হিরো ভাই তুমি এগিয়ে য়াও   \n",
              "43999     হুম ভাও তোমরা এগিয়ে যাও আমরা তোমাদের পিছনে আছি   \n",
              "44000            হ্যালো তোমাদের সাথে কি আমাকে চ্যাট করবে   \n",
              "\n",
              "                                                 comment      label  \n",
              "0      ওই হালার পুত এখন কি মদ খাওয়ার সময় রাতের বেলা...     sexual  \n",
              "1       ঘরে বসে শুট করতে কেমন লেগেছে ক্যামেরাতে কে ছিলেন  not bully  \n",
              "2                                অরে বাবা এই টা কোন পাগল  not bully  \n",
              "3                                  ক্যাপ্টেন অফ বাংলাদেশ  not bully  \n",
              "4                                               পটকা মাছ      troll  \n",
              "...                                                  ...        ...  \n",
              "43996                                 হিরো আলম এগিয়ে যাও  not bully  \n",
              "43997  হিরো আলমকে সাপোর্ট দেওয়ার জন্য অসংখ্য ধন্যবাদ...  not bully  \n",
              "43998                            হিরো ভাই তুমি এগিয়ে য়াও  not bully  \n",
              "43999     হুম ভাও তোমরা এগিয়ে যাও আমরা তোমাদের পিছনে আছি  not bully  \n",
              "44000            হ্যালো তোমাদের সাথে কি আমাকে চ্যাট করবে  not bully  \n",
              "\n",
              "[44001 rows x 3 columns]"
            ],
            "text/html": [
              "\n",
              "  <div id=\"df-4f62cc44-1acf-4b74-bfa0-9e516165db3d\">\n",
              "    <div class=\"colab-df-container\">\n",
              "      <div>\n",
              "<style scoped>\n",
              "    .dataframe tbody tr th:only-of-type {\n",
              "        vertical-align: middle;\n",
              "    }\n",
              "\n",
              "    .dataframe tbody tr th {\n",
              "        vertical-align: top;\n",
              "    }\n",
              "\n",
              "    .dataframe thead th {\n",
              "        text-align: right;\n",
              "    }\n",
              "</style>\n",
              "<table border=\"1\" class=\"dataframe\">\n",
              "  <thead>\n",
              "    <tr style=\"text-align: right;\">\n",
              "      <th></th>\n",
              "      <th>new</th>\n",
              "      <th>comment</th>\n",
              "      <th>label</th>\n",
              "    </tr>\n",
              "  </thead>\n",
              "  <tbody>\n",
              "    <tr>\n",
              "      <th>0</th>\n",
              "      <td>ওই হালার পুত এখন কি মদ খাওয়ার সময় রাতের বেলা...</td>\n",
              "      <td>ওই হালার পুত এখন কি মদ খাওয়ার সময় রাতের বেলা...</td>\n",
              "      <td>sexual</td>\n",
              "    </tr>\n",
              "    <tr>\n",
              "      <th>1</th>\n",
              "      <td>ঘরে বসে শুট করতে কেমন লেগেছে ক্যামেরাতে কে ছিলেন</td>\n",
              "      <td>ঘরে বসে শুট করতে কেমন লেগেছে ক্যামেরাতে কে ছিলেন</td>\n",
              "      <td>not bully</td>\n",
              "    </tr>\n",
              "    <tr>\n",
              "      <th>2</th>\n",
              "      <td>অরে বাবা এই টা কোন পাগল</td>\n",
              "      <td>অরে বাবা এই টা কোন পাগল</td>\n",
              "      <td>not bully</td>\n",
              "    </tr>\n",
              "    <tr>\n",
              "      <th>3</th>\n",
              "      <td>ক্যাপ্টেন অফ বাংলাদেশ</td>\n",
              "      <td>ক্যাপ্টেন অফ বাংলাদেশ</td>\n",
              "      <td>not bully</td>\n",
              "    </tr>\n",
              "    <tr>\n",
              "      <th>4</th>\n",
              "      <td>পটকা মাছ</td>\n",
              "      <td>পটকা মাছ</td>\n",
              "      <td>troll</td>\n",
              "    </tr>\n",
              "    <tr>\n",
              "      <th>...</th>\n",
              "      <td>...</td>\n",
              "      <td>...</td>\n",
              "      <td>...</td>\n",
              "    </tr>\n",
              "    <tr>\n",
              "      <th>43996</th>\n",
              "      <td>হিরো আলম এগিয়ে যাও</td>\n",
              "      <td>হিরো আলম এগিয়ে যাও</td>\n",
              "      <td>not bully</td>\n",
              "    </tr>\n",
              "    <tr>\n",
              "      <th>43997</th>\n",
              "      <td>হিরো আলমকে সাপোর্ট দেওয়ার জন্য অসংখ্য ধন্যবাদ...</td>\n",
              "      <td>হিরো আলমকে সাপোর্ট দেওয়ার জন্য অসংখ্য ধন্যবাদ...</td>\n",
              "      <td>not bully</td>\n",
              "    </tr>\n",
              "    <tr>\n",
              "      <th>43998</th>\n",
              "      <td>হিরো ভাই তুমি এগিয়ে য়াও</td>\n",
              "      <td>হিরো ভাই তুমি এগিয়ে য়াও</td>\n",
              "      <td>not bully</td>\n",
              "    </tr>\n",
              "    <tr>\n",
              "      <th>43999</th>\n",
              "      <td>হুম ভাও তোমরা এগিয়ে যাও আমরা তোমাদের পিছনে আছি</td>\n",
              "      <td>হুম ভাও তোমরা এগিয়ে যাও আমরা তোমাদের পিছনে আছি</td>\n",
              "      <td>not bully</td>\n",
              "    </tr>\n",
              "    <tr>\n",
              "      <th>44000</th>\n",
              "      <td>হ্যালো তোমাদের সাথে কি আমাকে চ্যাট করবে</td>\n",
              "      <td>হ্যালো তোমাদের সাথে কি আমাকে চ্যাট করবে</td>\n",
              "      <td>not bully</td>\n",
              "    </tr>\n",
              "  </tbody>\n",
              "</table>\n",
              "<p>44001 rows × 3 columns</p>\n",
              "</div>\n",
              "      <button class=\"colab-df-convert\" onclick=\"convertToInteractive('df-4f62cc44-1acf-4b74-bfa0-9e516165db3d')\"\n",
              "              title=\"Convert this dataframe to an interactive table.\"\n",
              "              style=\"display:none;\">\n",
              "        \n",
              "  <svg xmlns=\"http://www.w3.org/2000/svg\" height=\"24px\"viewBox=\"0 0 24 24\"\n",
              "       width=\"24px\">\n",
              "    <path d=\"M0 0h24v24H0V0z\" fill=\"none\"/>\n",
              "    <path d=\"M18.56 5.44l.94 2.06.94-2.06 2.06-.94-2.06-.94-.94-2.06-.94 2.06-2.06.94zm-11 1L8.5 8.5l.94-2.06 2.06-.94-2.06-.94L8.5 2.5l-.94 2.06-2.06.94zm10 10l.94 2.06.94-2.06 2.06-.94-2.06-.94-.94-2.06-.94 2.06-2.06.94z\"/><path d=\"M17.41 7.96l-1.37-1.37c-.4-.4-.92-.59-1.43-.59-.52 0-1.04.2-1.43.59L10.3 9.45l-7.72 7.72c-.78.78-.78 2.05 0 2.83L4 21.41c.39.39.9.59 1.41.59.51 0 1.02-.2 1.41-.59l7.78-7.78 2.81-2.81c.8-.78.8-2.07 0-2.86zM5.41 20L4 18.59l7.72-7.72 1.47 1.35L5.41 20z\"/>\n",
              "  </svg>\n",
              "      </button>\n",
              "      \n",
              "  <style>\n",
              "    .colab-df-container {\n",
              "      display:flex;\n",
              "      flex-wrap:wrap;\n",
              "      gap: 12px;\n",
              "    }\n",
              "\n",
              "    .colab-df-convert {\n",
              "      background-color: #E8F0FE;\n",
              "      border: none;\n",
              "      border-radius: 50%;\n",
              "      cursor: pointer;\n",
              "      display: none;\n",
              "      fill: #1967D2;\n",
              "      height: 32px;\n",
              "      padding: 0 0 0 0;\n",
              "      width: 32px;\n",
              "    }\n",
              "\n",
              "    .colab-df-convert:hover {\n",
              "      background-color: #E2EBFA;\n",
              "      box-shadow: 0px 1px 2px rgba(60, 64, 67, 0.3), 0px 1px 3px 1px rgba(60, 64, 67, 0.15);\n",
              "      fill: #174EA6;\n",
              "    }\n",
              "\n",
              "    [theme=dark] .colab-df-convert {\n",
              "      background-color: #3B4455;\n",
              "      fill: #D2E3FC;\n",
              "    }\n",
              "\n",
              "    [theme=dark] .colab-df-convert:hover {\n",
              "      background-color: #434B5C;\n",
              "      box-shadow: 0px 1px 3px 1px rgba(0, 0, 0, 0.15);\n",
              "      filter: drop-shadow(0px 1px 2px rgba(0, 0, 0, 0.3));\n",
              "      fill: #FFFFFF;\n",
              "    }\n",
              "  </style>\n",
              "\n",
              "      <script>\n",
              "        const buttonEl =\n",
              "          document.querySelector('#df-4f62cc44-1acf-4b74-bfa0-9e516165db3d button.colab-df-convert');\n",
              "        buttonEl.style.display =\n",
              "          google.colab.kernel.accessAllowed ? 'block' : 'none';\n",
              "\n",
              "        async function convertToInteractive(key) {\n",
              "          const element = document.querySelector('#df-4f62cc44-1acf-4b74-bfa0-9e516165db3d');\n",
              "          const dataTable =\n",
              "            await google.colab.kernel.invokeFunction('convertToInteractive',\n",
              "                                                     [key], {});\n",
              "          if (!dataTable) return;\n",
              "\n",
              "          const docLinkHtml = 'Like what you see? Visit the ' +\n",
              "            '<a target=\"_blank\" href=https://colab.research.google.com/notebooks/data_table.ipynb>data table notebook</a>'\n",
              "            + ' to learn more about interactive tables.';\n",
              "          element.innerHTML = '';\n",
              "          dataTable['output_type'] = 'display_data';\n",
              "          await google.colab.output.renderOutput(dataTable, element);\n",
              "          const docLink = document.createElement('div');\n",
              "          docLink.innerHTML = docLinkHtml;\n",
              "          element.appendChild(docLink);\n",
              "        }\n",
              "      </script>\n",
              "    </div>\n",
              "  </div>\n",
              "  "
            ]
          },
          "metadata": {},
          "execution_count": 18
        }
      ],
      "source": [
        "Cyberbully_data"
      ]
    },
    {
      "cell_type": "code",
      "execution_count": 19,
      "metadata": {
        "colab": {
          "base_uri": "https://localhost:8080/"
        },
        "id": "B6zD81J-F1ES",
        "outputId": "7b52a15d-4dac-4031-a26a-f32258e587ce"
      },
      "outputs": [
        {
          "output_type": "stream",
          "name": "stderr",
          "text": [
            "[nltk_data] Downloading package punkt to /root/nltk_data...\n",
            "[nltk_data]   Unzipping tokenizers/punkt.zip.\n"
          ]
        }
      ],
      "source": [
        "#Tokenization\n",
        "import nltk\n",
        "nltk.download('punkt')\n",
        "Cyberbully_data['new'] = Cyberbully_data.apply(lambda row: nltk.word_tokenize(row['new']), axis=1)"
      ]
    },
    {
      "cell_type": "code",
      "execution_count": 20,
      "metadata": {
        "colab": {
          "base_uri": "https://localhost:8080/"
        },
        "id": "nGH2JiqXF1HS",
        "outputId": "2ceb6682-caec-4633-9ff1-af4979538bb7"
      },
      "outputs": [
        {
          "output_type": "execute_result",
          "data": {
            "text/plain": [
              "(397,)"
            ]
          },
          "metadata": {},
          "execution_count": 20
        }
      ],
      "source": [
        "stw = pd.read_csv(\"/content/drive/MyDrive/Thesis Slide/Datasets /stopwords-bn.csv\")\n",
        "stw.columns = ['Words']\n",
        "stw.head()\n",
        "stw = stw['Words']\n",
        "stw.shape"
      ]
    },
    {
      "cell_type": "code",
      "execution_count": 21,
      "metadata": {
        "colab": {
          "base_uri": "https://localhost:8080/"
        },
        "id": "3iNPCRfSF1KB",
        "outputId": "77304dde-b1b8-488f-83e4-498ab8c9042d"
      },
      "outputs": [
        {
          "output_type": "stream",
          "name": "stdout",
          "text": [
            "<class 'list'>\n",
            "581\n",
            "['এ', 'হয়', 'কি', 'কী', 'এর', 'কে', 'যে', 'এই', 'বা', 'সব', 'টি', 'তা', 'সে', 'তাই', 'সেই', 'তার', 'আগে', 'যদি', 'আছে', 'আমি', 'এবং', 'করে', 'কার', 'এটি', 'হতে', 'যায়', 'আরও', 'যাক', 'খুব', 'উপর', 'পরে', 'হবে', 'কেন', 'কখন', 'সকল', 'হয়', 'ঠিক', 'একই', 'কোন', 'ছিল', 'খুবই', 'কোনো', 'অধীন', 'যারা', 'তারা', 'গুলি', 'তাকে', 'সেটা', 'সময়', 'আমার', 'আমরা', 'সবার', 'উভয়', 'একটা', 'আপনি', 'নিয়ে', 'একটি', 'বন্ধ', 'জন্য', 'শুধু', 'যেটা', 'উচিত', 'মাঝে', 'থেকে', 'করবে', 'আবার', 'উপরে', 'সেটি', 'কিছু', 'কারণ', 'যেমন', 'তিনি', 'মধ্যে', 'আমাকে', 'করছেন', 'তুলনা', 'তারপর', 'নিজেই', 'থাকার', 'নিজের', 'পারেন', 'একবার', 'সঙ্গে', 'ইচ্ছা', 'নীচের', 'এগুলো', 'আপনার', 'অধীনে', 'কিংবা', 'এখানে', 'তাহলে', 'কয়েক', 'জন্যে', 'হচ্ছে', 'তাদের', 'কোথায়', 'কিন্তু', 'নিজেকে', 'যতক্ষণ', 'আমাদের', 'দ্বারা', 'হয়েছে', ' সঙ্গে', 'সেখানে', 'কিভাবে', 'মাধ্যমে', 'নিজেদের', 'তুলনায়', 'প্রতিটি', 'তাদেরকে', 'ইত্যাদি', 'সম্পর্কে', 'সর্বাধিক', 'বিরুদ্ধে', 'অন্যান্য', 'দেখাচ্ছে', 'এইসব', 'একই', 'চায়', 'দিয়ে', 'অথচ', 'নিয়ে', 'বাকি', 'কিন্তু', 'এদের', 'অনেক', 'পারেনা', 'দেখান', 'এক', 'হয়ে', 'করছে ', 'ছাড়া', 'তুই', 'তোর', 'তুমিও', 'দেয়া ', 'থেকে', 'ওয়া', 'নিজার', 'ছিঃ', 'কিছু', 'থাকে', 'তুর', 'তো', 'তরফ', 'দিয়েছে', 'রেখে', 'গেছে ', 'তে', 'আপনারা', 'অর', 'একটু', 'আপনাদেরকে', 'তোমাকে', 'একজনদেয়া', 'আপনারটা', 'আপনাকে', 'মত', 'আপনিও', 'আপনিই', 'আনা', 'হয়েছে', 'আজকে', 'তোরে', 'আজও', 'আছোস', 'আছি', 'আচ্ছা', 'আজকে', 'আছিলি', 'আছিস', 'আছেন', 'আগেও', 'আমরাও', 'আমিও', 'আরে', 'আরেক', 'আরেকজনকে', 'করছি', 'আসেন', 'ইউ', 'ইকটু', 'ইয়ে', 'ইয়েস', 'অথচ', 'অথবা', 'অনুযায়ী', 'অনেক', 'অনেকে', 'অনেকেই', 'অন্তত', 'অন্য', 'অবধি', 'অবশ্য', 'অর্থাত', 'আই', 'আগামী', 'আগে', 'আগেই', 'আছে', 'আজ', 'আদ্যভাগে', 'আপনার', 'আপনি', 'আবার', 'আমরা', 'আমাকে', 'আমাদের', 'আমার', 'আমি', 'আর', 'আরও', 'ই', 'ইত্যাদি', 'ইহা', 'উচিত', 'উত্তর', 'উনি', 'উপর', 'উপরে', 'এ', 'এঁদের', 'এঁরা', 'এই', 'একই', 'একটি', 'একবার', 'একে', 'এক্', 'এখন', 'এখনও', 'এখানে', 'এখানেই', 'এটা', 'এটাই', 'এটি', 'এত', 'এতটাই', 'এতে', 'এদের', 'এব', 'এবং', 'এবার', 'এমন', 'এমনকী', 'এমনি', 'এর', 'এরা', 'এল', 'এস', 'এসে', 'ঐ', 'ও', 'ওঁদের', 'ওঁর', 'ওঁরা', 'ওই', 'ওকে', 'ওখানে', 'ওদের', 'ওর', 'ওরা', 'কখনও', 'কত', 'কবে', 'কমনে', 'কয়েক', 'কয়েকটি', 'করছে', 'করছেন', 'করতে', 'করবে', 'করবেন', 'করলে', 'করলেন', 'করা', 'করাই', 'করায়', 'করার', 'করি', 'করিতে', 'করিয়া', 'করিয়ে', 'করে', 'করেই', 'করেছিলেন', 'করেছে', 'করেছেন', 'করেন', 'কাউকে', 'কাছ', 'কাছে', 'কাজ', 'কাজে', 'কারও', 'কারণ', 'কি', 'কিংবা', 'কিছু', 'কিছুই', 'কিন্তু', 'কী', 'কে', 'কেউ', 'কেউই', 'কেখা', 'কেন', 'কোটি', 'কোন', 'কোনও', 'কোনো', 'ক্ষেত্রে', 'কয়েক', 'খুব', 'গিয়ে', 'গিয়েছে', 'গিয়ে', 'গুলি', 'গেছে', 'গেল', 'গেলে', 'গোটা', 'চলে', 'চান', 'চায়', 'চার', 'চালু', 'চেয়ে', 'চেষ্টা', 'ছাড়া', 'ছাড়াও', 'ছিল', 'ছিলেন', 'জন', 'জনকে', 'জনের', 'জন্য', 'জন্যওজে', 'জানতে', 'জানা', 'জানানো', 'জানায়', 'জানিয়ে', 'জানিয়েছে', 'জে', 'জ্নজন', 'টি', 'ঠিক', 'তখন', 'তত', 'তথা', 'তবু', 'তবে', 'তা', 'তাঁকে', 'তাঁদের', 'তাঁর', 'তাঁরা', 'তাঁাহারা', 'তাই', 'তাও', 'তাকে', 'তাতে', 'তাদের', 'তার', 'তারপর', 'তারা', 'তারৈ', 'তাহলে', 'তাহা', 'তাহাতে', 'তাহার', 'তিনঐ', 'তিনি', 'তিনিও', 'তুমি', 'তুলে', 'তেমন', 'তো', 'তোমার', 'থাকবে', 'থাকবেন', 'থাকা', 'থাকায়', 'থাকে', 'থাকেন', 'থেকে', 'থেকেই', 'থেকেও', 'দিকে', 'দিতে', 'দিন', 'দিয়ে', 'দিয়েছে', 'দিয়েছেন', 'দিলেন', 'দু', 'দুই', 'দুটি', 'দুটো', 'দেওয়া', 'দেওয়ার', 'দেওয়া', 'দেখতে', 'দেখা', 'দেখে', 'দেন', 'দেয়', 'দ্বারা', 'ধরা', 'ধরে', 'ধামার', 'নতুন', 'নয়', 'না', 'নাই', 'নাকি', 'নাগাদ', 'নানা', 'নিজে', 'নিজেই', 'নিজেদের', 'নিজের', 'নিতে', 'নিয়ে', 'নিয়ে', 'নেই', 'নেওয়া', 'নেওয়ার', 'নেওয়া', 'নয়', 'পক্ষে', 'পর', 'পরে', 'পরেই', 'পরেও', 'পর্যন্ত', 'পাওয়া', 'পাচ', 'পারি', 'পারে', 'পারেন', 'পি', 'পেয়ে', 'পেয়্র্', 'প্রতি', 'প্রথম', 'প্রভৃতি', 'প্রযন্ত', 'প্রাথমিক', 'প্রায়', 'প্রায়', 'ফলে', 'ফিরে', 'ফের', 'বক্তব্য', 'বদলে', 'বন', 'বরং', 'বলতে', 'বলল', 'বললেন', 'বলা', 'বলে', 'বলেছেন', 'বলেন', 'বসে', 'বহু', 'বা', 'বাদে', 'বার', 'বি', 'বিনা', 'বিভিন্ন', 'বিশেষ', 'বিষয়টি', 'বেশ', 'বেশি', 'ব্যবহার', 'ব্যাপারে', 'ভাবে', 'ভাবেই', 'মতো', 'মতোই', 'মধ্যভাগে', 'মধ্যে', 'মধ্যেই', 'মধ্যেও', 'মনে', 'মাত্র', 'মাধ্যমে', 'মোট', 'মোটেই', 'যখন', 'যত', 'যতটা', 'যথেষ্ট', 'যদি', 'যদিও', 'যা', 'যাঁর', 'যাঁরা', 'যাওয়া', 'যাওয়ার', 'যাওয়া', 'যাকে', 'যাচ্ছে', 'যাতে', 'যাদের', 'যান', 'যাবে', 'যায়', 'যার', 'যারা', 'যিনি', 'যে', 'যেখানে', 'যেতে', 'যেন', 'যেমন', 'র', 'রকম', 'রয়েছে', 'রাখা', 'রেখে', 'লক্ষ', 'শুধু', 'শুরু', 'সঙ্গে', 'সঙ্গেও', 'সব', 'সবার', 'সমস্ত', 'সম্প্রতি', 'সহ', 'সহিত', 'সাধারণ', 'সামনে', 'সি', 'সুতরাং', 'সে', 'সেই', 'সেখান', 'সেখানে', 'সেটা', 'সেটাই', 'সেটাও', 'সেটি', 'স্পষ্ট', 'স্বয়ং', 'হইতে', 'হইবে', 'হইয়া', 'হওয়া', 'হওয়ায়', 'হওয়ার', 'হচ্ছে', 'হত', 'হতে', 'হতেই', 'হন', 'হবে', 'হবেন', 'হয়', 'হয়তো', 'হয়নি', 'হয়ে', 'হয়েই', 'হয়েছিল', 'হয়েছে', 'হয়েছেন', 'হল', 'হলে', 'হলেই', 'হলেও', 'হলো', 'হাজার', 'হিসাবে', 'হৈলে', 'হোক', 'হয়']\n"
          ]
        }
      ],
      "source": [
        "stop_words = ['এ', 'হয়', 'কি', 'কী', 'এর', 'কে', 'যে', 'এই', 'বা', 'সব', 'টি', 'তা',\n",
        "       'সে', 'তাই', 'সেই', 'তার', 'আগে', 'যদি', 'আছে', 'আমি', 'এবং', 'করে', 'কার', 'এটি', 'হতে', 'যায়',\n",
        "       'আরও', 'যাক', 'খুব', 'উপর', 'পরে', 'হবে', 'কেন', 'কখন', 'সকল', 'হয়', 'ঠিক', 'একই', 'কোন',\n",
        "       'ছিল', 'খুবই', 'কোনো', 'অধীন', 'যারা', 'তারা', 'গুলি', 'তাকে', 'সেটা', 'সময়', 'আমার', 'আমরা', 'সবার',\n",
        "       'উভয়', 'একটা', 'আপনি', 'নিয়ে', 'একটি', 'বন্ধ', 'জন্য', 'শুধু', 'যেটা', 'উচিত', 'মাঝে', 'থেকে', 'করবে',\n",
        "       'আবার', 'উপরে', 'সেটি', 'কিছু', 'কারণ', 'যেমন', 'তিনি', 'মধ্যে', 'আমাকে', 'করছেন', 'তুলনা', 'তারপর',\n",
        "       'নিজেই', 'থাকার', 'নিজের', 'পারেন', 'একবার', 'সঙ্গে', 'ইচ্ছা', 'নীচের', 'এগুলো', 'আপনার', 'অধীনে', 'কিংবা',\n",
        "       'এখানে', 'তাহলে', 'কয়েক', 'জন্যে', 'হচ্ছে', 'তাদের', 'কোথায়', 'কিন্তু', 'নিজেকে', 'যতক্ষণ', 'আমাদের',\n",
        "       'দ্বারা', 'হয়েছে', ' সঙ্গে', 'সেখানে', 'কিভাবে', 'মাধ্যমে', 'নিজেদের', 'তুলনায়', 'প্রতিটি',\n",
        "       'তাদেরকে', 'ইত্যাদি', 'সম্পর্কে', 'সর্বাধিক', 'বিরুদ্ধে', 'অন্যান্য','দেখাচ্ছে','এইসব','একই','চায়','দিয়ে','অথচ','নিয়ে','বাকি','কিন্তু','এদের','অনেক','পারেনা','দেখান' ,'এক' ,'হয়ে','করছে ','ছাড়া','তুই','তোর','তুমিও','দেয়া ','থেকে','ওয়া','নিজার','ছিঃ','কিছু','থাকে','তুর','তো','তরফ','দিয়েছে','রেখে', 'গেছে ','তে',\n",
        "      'আপনারা','অর','একটু','আপনাদেরকে','তোমাকে','একজন''দেয়া','আপনারটা','আপনাকে','মত','আপনিও','আপনিই','আনা','হয়েছে','আজকে','তোরে','আজও','আছোস','আছি','আচ্ছা','আজকে','আছিলি','আছিস','আছেন','আগেও','আমরাও','আমিও','আরে','আরেক','আরেকজনকে','করছি','আসেন','ইউ','ইকটু','ইয়ে','ইয়েস']\n",
        "for i in range(stw.shape[0]):\n",
        "    stop_words.append(stw[i])\n",
        "print(type(stop_words))\n",
        "print(len(stop_words))\n",
        "print(stop_words)\n",
        "\n",
        "Cyberbully_data['new']=Cyberbully_data['new'].apply(lambda x: [item for item in x if item not in stop_words])"
      ]
    },
    {
      "cell_type": "code",
      "execution_count": 22,
      "metadata": {
        "colab": {
          "base_uri": "https://localhost:8080/",
          "height": 424
        },
        "id": "5gyeNOAgF1NF",
        "outputId": "3bad60c7-4bb7-4207-ed29-5e6b5bc9033a"
      },
      "outputs": [
        {
          "output_type": "execute_result",
          "data": {
            "text/plain": [
              "                                                     new  \\\n",
              "0      [হালার, পুত, মদ, খাওয়ার, রাতের, বেলা, মদ, খাই...   \n",
              "1                   [ঘরে, শুট, কেমন, লেগেছে, ক্যামেরাতে]   \n",
              "2                                  [অরে, বাবা, টা, পাগল]   \n",
              "3                              [ক্যাপ্টেন, অফ, বাংলাদেশ]   \n",
              "4                                            [পটকা, মাছ]   \n",
              "...                                                  ...   \n",
              "43996                            [হিরো, আলম, এগিয়ে, যাও]   \n",
              "43997            [হিরো, আলমকে, সাপোর্ট, অসংখ্য, ধন্যবাদ]   \n",
              "43998                            [হিরো, ভাই, এগিয়ে, য়াও]   \n",
              "43999      [হুম, ভাও, তোমরা, এগিয়ে, যাও, তোমাদের, পিছনে]   \n",
              "44000                     [হ্যালো, তোমাদের, সাথে, চ্যাট]   \n",
              "\n",
              "                                                 comment      label  \n",
              "0      ওই হালার পুত এখন কি মদ খাওয়ার সময় রাতের বেলা...     sexual  \n",
              "1       ঘরে বসে শুট করতে কেমন লেগেছে ক্যামেরাতে কে ছিলেন  not bully  \n",
              "2                                অরে বাবা এই টা কোন পাগল  not bully  \n",
              "3                                  ক্যাপ্টেন অফ বাংলাদেশ  not bully  \n",
              "4                                               পটকা মাছ      troll  \n",
              "...                                                  ...        ...  \n",
              "43996                                 হিরো আলম এগিয়ে যাও  not bully  \n",
              "43997  হিরো আলমকে সাপোর্ট দেওয়ার জন্য অসংখ্য ধন্যবাদ...  not bully  \n",
              "43998                            হিরো ভাই তুমি এগিয়ে য়াও  not bully  \n",
              "43999     হুম ভাও তোমরা এগিয়ে যাও আমরা তোমাদের পিছনে আছি  not bully  \n",
              "44000            হ্যালো তোমাদের সাথে কি আমাকে চ্যাট করবে  not bully  \n",
              "\n",
              "[44001 rows x 3 columns]"
            ],
            "text/html": [
              "\n",
              "  <div id=\"df-472853a7-d00e-433b-8402-3ae19c378262\">\n",
              "    <div class=\"colab-df-container\">\n",
              "      <div>\n",
              "<style scoped>\n",
              "    .dataframe tbody tr th:only-of-type {\n",
              "        vertical-align: middle;\n",
              "    }\n",
              "\n",
              "    .dataframe tbody tr th {\n",
              "        vertical-align: top;\n",
              "    }\n",
              "\n",
              "    .dataframe thead th {\n",
              "        text-align: right;\n",
              "    }\n",
              "</style>\n",
              "<table border=\"1\" class=\"dataframe\">\n",
              "  <thead>\n",
              "    <tr style=\"text-align: right;\">\n",
              "      <th></th>\n",
              "      <th>new</th>\n",
              "      <th>comment</th>\n",
              "      <th>label</th>\n",
              "    </tr>\n",
              "  </thead>\n",
              "  <tbody>\n",
              "    <tr>\n",
              "      <th>0</th>\n",
              "      <td>[হালার, পুত, মদ, খাওয়ার, রাতের, বেলা, মদ, খাই...</td>\n",
              "      <td>ওই হালার পুত এখন কি মদ খাওয়ার সময় রাতের বেলা...</td>\n",
              "      <td>sexual</td>\n",
              "    </tr>\n",
              "    <tr>\n",
              "      <th>1</th>\n",
              "      <td>[ঘরে, শুট, কেমন, লেগেছে, ক্যামেরাতে]</td>\n",
              "      <td>ঘরে বসে শুট করতে কেমন লেগেছে ক্যামেরাতে কে ছিলেন</td>\n",
              "      <td>not bully</td>\n",
              "    </tr>\n",
              "    <tr>\n",
              "      <th>2</th>\n",
              "      <td>[অরে, বাবা, টা, পাগল]</td>\n",
              "      <td>অরে বাবা এই টা কোন পাগল</td>\n",
              "      <td>not bully</td>\n",
              "    </tr>\n",
              "    <tr>\n",
              "      <th>3</th>\n",
              "      <td>[ক্যাপ্টেন, অফ, বাংলাদেশ]</td>\n",
              "      <td>ক্যাপ্টেন অফ বাংলাদেশ</td>\n",
              "      <td>not bully</td>\n",
              "    </tr>\n",
              "    <tr>\n",
              "      <th>4</th>\n",
              "      <td>[পটকা, মাছ]</td>\n",
              "      <td>পটকা মাছ</td>\n",
              "      <td>troll</td>\n",
              "    </tr>\n",
              "    <tr>\n",
              "      <th>...</th>\n",
              "      <td>...</td>\n",
              "      <td>...</td>\n",
              "      <td>...</td>\n",
              "    </tr>\n",
              "    <tr>\n",
              "      <th>43996</th>\n",
              "      <td>[হিরো, আলম, এগিয়ে, যাও]</td>\n",
              "      <td>হিরো আলম এগিয়ে যাও</td>\n",
              "      <td>not bully</td>\n",
              "    </tr>\n",
              "    <tr>\n",
              "      <th>43997</th>\n",
              "      <td>[হিরো, আলমকে, সাপোর্ট, অসংখ্য, ধন্যবাদ]</td>\n",
              "      <td>হিরো আলমকে সাপোর্ট দেওয়ার জন্য অসংখ্য ধন্যবাদ...</td>\n",
              "      <td>not bully</td>\n",
              "    </tr>\n",
              "    <tr>\n",
              "      <th>43998</th>\n",
              "      <td>[হিরো, ভাই, এগিয়ে, য়াও]</td>\n",
              "      <td>হিরো ভাই তুমি এগিয়ে য়াও</td>\n",
              "      <td>not bully</td>\n",
              "    </tr>\n",
              "    <tr>\n",
              "      <th>43999</th>\n",
              "      <td>[হুম, ভাও, তোমরা, এগিয়ে, যাও, তোমাদের, পিছনে]</td>\n",
              "      <td>হুম ভাও তোমরা এগিয়ে যাও আমরা তোমাদের পিছনে আছি</td>\n",
              "      <td>not bully</td>\n",
              "    </tr>\n",
              "    <tr>\n",
              "      <th>44000</th>\n",
              "      <td>[হ্যালো, তোমাদের, সাথে, চ্যাট]</td>\n",
              "      <td>হ্যালো তোমাদের সাথে কি আমাকে চ্যাট করবে</td>\n",
              "      <td>not bully</td>\n",
              "    </tr>\n",
              "  </tbody>\n",
              "</table>\n",
              "<p>44001 rows × 3 columns</p>\n",
              "</div>\n",
              "      <button class=\"colab-df-convert\" onclick=\"convertToInteractive('df-472853a7-d00e-433b-8402-3ae19c378262')\"\n",
              "              title=\"Convert this dataframe to an interactive table.\"\n",
              "              style=\"display:none;\">\n",
              "        \n",
              "  <svg xmlns=\"http://www.w3.org/2000/svg\" height=\"24px\"viewBox=\"0 0 24 24\"\n",
              "       width=\"24px\">\n",
              "    <path d=\"M0 0h24v24H0V0z\" fill=\"none\"/>\n",
              "    <path d=\"M18.56 5.44l.94 2.06.94-2.06 2.06-.94-2.06-.94-.94-2.06-.94 2.06-2.06.94zm-11 1L8.5 8.5l.94-2.06 2.06-.94-2.06-.94L8.5 2.5l-.94 2.06-2.06.94zm10 10l.94 2.06.94-2.06 2.06-.94-2.06-.94-.94-2.06-.94 2.06-2.06.94z\"/><path d=\"M17.41 7.96l-1.37-1.37c-.4-.4-.92-.59-1.43-.59-.52 0-1.04.2-1.43.59L10.3 9.45l-7.72 7.72c-.78.78-.78 2.05 0 2.83L4 21.41c.39.39.9.59 1.41.59.51 0 1.02-.2 1.41-.59l7.78-7.78 2.81-2.81c.8-.78.8-2.07 0-2.86zM5.41 20L4 18.59l7.72-7.72 1.47 1.35L5.41 20z\"/>\n",
              "  </svg>\n",
              "      </button>\n",
              "      \n",
              "  <style>\n",
              "    .colab-df-container {\n",
              "      display:flex;\n",
              "      flex-wrap:wrap;\n",
              "      gap: 12px;\n",
              "    }\n",
              "\n",
              "    .colab-df-convert {\n",
              "      background-color: #E8F0FE;\n",
              "      border: none;\n",
              "      border-radius: 50%;\n",
              "      cursor: pointer;\n",
              "      display: none;\n",
              "      fill: #1967D2;\n",
              "      height: 32px;\n",
              "      padding: 0 0 0 0;\n",
              "      width: 32px;\n",
              "    }\n",
              "\n",
              "    .colab-df-convert:hover {\n",
              "      background-color: #E2EBFA;\n",
              "      box-shadow: 0px 1px 2px rgba(60, 64, 67, 0.3), 0px 1px 3px 1px rgba(60, 64, 67, 0.15);\n",
              "      fill: #174EA6;\n",
              "    }\n",
              "\n",
              "    [theme=dark] .colab-df-convert {\n",
              "      background-color: #3B4455;\n",
              "      fill: #D2E3FC;\n",
              "    }\n",
              "\n",
              "    [theme=dark] .colab-df-convert:hover {\n",
              "      background-color: #434B5C;\n",
              "      box-shadow: 0px 1px 3px 1px rgba(0, 0, 0, 0.15);\n",
              "      filter: drop-shadow(0px 1px 2px rgba(0, 0, 0, 0.3));\n",
              "      fill: #FFFFFF;\n",
              "    }\n",
              "  </style>\n",
              "\n",
              "      <script>\n",
              "        const buttonEl =\n",
              "          document.querySelector('#df-472853a7-d00e-433b-8402-3ae19c378262 button.colab-df-convert');\n",
              "        buttonEl.style.display =\n",
              "          google.colab.kernel.accessAllowed ? 'block' : 'none';\n",
              "\n",
              "        async function convertToInteractive(key) {\n",
              "          const element = document.querySelector('#df-472853a7-d00e-433b-8402-3ae19c378262');\n",
              "          const dataTable =\n",
              "            await google.colab.kernel.invokeFunction('convertToInteractive',\n",
              "                                                     [key], {});\n",
              "          if (!dataTable) return;\n",
              "\n",
              "          const docLinkHtml = 'Like what you see? Visit the ' +\n",
              "            '<a target=\"_blank\" href=https://colab.research.google.com/notebooks/data_table.ipynb>data table notebook</a>'\n",
              "            + ' to learn more about interactive tables.';\n",
              "          element.innerHTML = '';\n",
              "          dataTable['output_type'] = 'display_data';\n",
              "          await google.colab.output.renderOutput(dataTable, element);\n",
              "          const docLink = document.createElement('div');\n",
              "          docLink.innerHTML = docLinkHtml;\n",
              "          element.appendChild(docLink);\n",
              "        }\n",
              "      </script>\n",
              "    </div>\n",
              "  </div>\n",
              "  "
            ]
          },
          "metadata": {},
          "execution_count": 22
        }
      ],
      "source": [
        "Cyberbully_data"
      ]
    },
    {
      "cell_type": "code",
      "execution_count": 23,
      "metadata": {
        "id": "ijXVy5bXF1P8"
      },
      "outputs": [],
      "source": [
        "Cyberbully_data[\"joint\"]= Cyberbully_data[\"new\"].str.join(\" \")"
      ]
    },
    {
      "cell_type": "code",
      "execution_count": 24,
      "metadata": {
        "colab": {
          "base_uri": "https://localhost:8080/"
        },
        "id": "a88z9mpNF1Sx",
        "outputId": "4f3abbbb-85d9-49df-f6c8-962869564c51"
      },
      "outputs": [
        {
          "output_type": "execute_result",
          "data": {
            "text/plain": [
              "not bully    15340\n",
              "troll        10462\n",
              "sexual        8928\n",
              "religious     7577\n",
              "threat        1694\n",
              "Name: label, dtype: int64"
            ]
          },
          "metadata": {},
          "execution_count": 24
        }
      ],
      "source": [
        "Cyberbully_data['label'].value_counts()"
      ]
    },
    {
      "cell_type": "code",
      "execution_count": 25,
      "metadata": {
        "colab": {
          "base_uri": "https://localhost:8080/",
          "height": 299
        },
        "id": "Fs5TUJrcF1WI",
        "outputId": "5f4e296d-bf9b-45d0-9713-54ef09f4e2dd"
      },
      "outputs": [
        {
          "output_type": "execute_result",
          "data": {
            "text/plain": [
              "<matplotlib.axes._subplots.AxesSubplot at 0x7f14b0b4a210>"
            ]
          },
          "metadata": {},
          "execution_count": 25
        },
        {
          "output_type": "display_data",
          "data": {
            "text/plain": [
              "<Figure size 432x288 with 1 Axes>"
            ],
            "image/png": "[encoded data removed]"
          },
          "metadata": {
            "needs_background": "light"
          }
        }
      ],
      "source": [
        "import seaborn as sns\n",
        "sns.countplot(x='label',data=Cyberbully_data)"
      ]
    },
    {
      "cell_type": "code",
      "execution_count": 26,
      "metadata": {
        "id": "bjxOFFsvIaVQ"
      },
      "outputs": [],
      "source": [
        "#import label encoder \n",
        "from sklearn import preprocessing\n",
        "#creating object\n",
        "LE= preprocessing.LabelEncoder()\n",
        "#Encode \n",
        "Cyberbully_data['new_label'] = LE.fit_transform(Cyberbully_data['label']) "
      ]
    },
    {
      "cell_type": "markdown",
      "source": [
        "## **Five classes** \n",
        "*   Religious: 1\n",
        "*   Sexual: 2\n",
        "*   Threat: 3\n",
        "*   Troll: 4\n",
        "*   Not Bully: 0 \n",
        "\n",
        "\n",
        "\n",
        "\n",
        "\n",
        "\n"
      ],
      "metadata": {
        "id": "mjQXFn5l1S-7"
      }
    },
    {
      "cell_type": "code",
      "execution_count": 27,
      "metadata": {
        "colab": {
          "base_uri": "https://localhost:8080/"
        },
        "id": "iPBQpTB8KkgI",
        "outputId": "b3ea4d4f-82ba-4f60-f604-8a78cc839354"
      },
      "outputs": [
        {
          "output_type": "execute_result",
          "data": {
            "text/plain": [
              "0        2\n",
              "1        0\n",
              "2        0\n",
              "3        0\n",
              "4        4\n",
              "        ..\n",
              "43996    0\n",
              "43997    0\n",
              "43998    0\n",
              "43999    0\n",
              "44000    0\n",
              "Name: new_label, Length: 44001, dtype: int64"
            ]
          },
          "metadata": {},
          "execution_count": 27
        }
      ],
      "source": [
        "Cyberbully_data.new_label"
      ]
    },
    {
      "cell_type": "code",
      "execution_count": 28,
      "metadata": {
        "colab": {
          "base_uri": "https://localhost:8080/"
        },
        "id": "2WIdXyzDFKue",
        "outputId": "f67703b9-02ce-4b69-c893-407ba29ceb74"
      },
      "outputs": [
        {
          "output_type": "stream",
          "name": "stdout",
          "text": [
            "Each of the 44001 complaints is represented by 362343 features (Count-vectorizer score of unigrams and bigrams)\n"
          ]
        }
      ],
      "source": [
        "#formulticlassifcation classification\n",
        "coun_vect = CountVectorizer(ngram_range=(1,2),tokenizer=lambda x: x.split())\n",
        "# We transform each complaint into a vector\n",
        "features1 = coun_vect.fit_transform(Cyberbully_data['joint'])\n",
        "labels1 = Cyberbully_data.new_label\n",
        "print(\"Each of the %d complaints is represented by %d features (Count-vectorizer score of unigrams and bigrams)\" %(features1.shape))"
      ]
    },
    {
      "cell_type": "code",
      "execution_count": 29,
      "metadata": {
        "colab": {
          "base_uri": "https://localhost:8080/"
        },
        "id": "n-S_MXr49CU3",
        "outputId": "1165fee3-6d48-43e7-bd07-ae30631841a6"
      },
      "outputs": [
        {
          "output_type": "stream",
          "name": "stderr",
          "text": [
            "/usr/local/lib/python3.7/dist-packages/sklearn/utils/deprecation.py:87: FutureWarning: Function get_feature_names is deprecated; get_feature_names is deprecated in 1.0 and will be removed in 1.2. Please use get_feature_names_out instead.\n",
            "  warnings.warn(msg, category=FutureWarning)\n"
          ]
        },
        {
          "output_type": "execute_result",
          "data": {
            "text/plain": [
              "['¡',\n",
              " '¡চলেন',\n",
              " '¡চলেন রিপোর্ট',\n",
              " '®',\n",
              " '® অমানুষের',\n",
              " '¯…………………………………………',\n",
              " '¯………………………………………… ·´……………………………………………',\n",
              " '°',\n",
              " '° পারবো',\n",
              " '·´……………………………………………',\n",
              " '·´…………………………………………… পাছা',\n",
              " '»',\n",
              " '» »',\n",
              " '×',\n",
              " '× বুজাতে',\n",
              " '× মাস',\n",
              " '×××',\n",
              " '×তাহলে',\n",
              " '×তাহলে টোটাল',\n",
              " '×পৌরসভা',\n",
              " '×পৌরসভা মততাহলে',\n",
              " 'ßø',\n",
              " 'ßø ưą',\n",
              " 'à',\n",
              " 'ã',\n",
              " 'ã ãâî',\n",
              " 'ãâî',\n",
              " 'ãäñ',\n",
              " 'ãäñ ã',\n",
              " 'ä',\n",
              " 'ä à',\n",
              " 'ï',\n",
              " 'ï ℘',\n",
              " 'ķ',\n",
              " 'ķ řøī',\n",
              " 'řøī',\n",
              " 'ơ',\n",
              " 'ơ ῳ',\n",
              " 'ưą',\n",
              " 'ɛ',\n",
              " 'ɛ ཞ',\n",
              " 'π',\n",
              " 'ءَأَنذَرْتَهُمْ',\n",
              " 'ءَأَنذَرْتَهُمْ أَمْ',\n",
              " 'ءَامَنَ',\n",
              " 'ءَامَنَ ٱلسُّفَهَآءُ',\n",
              " 'ءَامَنَ ٱلنَّاسُ',\n",
              " 'ءَامَنُوا۟',\n",
              " 'ءَامَنُوا۟ رَبَّنَا',\n",
              " 'ءَامَنُوا۟ ٱدْخُلُوا۟',\n",
              " 'ءَامِنُوا۟',\n",
              " 'ءَامِنُوا۟ كَمَآ',\n",
              " 'آمَنُوا',\n",
              " 'آمَنُوا لَهُمْ',\n",
              " 'آَيَاتُنَا',\n",
              " 'آَيَاتُنَا قَالَ',\n",
              " 'أبىْ',\n",
              " 'أبىْ هريْرة',\n",
              " 'أَبْصَارِهِمْ',\n",
              " 'أَبْصَارِهِمْ وَيَحْفَظُوا',\n",
              " 'أَبْصَارِهِنَّ',\n",
              " 'أَبْصَارِهِنَّ وَيَحْفَظْ',\n",
              " 'أَثِيمٍ',\n",
              " 'أَثِيمٍ إِذَا',\n",
              " 'أَجْرًا',\n",
              " 'أَجْرًا كَبِيرًاইন্না',\n",
              " 'أَزْكَىٰ',\n",
              " 'أَزْكَىٰ لَهُمْ',\n",
              " 'أَسَاطِيرُ',\n",
              " 'أَسَاطِيرُ الْأَوَّلِينَ',\n",
              " 'أَعْتَدْنَا',\n",
              " 'أَعْتَدْنَا لَهُمْ',\n",
              " 'أَعْلَمُ',\n",
              " 'أَعْلَمُ بِمَا',\n",
              " 'أَعۡمَـٰلَهُمۡ',\n",
              " 'أَعۡمَـٰلَهُمۡ فَهُمۡ',\n",
              " 'أَقْوَمُ',\n",
              " 'أَقْوَمُ وَيُبَشِّرُ',\n",
              " 'أَلَآ',\n",
              " 'أَلَآ إِنَّهُمْ',\n",
              " 'أَلَيْسَ',\n",
              " 'أَلَيْسَ اللَّهُ',\n",
              " 'أَلِيمًاউচ্চারণঃ',\n",
              " 'أَلِيمًاউচ্চারণঃ আন্নাল্লাযীনা',\n",
              " 'أَلِيمًاওয়া',\n",
              " 'أَلِيمًاওয়া আন্নাল্লাযীনা',\n",
              " 'أَلِيمٌ',\n",
              " 'أَلِيمٌ فِي',\n",
              " 'أَمْ',\n",
              " 'أَمْ لَمْ',\n",
              " 'أَن',\n",
              " 'أَن لَّن',\n",
              " 'أَنُؤْمِنُ',\n",
              " 'أَنُؤْمِنُ كَمَآ',\n",
              " 'أَنَّ',\n",
              " 'أَنَّ لَهُمْ',\n",
              " 'أَنْ',\n",
              " 'أَنْ تَشِيعَ',\n",
              " 'أُنزِلَ',\n",
              " 'أُنزِلَ إِلَيْكَ',\n",
              " 'أُنزِلَ مِن',\n",
              " 'أُو۟لَٰٓئِكَ',\n",
              " 'أُو۟لَٰٓئِكَ عَلَىٰ',\n",
              " 'إِذَا',\n",
              " 'إِذَا تُتْلَى',\n",
              " 'إِكْرَاهَ',\n",
              " 'إِكْرَاهَ فِي',\n",
              " 'إِلَيْكَ',\n",
              " 'إِلَيْكَ وَمَآ',\n",
              " 'إِلَّا',\n",
              " 'إِلَّا كُلُّ',\n",
              " 'إِنَّ',\n",
              " 'إِنَّ اللَّهَ',\n",
              " 'إِنَّ الَّذِينَ',\n",
              " 'إِنَّ هَٰذَا',\n",
              " 'إِنَّ ٱلَّذِينَ',\n",
              " 'إِنَّهُمْ',\n",
              " 'إِنَّهُمْ عَنْ',\n",
              " 'إِنَّهُمْ لَصَالُو',\n",
              " 'إِنَّهُمْ هُمُ',\n",
              " 'إِنَّهُۥ',\n",
              " 'إِنَّهُۥ لَكُمْ',\n",
              " 'إِنْ',\n",
              " 'إِنْ تَكُونُوا',\n",
              " 'ابْن',\n",
              " 'ابْن عبّاس',\n",
              " 'اقْرَأْ',\n",
              " 'اقْرَأْ كِتَابَكَ',\n",
              " 'الإسرا',\n",
              " 'الإسرا আয়াত',\n",
              " 'البقرة',\n",
              " 'البقرة আয়াত',\n",
              " 'التّغابن',\n",
              " 'التّغابن আয়াত',\n",
              " 'الدُّنْيَا',\n",
              " 'الدُّنْيَا وَالْآخِرَةِ',\n",
              " 'الدِّينِ',\n",
              " 'الدِّينِ وَمَا',\n",
              " 'الدِّينِদ্বীনের',\n",
              " 'الدِّينِদ্বীনের কোন',\n",
              " 'الصَّالِحَاتِ',\n",
              " 'الصَّالِحَاتِ أَنَّ',\n",
              " 'القصص',\n",
              " 'القصص আয়াত',\n",
              " 'القهارআল',\n",
              " 'القهارআল মুমিন',\n",
              " 'الله',\n",
              " 'الله بنْ',\n",
              " 'الله عنْه',\n",
              " 'الله عنْهما',\n",
              " 'الله فى',\n",
              " 'اللَّهَ',\n",
              " 'اللَّهَ خَبِيرٌ',\n",
              " 'اللَّهُ',\n",
              " 'اللَّهُ بِأَحْكَمِ',\n",
              " 'المطففينসেদিন',\n",
              " 'المطففينসেদিন ধ্বংস',\n",
              " 'الملك',\n",
              " 'الملك اليوم',\n",
              " 'الواحد',\n",
              " 'الواحد القهارআল',\n",
              " 'اليوم',\n",
              " 'اليوم لله',\n",
              " 'الَّذِي',\n",
              " 'الَّذِي كُنْتُمْ',\n",
              " 'الَّذِينَ',\n",
              " 'الَّذِينَ آمَنُوا',\n",
              " 'الَّذِينَ لَا',\n",
              " 'الَّذِينَ يَعْمَلُونَ',\n",
              " 'الَّذِينَ يُؤْمِنُونَ',\n",
              " 'الَّذِينَ يُحِبُّونَ',\n",
              " 'الَّذِينَ يُكَذِّبُونَ',\n",
              " 'الْأَوَّلِينَ',\n",
              " 'الْأَوَّلِينَ كَلَّا',\n",
              " 'الْجَحِيمِ',\n",
              " 'الْجَحِيمِ ثُمَّ',\n",
              " 'الْحَاكِمِينَআলাইছাল্লাহু',\n",
              " 'الْحَاكِمِينَআলাইছাল্লাহু বিআহকামিল',\n",
              " 'الْخطّاب',\n",
              " 'الْخطّاب رضى',\n",
              " 'الْفَاحِشَةُ',\n",
              " 'الْفَاحِشَةُ فِي',\n",
              " 'الْقُرْآنَ',\n",
              " 'الْقُرْآنَ يَهْدِي',\n",
              " 'الْمُؤْمِنِينَ',\n",
              " 'الْمُؤْمِنِينَ الَّذِينَ',\n",
              " 'الْيَوْمَ',\n",
              " 'الْيَوْمَ عَلَيْكَ',\n",
              " 'بنْ',\n",
              " 'بنْ مسْعوْد',\n",
              " 'بَعْدَ',\n",
              " 'بَعْدَ ذٰلِكَ',\n",
              " 'بَعْدُ',\n",
              " 'بَعْدُ بِالدِّينِফামাইউকাযযি',\n",
              " 'بَلَىٰ',\n",
              " 'بَلَىٰ وَرَبِّى',\n",
              " 'بَلْ',\n",
              " 'بَلْ رَانَ',\n",
              " 'بِأَحْكَمِ',\n",
              " 'بِأَحْكَمِ الْحَاكِمِينَআলাইছাল্লাহু',\n",
              " 'بِالدِّينِফামাইউকাযযি',\n",
              " 'بِالدِّينِফামাইউকাযযি বুকা',\n",
              " 'بِالْآخِرَةِ',\n",
              " 'بِالْآخِرَةِ أَعْتَدْنَا',\n",
              " 'بِالْغَيْبِ',\n",
              " 'بِالْغَيْبِ আল্লাযী',\n",
              " 'بِالْغَيْبِআল্লাযী',\n",
              " 'بِالْغَيْبِআল্লাযী ইউমিনুনা',\n",
              " 'بِحَمْدِ',\n",
              " 'بِحَمْدِ رَبِّهِمْ',\n",
              " 'بِمَا',\n",
              " 'بِمَا عَمِلْتُمْ',\n",
              " 'بِمَا فِي',\n",
              " 'بِمَا يَصْنَعُونَকুল',\n",
              " 'بِمَآ',\n",
              " 'بِمَآ أُنزِلَ',\n",
              " 'بِنَفْسِكَ',\n",
              " 'بِنَفْسِكَ الْيَوْمَ',\n",
              " 'بِهِ',\n",
              " 'بِهِ إِلَّا',\n",
              " 'بِهِ تُكَذِّبُونَ',\n",
              " 'بِهِۦ',\n",
              " 'بِهِۦ وَيَسْتَغْفِرُونَ',\n",
              " 'بِيَوْمِ',\n",
              " 'بِيَوْمِ الدِّينِ',\n",
              " 'بِٱلْءَاخِرَةِ',\n",
              " 'بِٱلْءَاخِرَةِ أَعْتَدْنَا',\n",
              " 'بِٱلْغَيْبِ',\n",
              " 'بِٱلْغَيْبِ وَيُقِيمُونَ',\n",
              " 'بِٱلۡأَخِرَةِ',\n",
              " 'بِٱلۡأَخِرَةِ زَيَّنَّا',\n",
              " 'بْن',\n",
              " 'بْن الْخطّاب',\n",
              " 'تَابُوا۟',\n",
              " 'تَابُوا۟ وَٱتَّبَعُوا۟',\n",
              " 'تَتَّبِعُوا۟',\n",
              " 'تَتَّبِعُوا۟ خُطُوَٰتِ',\n",
              " 'تَشِيعَ',\n",
              " 'تَشِيعَ الْفَاحِشَةُ',\n",
              " 'تَعْلَمُونَইন্নাল্লাযীনা',\n",
              " 'تَعْلَمُونَইন্নাল্লাযীনা ইউহিববূনা',\n",
              " 'تَكُونُوا',\n",
              " 'تَكُونُوا صَالِحِينَ',\n",
              " 'تُتْلَى',\n",
              " 'تُتْلَى عَلَيْهِ',\n",
              " 'تُكَذِّبُونَ',\n",
              " 'تُكَذِّبُونَ سورة',\n",
              " 'تُنذِرْهُمْ',\n",
              " 'تُنذِرْهُمْ لَا',\n",
              " 'تِلْكَ',\n",
              " 'تِلْكَ ٱلدَّارُ',\n",
              " 'ثُمَّ',\n",
              " 'ثُمَّ إِنَّهُمْ',\n",
              " 'ثُمَّ لَتُنَبَّؤُنَّ',\n",
              " 'ثُمَّ يُقَالُ',\n",
              " 'حياتك',\n",
              " 'حَسِيبًاইকরা',\n",
              " 'حَسِيبًاইকরা কিতাবাকা',\n",
              " 'حَوْلَهُۥ',\n",
              " 'حَوْلَهُۥ يُسَبِّحُونَ',\n",
              " 'خَبِيرٌ',\n",
              " 'خَبِيرٌ بِمَا',\n",
              " 'خُطُوَٰتِ',\n",
              " 'خُطُوَٰتِ ٱلشَّيْطَٰنِ',\n",
              " 'ذَٰلِكَ',\n",
              " 'ذَٰلِكَ أَزْكَىٰ',\n",
              " 'ذَٰلِكَ ٱلْكِتَٰبُ',\n",
              " 'ذٰلِكَ',\n",
              " 'ذٰلِكَ زَنِيمٍদুষ্ট',\n",
              " 'رضى',\n",
              " 'رضى الله',\n",
              " 'رَانَ',\n",
              " 'رَانَ عَلَى',\n",
              " 'رَبَّنَا',\n",
              " 'رَبَّنَا وَسِعْتَ',\n",
              " 'رَبُّكُمْ',\n",
              " 'رَبُّكُمْ أَعْلَمُ',\n",
              " 'رَبِّهِمْ',\n",
              " 'رَبِّهِمْ وَيُؤْمِنُونَ',\n",
              " 'رَبِّهِمْ يَوْمَئِذٍ',\n",
              " 'رَزَقْنَٰهُمْ',\n",
              " 'رَزَقْنَٰهُمْ يُنفِقُونَউচ্চারণঃ',\n",
              " 'رَيْبَ',\n",
              " 'رَيْبَ فِيهِ',\n",
              " 'رَّبِّهِمْ',\n",
              " 'رَّبِّهِمْ وَأُو۟لَٰٓئِكَ',\n",
              " 'رَّحْمَةً',\n",
              " 'رَّحْمَةً وَعِلْمًا',\n",
              " 'زَعَمَ',\n",
              " 'زَعَمَ ٱلَّذِينَ',\n",
              " 'زَنِيمٍদুষ্ট',\n",
              " 'زَنِيمٍদুষ্ট প্রকৃতির',\n",
              " 'زَيَّنَّا',\n",
              " 'زَيَّنَّا لَهُمۡ',\n",
              " 'سورة',\n",
              " 'سورة المطففينসেদিন',\n",
              " 'سَبِيلَكَ',\n",
              " 'سَبِيلَكَ وَقِهِمْ',\n",
              " 'سَوَآءٌ',\n",
              " 'سَوَآءٌ عَلَيْهِمْ',\n",
              " 'سُوٓءُ',\n",
              " 'سُوٓءُ ٱلۡعَذَابِ',\n",
              " 'شَىْءٍ',\n",
              " 'شَىْءٍ رَّحْمَةً',\n",
              " 'صَالِحِينَ',\n",
              " 'صَالِحِينَ فَإِنَّهُ',\n",
              " 'عبّاس',\n",
              " 'عبّاس رضى',\n",
              " 'عبْد',\n",
              " 'عبْد الله',\n",
              " 'عمر',\n",
              " 'عمر بْن',\n",
              " 'عنْه',\n",
              " 'عنْه বর্ণনা',\n",
              " 'عنْه বর্ণিত',\n",
              " 'عنْهما',\n",
              " 'عنْهما বর্ণিত',\n",
              " 'عَدُوٌّ',\n",
              " 'عَدُوٌّ مُّبِينٌউচ্চারণঃ',\n",
              " 'عَذَابًا',\n",
              " 'عَذَابًا أَلِيمًاউচ্চারণঃ',\n",
              " 'عَذَابًا أَلِيمًاওয়া',\n",
              " 'عَذَابٌ',\n",
              " 'عَذَابٌ أَلِيمٌ',\n",
              " 'عَذَابَ',\n",
              " 'عَذَابَ ٱلْجَحِيمِউচ্চারণঃ',\n",
              " 'عَلَى',\n",
              " 'عَلَى قُلُوبِهِمْ',\n",
              " 'عَلَى ٱللَّهِ',\n",
              " 'عَلَىٰ',\n",
              " 'عَلَىٰ هُدًى',\n",
              " 'عَلَيْكَ',\n",
              " 'عَلَيْكَ حَسِيبًاইকরা',\n",
              " 'عَلَيْهِ',\n",
              " 'عَلَيْهِ آَيَاتُنَا',\n",
              " 'عَلَيْهِمْ',\n",
              " 'عَلَيْهِمْ ءَأَنذَرْتَهُمْ',\n",
              " 'عَمِلْتُمْ',\n",
              " 'عَمِلْتُمْ وَذَٰلِكَ',\n",
              " 'عَنْ',\n",
              " 'عَنْ رَبِّهِمْ',\n",
              " 'عُلُوًّا',\n",
              " 'عُلُوًّا فِى',\n",
              " 'غافر',\n",
              " 'غافر আয়াত',\n",
              " 'غَفُورًاরাব্বুকুম',\n",
              " 'غَفُورًاরাব্বুকুম আলামুবিমা',\n",
              " 'فى',\n",
              " 'فى حياتك',\n",
              " 'فَإِنَّهُ',\n",
              " 'فَإِنَّهُ كَانَ',\n",
              " 'فَسَادًا',\n",
              " 'فَسَادًا وَٱلْعَٰقِبَةُ',\n",
              " 'فَمَا',\n",
              " 'فَمَا يُكَذِّبُكَ',\n",
              " 'فَهُمۡ',\n",
              " 'فَهُمۡ يَعۡمَهُونَনিশ্চয়',\n",
              " 'فَٱغْفِرْ',\n",
              " 'فَٱغْفِرْ لِلَّذِينَ',\n",
              " 'فُرُوجَهُمْ',\n",
              " 'فُرُوجَهُمْ ۚ',\n",
              " 'فِى',\n",
              " 'فِى ٱلسِّلْمِ',\n",
              " 'فِى ٱلْأَرْضِ',\n",
              " 'فِى ٱلۡأَخِرَةِ',\n",
              " 'فِي',\n",
              " 'فِي الدُّنْيَا',\n",
              " 'فِي الدِّينِদ্বীনের',\n",
              " 'فِي الَّذِينَ',\n",
              " 'فِي نُفُوسِكُمْ',\n",
              " 'فِيهِ',\n",
              " 'فِيهِ هُدًى',\n",
              " 'قل',\n",
              " 'قل هوالله',\n",
              " 'قَالَ',\n",
              " 'قَالَ أَسَاطِيرُ',\n",
              " 'قَالُوٓا۟',\n",
              " 'قَالُوٓا۟ أَنُؤْمِنُ',\n",
              " 'قَبْلِكَ',\n",
              " 'قَبْلِكَ وَبِٱلْءَاخِرَةِ',\n",
              " 'قُلُوبِهِمْ',\n",
              " 'قُلُوبِهِمْ مَا',\n",
              " 'قُلْ',\n",
              " 'قُلْ بَلَىٰ',\n",
              " 'قُلْ لِلْمُؤْمِنِينَ',\n",
              " 'قِيلَ',\n",
              " 'قِيلَ لَهُمْ',\n",
              " 'كَانَ',\n",
              " 'كَانَ لِلْأَوَّابِينَ',\n",
              " 'كَانُوا',\n",
              " 'كَانُوا يَكْسِبُونَ',\n",
              " 'كَآفَّةً',\n",
              " 'كَآفَّةً وَلَا',\n",
              " 'كَبِيرًاইন্না',\n",
              " 'كَبِيرًاইন্না হাযাল',\n",
              " 'كَفَرُوا۟',\n",
              " 'كَفَرُوا۟ سَوَآءٌ',\n",
              " 'كَفَرُوٓا۟',\n",
              " 'كَفَرُوٓا۟ أَن',\n",
              " 'كَفَىٰ',\n",
              " 'كَفَىٰ بِنَفْسِكَ',\n",
              " 'كَلَّا',\n",
              " 'كَلَّا إِنَّهُمْ',\n",
              " 'كَلَّا بَلْ',\n",
              " 'كَمَآ',\n",
              " 'كَمَآ ءَامَنَ',\n",
              " 'كُلَّ',\n",
              " 'كُلَّ شَىْءٍ',\n",
              " 'كُلُّ',\n",
              " 'كُلُّ مُعْتَدٍ',\n",
              " 'كُنْتُمْ',\n",
              " 'كُنْتُمْ بِهِ',\n",
              " 'كِتَابَكَ',\n",
              " 'كِتَابَكَ كَفَىٰ',\n",
              " 'لله',\n",
              " 'لله الواحد',\n",
              " 'لمن',\n",
              " 'لمن الملك',\n",
              " 'لَا',\n",
              " 'لَا تَعْلَمُونَইন্নাল্লাযীনা',\n",
              " 'لَا رَيْبَ',\n",
              " 'لَا يُؤْمِنُونَ',\n",
              " 'لَا يُؤْمِنُونَউচ্চারণঃ',\n",
              " 'لَا يُؤۡمِنُونَ',\n",
              " 'لَا يُرِيدُونَ',\n",
              " 'لَتُبْعَثُنَّ',\n",
              " 'لَتُبْعَثُنَّ ثُمَّ',\n",
              " 'لَتُنَبَّؤُنَّ',\n",
              " 'لَتُنَبَّؤُنَّ بِمَا',\n",
              " 'لَصَالُو',\n",
              " 'لَصَالُو الْجَحِيمِ',\n",
              " 'لَكُمْ',\n",
              " 'لَكُمْ عَدُوٌّ',\n",
              " 'لَمَحْجُوبُونَ',\n",
              " 'لَمَحْجُوبُونَ ثُمَّ',\n",
              " 'لَمْ',\n",
              " 'لَمْ تُنذِرْهُمْ',\n",
              " 'لَهُمْ',\n",
              " 'لَهُمْ ءَامِنُوا۟',\n",
              " 'لَهُمْ أَجْرًا',\n",
              " 'لَهُمْ عَذَابًا',\n",
              " 'لَهُمْ عَذَابٌ',\n",
              " 'لَهُمْ ۗ',\n",
              " 'لَهُمۡ',\n",
              " 'لَهُمۡ أَعۡمَـٰلَهُمۡ',\n",
              " 'لَهُمۡ سُوٓءُ',\n",
              " 'لِلَّتِي',\n",
              " 'لِلَّتِي هِيَ',\n",
              " 'لِلَّذِينَ',\n",
              " 'لِلَّذِينَ ءَامَنُوا۟',\n",
              " 'لِلَّذِينَ تَابُوا۟',\n",
              " 'لِلَّذِينَ لَا',\n",
              " 'لِلْأَوَّابِينَ',\n",
              " 'لِلْأَوَّابِينَ غَفُورًاরাব্বুকুম',\n",
              " 'لِلْمُؤْمِنَاتِ',\n",
              " 'لِلْمُؤْمِنَاتِ يَغْضُضْنَ',\n",
              " 'لِلْمُؤْمِنِينَ',\n",
              " 'لِلْمُؤْمِنِينَ يَغُضُّوا',\n",
              " 'لِلْمُتَّقِينَউচ্চারণঃ',\n",
              " 'لِلْمُتَّقِينَউচ্চারণঃ তিলকাদ্দারুল',\n",
              " 'لِلْمُكَذِّبِينَ',\n",
              " 'لِلْمُكَذِّبِينَ الَّذِينَ',\n",
              " 'لَّا',\n",
              " 'لَّا يَعْلَمُونَউচ্চারণঃ',\n",
              " 'لَّن',\n",
              " 'لَّن يُبْعَثُوا۟',\n",
              " 'لِّلْمُتَّقِينَউচ্চারণঃ',\n",
              " 'لِّلْمُتَّقِينَউচ্চারণঃ যালিকাল',\n",
              " 'مسْعوْد',\n",
              " 'مسْعوْد رضى',\n",
              " 'مَا',\n",
              " 'مَا كَانُوا',\n",
              " 'مُعْتَدٍ',\n",
              " 'مُعْتَدٍ أَثِيمٍ',\n",
              " 'مِن',\n",
              " 'مِن قَبْلِكَ',\n",
              " 'مِنْ',\n",
              " 'مِنْ أَبْصَارِهِمْ',\n",
              " 'مِنْ أَبْصَارِهِنَّ',\n",
              " 'مُّبِينٌউচ্চারণঃ',\n",
              " 'مُّبِينٌউচ্চারণঃ ইয়াআইয়ুহাল্লাযীনা',\n",
              " 'مِّن',\n",
              " 'مِّن رَّبِّهِمْ',\n",
              " 'نَجْعَلُهَا',\n",
              " 'نَجْعَلُهَا لِلَّذِينَ',\n",
              " 'نُفُوسِكُمْ',\n",
              " 'نُفُوسِكُمْ ۚ',\n",
              " 'هريْرة',\n",
              " 'هريْرة رضى',\n",
              " 'هوالله',\n",
              " 'هوالله পড়া',\n",
              " 'هَذَا',\n",
              " 'هَذَا الَّذِي',\n",
              " 'هَٰذَا',\n",
              " 'هَٰذَا الْقُرْآنَ',\n",
              " 'هُدًى',\n",
              " 'هُدًى لِّلْمُتَّقِينَউচ্চারণঃ',\n",
              " 'هُدًى مِّن',\n",
              " 'هُمُ',\n",
              " 'هُمُ ٱلسُّفَهَآءُ',\n",
              " 'هُمُ ٱلْمُفْلِحُونَউচ্চারণঃ',\n",
              " 'هُمُ ٱلۡأَخۡسَرُونَএদের',\n",
              " 'هُمْ',\n",
              " 'هُمْ يُوقِنُونَউচ্চারণঃ',\n",
              " 'هِيَ',\n",
              " 'هِيَ أَقْوَمُ',\n",
              " 'وَأَنَّ',\n",
              " 'وَأَنَّ الَّذِينَ',\n",
              " 'وَأَنَّ ٱلَّذِينَ',\n",
              " 'وَأَنْتُمْ',\n",
              " 'وَأَنْتُمْ لَا',\n",
              " 'وَأُو۟لَٰٓئِكَ',\n",
              " 'وَأُو۟لَٰٓئِكَ هُمُ',\n",
              " 'وَإِذَا',\n",
              " 'وَإِذَا قِيلَ',\n",
              " 'وَاللَّهُ',\n",
              " 'وَاللَّهُ يَعْلَمُ',\n",
              " 'وَالْآخِرَةِ',\n",
              " 'وَالْآخِرَةِ ۚ',\n",
              " 'وَبِٱلْءَاخِرَةِ',\n",
              " 'وَبِٱلْءَاخِرَةِ هُمْ',\n",
              " 'وَذَٰلِكَ',\n",
              " 'وَذَٰلِكَ عَلَى',\n",
              " 'وَرَبِّى',\n",
              " 'وَرَبِّى لَتُبْعَثُنَّ',\n",
              " 'وَسِعْتَ',\n",
              " 'وَسِعْتَ كُلَّ',\n",
              " 'وَعِلْمًا',\n",
              " 'وَعِلْمًا فَٱغْفِرْ',\n",
              " 'وَقُلْ',\n",
              " 'وَقُلْ لِلْمُؤْمِنَاتِ',\n",
              " 'وَقِهِمْ',\n",
              " 'وَقِهِمْ عَذَابَ',\n",
              " 'وَلَا',\n",
              " 'وَلَا تَتَّبِعُوا۟',\n",
              " 'وَلَا فَسَادًا',\n",
              " 'وَلَٰكِن',\n",
              " 'وَلَٰكِن لَّا',\n",
              " 'وَمَا',\n",
              " 'وَمَا يُكَذِّبُ',\n",
              " 'وَمَآ',\n",
              " 'وَمَآ أُنزِلَ',\n",
              " 'وَمَنْ',\n",
              " 'وَمَنْ حَوْلَهُۥ',\n",
              " 'وَمِمَّا',\n",
              " 'وَمِمَّا رَزَقْنَٰهُمْ',\n",
              " 'وَهُمۡ',\n",
              " 'وَهُمۡ فِى',\n",
              " 'وَيَحْفَظُوا',\n",
              " 'وَيَحْفَظُوا فُرُوجَهُمْ',\n",
              " 'وَيَحْفَظْ',\n",
              " 'وَيَسْتَغْفِرُونَ',\n",
              " 'وَيَسْتَغْفِرُونَ لِلَّذِينَ',\n",
              " 'وَيُؤْمِنُونَ',\n",
              " 'وَيُؤْمِنُونَ بِهِۦ',\n",
              " 'وَيُبَشِّرُ',\n",
              " 'وَيُبَشِّرُ الْمُؤْمِنِينَ',\n",
              " 'وَيُقِيمُونَ',\n",
              " 'وَيُقِيمُونَ ٱلصَّلَوٰةَ',\n",
              " 'وَيْلٌ',\n",
              " 'وَيْلٌ يَوْمَئِذٍ',\n",
              " 'وَٱتَّبَعُوا۟',\n",
              " 'وَٱتَّبَعُوا۟ سَبِيلَكَ',\n",
              " 'وَٱلَّذِينَ',\n",
              " 'وَٱلَّذِينَ يُؤْمِنُونَ',\n",
              " 'وَٱلْعَٰقِبَةُ',\n",
              " 'وَٱلْعَٰقِبَةُ لِلْمُتَّقِينَউচ্চারণঃ',\n",
              " 'يَحْمِلُونَ',\n",
              " 'يَحْمِلُونَ ٱلْعَرْشَ',\n",
              " 'يَسِيرٌউচ্চারণঃ',\n",
              " 'يَسِيرٌউচ্চারণঃ ঝাআমাল্লাযীনা',\n",
              " 'يَصْنَعُونَকুল',\n",
              " 'يَصْنَعُونَকুল লিলমুমিনীনা',\n",
              " 'يَعْلَمُ',\n",
              " 'يَعْلَمُ وَأَنْتُمْ',\n",
              " 'يَعْلَمُونَউচ্চারণঃ',\n",
              " 'يَعْلَمُونَউচ্চারণঃ ইযাকীলা',\n",
              " 'يَعْمَلُونَ',\n",
              " 'يَعْمَلُونَ الصَّالِحَاتِ',\n",
              " 'يَعۡمَهُونَনিশ্চয়',\n",
              " 'يَعۡمَهُونَনিশ্চয় আখিরাতে',\n",
              " 'يَغُضُّوا',\n",
              " 'يَغُضُّوا مِنْ',\n",
              " 'يَغْضُضْنَ',\n",
              " 'يَغْضُضْنَ مِنْ',\n",
              " 'يَكْسِبُونَ',\n",
              " 'يَكْسِبُونَ كَلَّا',\n",
              " 'يَهْدِي',\n",
              " 'يَهْدِي لِلَّتِي',\n",
              " 'يَوْمَئِذٍ',\n",
              " 'يَوْمَئِذٍ لَمَحْجُوبُونَ',\n",
              " 'يَوْمَئِذٍ لِلْمُكَذِّبِينَ',\n",
              " 'يَٰٓأَيُّهَا',\n",
              " 'يَٰٓأَيُّهَا ٱلَّذِينَ',\n",
              " 'يُؤْمِنُونَ',\n",
              " 'يُؤْمِنُونَ بِالْآخِرَةِ',\n",
              " 'يُؤْمِنُونَ بِالْغَيْبِ',\n",
              " 'يُؤْمِنُونَ بِالْغَيْبِআল্লাযী',\n",
              " 'يُؤْمِنُونَ بِمَآ',\n",
              " 'يُؤْمِنُونَ بِٱلْءَاخِرَةِ',\n",
              " 'يُؤْمِنُونَ بِٱلْغَيْبِ',\n",
              " 'يُؤْمِنُونَউচ্চারণঃ',\n",
              " 'يُؤْمِنُونَউচ্চারণঃ ইন্নাল্লাযীনা',\n",
              " 'يُؤۡمِنُونَ',\n",
              " 'يُؤۡمِنُونَ بِٱلۡأَخِرَةِ',\n",
              " 'يُبْعَثُوا۟',\n",
              " 'يُبْعَثُوا۟ قُلْ',\n",
              " 'يُحِبُّونَ',\n",
              " 'يُحِبُّونَ أَنْ',\n",
              " 'يُرِيدُونَ',\n",
              " 'يُرِيدُونَ عُلُوًّا',\n",
              " 'يُسَبِّحُونَ',\n",
              " 'يُسَبِّحُونَ بِحَمْدِ',\n",
              " 'يُقَالُ',\n",
              " 'يُقَالُ هَذَا',\n",
              " 'يُكَذِّبُ',\n",
              " 'يُكَذِّبُ بِهِ',\n",
              " 'يُكَذِّبُكَ',\n",
              " 'يُكَذِّبُكَ بَعْدُ',\n",
              " 'يُكَذِّبُونَ',\n",
              " 'يُكَذِّبُونَ بِيَوْمِ',\n",
              " 'يُنفِقُونَউচ্চারণঃ',\n",
              " 'يُنفِقُونَউচ্চারণঃ আল্লাযীনা',\n",
              " 'يُوقِنُونَউচ্চারণঃ',\n",
              " 'يُوقِنُونَউচ্চারণঃ ওয়াল্লাযীনা',\n",
              " 'َََُّ',\n",
              " 'َََُّ ٍُِْ',\n",
              " 'ََُُْ',\n",
              " 'ََُُْ ََْْ',\n",
              " 'َُ',\n",
              " 'َُ ًَُْ',\n",
              " 'ََِ',\n",
              " 'ََِ َُ',\n",
              " 'َِّ',\n",
              " 'َِّ ََْ',\n",
              " 'ََْ',\n",
              " 'ََْ ََِِْহে',\n",
              " 'ََْ ভূত',\n",
              " 'ََْْ',\n",
              " 'ََْْ ََِ',\n",
              " 'ًَُْ',\n",
              " 'ًَُْ ََِْ',\n",
              " 'ٍُِْ',\n",
              " 'ٍُِْ ََُُْ',\n",
              " 'ََِْ',\n",
              " 'ََِْ ََْ',\n",
              " 'ّ',\n",
              " 'ّ আয়াত',\n",
              " 'ََِِْহে',\n",
              " 'ََِِْহে আল্লাহ',\n",
              " 'ٱدْخُلُوا۟',\n",
              " 'ٱدْخُلُوا۟ فِى',\n",
              " 'ٱلدَّارُ',\n",
              " 'ٱلدَّارُ ٱلْءَاخِرَةُ',\n",
              " 'ٱلسُّفَهَآءُ',\n",
              " 'ٱلسُّفَهَآءُ أَلَآ',\n",
              " 'ٱلسُّفَهَآءُ وَلَٰكِن',\n",
              " 'ٱلسِّلْمِ',\n",
              " 'ٱلسِّلْمِ كَآفَّةً',\n",
              " 'ٱلشَّيْطَٰنِ',\n",
              " 'ٱلشَّيْطَٰنِ إِنَّهُۥ',\n",
              " 'ٱلصَّلَوٰةَ',\n",
              " 'ٱلصَّلَوٰةَ وَمِمَّا',\n",
              " 'ٱللَّهِ',\n",
              " 'ٱللَّهِ يَسِيرٌউচ্চারণঃ',\n",
              " 'ٱلنَّاسُ',\n",
              " 'ٱلنَّاسُ قَالُوٓا۟',\n",
              " 'ٱلَّذِينَ',\n",
              " 'ٱلَّذِينَ ءَامَنُوا۟',\n",
              " 'ٱلَّذِينَ كَفَرُوا۟',\n",
              " 'ٱلَّذِينَ كَفَرُوٓا۟',\n",
              " 'ٱلَّذِينَ لَا',\n",
              " 'ٱلَّذِينَ لَهُمۡ',\n",
              " 'ٱلَّذِينَ يَحْمِلُونَ',\n",
              " 'ٱلَّذِينَ يُؤْمِنُونَ',\n",
              " 'ٱلْءَاخِرَةُ',\n",
              " 'ٱلْءَاخِرَةُ نَجْعَلُهَا',\n",
              " 'ٱلْأَرْضِ',\n",
              " 'ٱلْأَرْضِ وَلَا',\n",
              " 'ٱلْجَحِيمِউচ্চারণঃ',\n",
              " 'ٱلْجَحِيمِউচ্চারণঃ আল্লাযীনা',\n",
              " 'ٱلْعَرْشَ',\n",
              " 'ٱلْعَرْشَ وَمَنْ',\n",
              " 'ٱلْكِتَٰبُ',\n",
              " 'ٱلْكِتَٰبُ لَا',\n",
              " 'ٱلْمُفْلِحُونَউচ্চারণঃ',\n",
              " 'ٱلْمُفْلِحُونَউচ্চারণঃ উলাইকা',\n",
              " 'ٱلۡأَخِرَةِ',\n",
              " 'ٱلۡأَخِرَةِ هُمُ',\n",
              " 'ٱلۡأَخۡسَرُونَএদের',\n",
              " 'ٱلۡأَخۡسَرُونَএদের জন্যই',\n",
              " 'ٱلۡعَذَابِ',\n",
              " 'ٱلۡعَذَابِ وَهُمۡ',\n",
              " '۔',\n",
              " '۔۔',\n",
              " '۔۔۔',\n",
              " '۔۔۔۔۔۔۔۔۔',\n",
              " '۔۔۔এ',\n",
              " '۔۔۔এ সন্মান',\n",
              " '۔۔۔পৃথিবীতে',\n",
              " '۔۔۔পৃথিবীতে আমরাই',\n",
              " '۔۔۔হিরো',\n",
              " '۔۔۔হিরো আলম',\n",
              " '۔ঢাকার',\n",
              " '۔ঢাকার কলার',\n",
              " '۔যদি',\n",
              " '۔যদি জাহিদ',\n",
              " 'ۗ',\n",
              " 'ۗ إِنَّ',\n",
              " 'ۚ',\n",
              " 'ۚ إِنْ',\n",
              " 'ۚ ذَٰلِكَ',\n",
              " 'ۚ وَاللَّهُ',\n",
              " '॥',\n",
              " '॥আর',\n",
              " '॥আর সালির',\n",
              " '॥আর হারামি',\n",
              " '॥সে',\n",
              " '॥সে আল্লাহকে',\n",
              " 'ঃ',\n",
              " 'ঃ অনুপাত',\n",
              " 'ঃ আইয়ুব',\n",
              " 'ঃ একদিন',\n",
              " 'ঃ কমেন্ট',\n",
              " 'ঃ কুল্লু',\n",
              " 'ঃ ধর্ষনগুমখুনহত্যামুক্তিপনদিনদিন',\n",
              " 'ঃ পরকাল',\n",
              " 'ঃ পাছা',\n",
              " 'ঃ ব্যাংক',\n",
              " 'ঃ ব্রাজিল',\n",
              " 'ঃ শোনেন',\n",
              " 'ঃ সাফা',\n",
              " 'ঃঃ',\n",
              " 'ঃঃ নীতিমালা',\n",
              " 'ঃদারুন',\n",
              " 'ঃদারুন দারুন',\n",
              " 'ঃমিঃ',\n",
              " 'ঃমুনমুমনাসরিনআলেকজান্ডার',\n",
              " 'ঃমুনমুমনাসরিনআলেকজান্ডার পিচ্চি',\n",
              " 'ঃময়লার',\n",
              " 'ঃময়লার পিট',\n",
              " 'ঃসুতরাং',\n",
              " 'ঃসুতরাং বুঝা',\n",
              " 'অ',\n",
              " 'অ অা',\n",
              " 'অ আইডি',\n",
              " 'অ আল্লাহ',\n",
              " 'অ আসতে',\n",
              " 'অ ইয়েচ',\n",
              " 'অ ঔ',\n",
              " 'অ কমেন্ট',\n",
              " 'অ করেনা',\n",
              " 'অ কাম',\n",
              " 'অ খমা',\n",
              " 'অ খাইবাযেই',\n",
              " 'অ খুশি',\n",
              " 'অ গাঞ্জা',\n",
              " 'অ চেগায়া',\n",
              " 'অ চেয়েছেন',\n",
              " 'অ ছিনে',\n",
              " 'অ জলিল',\n",
              " 'অ জানিস',\n",
              " 'অ জারয',\n",
              " 'অ জায়েদ',\n",
              " 'অ টা',\n",
              " 'অ তরে',\n",
              " 'অ তুমাদের',\n",
              " 'অ তুমার',\n",
              " 'অ দরদ',\n",
              " 'অ দিদি',\n",
              " 'অ দ্বিধাবোধ',\n",
              " 'অ ধন্যবাদ',\n",
              " 'অ নাস্তিক',\n",
              " 'অ নাস্থিক',\n",
              " 'অ নু',\n",
              " 'অ বইনযেটা',\n",
              " 'অ বলছে',\n",
              " 'অ বাঝি',\n",
              " 'অ বিশ্বাস',\n",
              " 'অ বিশ্বাসী',\n",
              " 'অ ভর',\n",
              " 'অ মাগি',\n",
              " 'অ মারে',\n",
              " 'অ শিকার',\n",
              " 'অ সত্যিকারের',\n",
              " 'অ সন্তানও',\n",
              " 'অ সুধু',\n",
              " 'অ সুনা',\n",
              " 'অ হইব',\n",
              " 'অ হিরো',\n",
              " 'অ হেলবেনাআর',\n",
              " 'অ হেয়',\n",
              " 'অ হ্যাক',\n",
              " 'অঁ',\n",
              " 'অঁ ফাঁক',\n",
              " 'অংক',\n",
              " 'অংক কাল্পনিক',\n",
              " 'অংক মাত্রকারণ',\n",
              " 'অংক শেখানো',\n",
              " 'অংকটা',\n",
              " 'অংকটা বুজেই',\n",
              " 'অংকার',\n",
              " 'অংকার পতন',\n",
              " 'অংকার বুজি',\n",
              " 'অংকার সজীব',\n",
              " 'অংকার হিরো',\n",
              " 'অংকারজারজের',\n",
              " 'অংকারজারজের বাচ্চা',\n",
              " 'অংকারি',\n",
              " 'অংকারি ধংসো',\n",
              " 'অংকের',\n",
              " 'অংকের টাকা',\n",
              " 'অংখারে',\n",
              " 'অংখারে মানষকে',\n",
              " 'অংগ',\n",
              " 'অংগ দেখিনাই',\n",
              " 'অংগ পায়',\n",
              " 'অংগ প্রোতংগ',\n",
              " 'অংগধর্ম',\n",
              " 'অংগধর্ম বাড়াবাড়ি',\n",
              " 'অংগভংগিবাজে',\n",
              " 'অংগভংগিবাজে ডাযলগ',\n",
              " 'অংগভংগী',\n",
              " 'অংগভংগী যুক্ত',\n",
              " 'অংগো',\n",
              " 'অংগো ছেন',\n",
              " 'অংগো দিয়েছেন',\n",
              " 'অংঙ্গ',\n",
              " 'অংঙ্গ ভোঙ্গি',\n",
              " 'অংশ',\n",
              " 'অংশ অবিশ্বাস',\n",
              " 'অংশ আইনের',\n",
              " 'অংশ আছেআর',\n",
              " 'অংশ একটায়',\n",
              " 'অংশ কবিরমহান',\n",
              " 'অংশ কাকতালীয়',\n",
              " 'অংশ কাহিনীটা',\n",
              " 'অংশ কোনটি',\n",
              " 'অংশ গরিব',\n",
              " 'অংশ গানে',\n",
              " 'অংশ গ্রহন',\n",
              " 'অংশ চেপে',\n",
              " 'অংশ জ্ঞান',\n",
              " 'অংশ ঝাপটে',\n",
              " 'অংশ টা',\n",
              " 'অংশ টুকু',\n",
              " 'অংশ টুকুন',\n",
              " 'অংশ তিনটি',\n",
              " 'অংশ দেখি',\n",
              " 'অংশ দেখেও',\n",
              " 'অংশ দেশ',\n",
              " 'অংশ নি',\n",
              " 'অংশ নিবো',\n",
              " 'অংশ নিয়েছে',\n",
              " 'অংশ নিয়েছি',\n",
              " 'অংশ নৌকা',\n",
              " 'অংশ নৌকায়',\n",
              " 'অংশ পছন্দ',\n",
              " 'অংশ পরকালে',\n",
              " 'অংশ পাছায়',\n",
              " 'অংশ ফানি',\n",
              " 'অংশ বাস',\n",
              " 'অংশ বাহিরে',\n",
              " 'অংশ বিদ্যানন্দকে',\n",
              " 'অংশ বিনোদন',\n",
              " 'অংশ বুজা',\n",
              " 'অংশ বড়',\n",
              " 'অংশ ভুট',\n",
              " 'অংশ ভয়ে',\n",
              " 'অংশ মহিলার',\n",
              " 'অংশ মুখে',\n",
              " 'অংশ সাফা',\n",
              " 'অংশ স্পর্শ',\n",
              " 'অংশ হিসেবে',\n",
              " 'অংশগ্রহণ',\n",
              " 'অংশগ্রহণ করব',\n",
              " 'অংশগ্রহণ করবো',\n",
              " 'অংশগ্রহণ করায়',\n",
              " 'অংশগ্রহণ করেছিল',\n",
              " 'অংশগ্রহণ চেতনা',\n",
              " 'অংশগ্রহণ ধর্মভীরু',\n",
              " 'অংশগ্রহণ পঁচে',\n",
              " 'অংশগ্রহণ পারলাম',\n",
              " 'অংশগ্রহণ পেইজে',\n",
              " 'অংশগ্রহণ বালের',\n",
              " 'অংশগ্রহণ লোক',\n",
              " 'অংশগ্রহণকারী',\n",
              " 'অংশগ্রহণকারী বীর',\n",
              " 'অংশগ্রহন',\n",
              " 'অংশগ্রহন করাজিএসপি',\n",
              " 'অংশটি',\n",
              " 'অংশটি পুটকিতে',\n",
              " 'অংশটি বাহিরে',\n",
              " 'অংশটুকু',\n",
              " 'অংশটুকু তর',\n",
              " 'অংশটুকু দাগ',\n",
              " 'অংশটুকু পুটকিতে',\n",
              " 'অংশটুকু বাইরে',\n",
              " 'অংশটুকু সরান',\n",
              " 'অংশমুসলিমদের',\n",
              " 'অংশমুসলিমদের সাথে',\n",
              " 'অংশসবচেয়ে',\n",
              " 'অংশসবচেয়ে বড়',\n",
              " 'অংশাংশুচির',\n",
              " 'অংশাংশুচির তোরতো',\n",
              " 'অংশিদার',\n",
              " 'অংশিদার হবো',\n",
              " 'অংশীদার',\n",
              " 'অংশে',\n",
              " 'অংশে কম',\n",
              " 'অংশে কিস',\n",
              " 'অংশে জিহ্বা',\n",
              " 'অংশে ড্যাব',\n",
              " 'অংশে পড়ে',\n",
              " 'অংশে সারাদিন',\n",
              " 'অংশের',\n",
              " 'অংশের লোক',\n",
              " 'অংস',\n",
              " 'অংস ঈমান',\n",
              " 'অংস দেখেও',\n",
              " 'অংসোতাহমিদ',\n",
              " 'অংসোতাহমিদ পোস্টের',\n",
              " 'অংহার',\n",
              " 'অংহার করছ',\n",
              " 'অঅঅঅক',\n",
              " 'অঅঅঅক থু',\n",
              " 'অই',\n",
              " 'অই আল্লাহ',\n",
              " 'অই আল্লাহ্\\u200cকে',\n",
              " 'অই আল্লাহ্\\u200cতালাকে',\n",
              " 'অই এন্টিবায়োটিক',\n",
              " 'অই কানকি',\n",
              " 'অই কাফের',\n",
              " 'অই কুলাংগার',\n",
              " 'অই কেডা',\n",
              " 'অই খানকি',\n",
              " 'অই খানে',\n",
              " 'অই গুলা',\n",
              " 'অই গুলো',\n",
              " 'অই গেইয়্যে',\n",
              " 'অই গেছেঅউ',\n",
              " 'অই চিনাল',\n",
              " 'অই চ্যানেল',\n",
              " 'অই জানুয়ার',\n",
              " 'অই টা',\n",
              " 'অই ত',\n",
              " 'অই তর',\n",
              " 'অই দিনই',\n",
              " 'অই দেশে',\n",
              " 'অই নাস্তকি',\n",
              " 'অই নাস্তিক',\n",
              " 'অই নাস্তিকবেয়শ্যআটাময়দা',\n",
              " 'অই নাস্তিকের',\n",
              " 'অই নাস্তেক',\n",
              " 'অই নি',\n",
              " 'অই পিক',\n",
              " 'অই পুতে',\n",
              " 'অই পোস্টের',\n",
              " 'অই বাল',\n",
              " 'অই বালের',\n",
              " 'অই বেরসা',\n",
              " 'অই বেশ্যা',\n",
              " 'অই বেশ্যার',\n",
              " 'অই ব্যক্তিরই',\n",
              " 'অই ব্যাটার',\n",
              " 'অই মহিলার',\n",
              " 'অই মাইয়া',\n",
              " 'অই মাকে',\n",
              " 'অই মাগি',\n",
              " 'অই মাগির',\n",
              " 'অই মাগী',\n",
              " 'অই মাদারচোদ',\n",
              " 'অই মিউজিক',\n",
              " 'অই মিলিয়ন',\n",
              " 'অই মেয়ে',\n",
              " 'অই রাতে',\n",
              " 'অই লিংকে',\n",
              " 'অই লিনকে',\n",
              " 'অই শালার',\n",
              " 'অই সবাই',\n",
              " 'অই সময়ে',\n",
              " 'অই সাফা',\n",
              " 'অই সালারা',\n",
              " 'অই সালির',\n",
              " 'অই সুতমারানির',\n",
              " 'অই সুয়ারের',\n",
              " 'অই স্থান',\n",
              " 'অই হইছত',\n",
              " 'অই হালারপুত',\n",
              " 'অই হ্যাকারের',\n",
              " 'অইগুলার',\n",
              " 'অইগুলার দুধ',\n",
              " 'অইগেছেআব্বাসি',\n",
              " 'অইগেছেআব্বাসি হুজুরে',\n",
              " 'অইগেছোইন',\n",
              " 'অইগেছোইন কস্ট',\n",
              " 'অইগেলে',\n",
              " 'অইগেলে প্রকাশ্যে',\n",
              " 'অইগেসস',\n",
              " 'অইগেসস ওকন',\n",
              " ...]"
            ]
          },
          "metadata": {},
          "execution_count": 29
        }
      ],
      "source": [
        "coun_vect.get_feature_names()"
      ]
    },
    {
      "cell_type": "code",
      "execution_count": 30,
      "metadata": {
        "colab": {
          "base_uri": "https://localhost:8080/"
        },
        "id": "1EIVi5a5LkFK",
        "outputId": "300f5d5d-39a3-4cb9-c2b7-ed5d8e85400e"
      },
      "outputs": [
        {
          "output_type": "stream",
          "name": "stdout",
          "text": [
            "Counter({2: 15340, 0: 15340, 4: 15340, 1: 15340, 3: 15340})\n"
          ]
        }
      ],
      "source": [
        "from imblearn.over_sampling import SMOTE,ADASYN,RandomOverSampler\n",
        "from collections import Counter\n",
        "from matplotlib import pyplot\n",
        "oversamplee = RandomOverSampler()\n",
        "Xx, Yy = oversamplee.fit_resample(features1,labels1)\n",
        "counter = Counter(Yy)\n",
        "print(counter)"
      ]
    },
    {
      "cell_type": "code",
      "execution_count": 31,
      "metadata": {
        "id": "AhAinu9vGqPd"
      },
      "outputs": [],
      "source": [
        "#formulticlass\n",
        "X_train, X_test, y_train, y_test = train_test_split(Xx,Yy, \n",
        "                                                    test_size=0.15,\n",
        "                                                    random_state = 1,stratify=Yy)"
      ]
    },
    {
      "cell_type": "code",
      "execution_count": 32,
      "metadata": {
        "colab": {
          "base_uri": "https://localhost:8080/"
        },
        "id": "ZDmqFH9hGqYv",
        "outputId": "9ba8a7b3-2d9c-48c1-f976-f0b9eb36c73e"
      },
      "outputs": [
        {
          "output_type": "stream",
          "name": "stderr",
          "text": [
            "/usr/local/lib/python3.7/dist-packages/sklearn/linear_model/_logistic.py:818: ConvergenceWarning: lbfgs failed to converge (status=1):\n",
            "STOP: TOTAL NO. of ITERATIONS REACHED LIMIT.\n",
            "\n",
            "Increase the number of iterations (max_iter) or scale the data as shown in:\n",
            "    https://scikit-learn.org/stable/modules/preprocessing.html\n",
            "Please also refer to the documentation for alternative solver options:\n",
            "    https://scikit-learn.org/stable/modules/linear_model.html#logistic-regression\n",
            "  extra_warning_msg=_LOGISTIC_SOLVER_CONVERGENCE_MSG,\n",
            "/usr/local/lib/python3.7/dist-packages/sklearn/linear_model/_logistic.py:818: ConvergenceWarning: lbfgs failed to converge (status=1):\n",
            "STOP: TOTAL NO. of ITERATIONS REACHED LIMIT.\n",
            "\n",
            "Increase the number of iterations (max_iter) or scale the data as shown in:\n",
            "    https://scikit-learn.org/stable/modules/preprocessing.html\n",
            "Please also refer to the documentation for alternative solver options:\n",
            "    https://scikit-learn.org/stable/modules/linear_model.html#logistic-regression\n",
            "  extra_warning_msg=_LOGISTIC_SOLVER_CONVERGENCE_MSG,\n",
            "/usr/local/lib/python3.7/dist-packages/sklearn/linear_model/_logistic.py:818: ConvergenceWarning: lbfgs failed to converge (status=1):\n",
            "STOP: TOTAL NO. of ITERATIONS REACHED LIMIT.\n",
            "\n",
            "Increase the number of iterations (max_iter) or scale the data as shown in:\n",
            "    https://scikit-learn.org/stable/modules/preprocessing.html\n",
            "Please also refer to the documentation for alternative solver options:\n",
            "    https://scikit-learn.org/stable/modules/linear_model.html#logistic-regression\n",
            "  extra_warning_msg=_LOGISTIC_SOLVER_CONVERGENCE_MSG,\n",
            "/usr/local/lib/python3.7/dist-packages/sklearn/linear_model/_logistic.py:818: ConvergenceWarning: lbfgs failed to converge (status=1):\n",
            "STOP: TOTAL NO. of ITERATIONS REACHED LIMIT.\n",
            "\n",
            "Increase the number of iterations (max_iter) or scale the data as shown in:\n",
            "    https://scikit-learn.org/stable/modules/preprocessing.html\n",
            "Please also refer to the documentation for alternative solver options:\n",
            "    https://scikit-learn.org/stable/modules/linear_model.html#logistic-regression\n",
            "  extra_warning_msg=_LOGISTIC_SOLVER_CONVERGENCE_MSG,\n",
            "/usr/local/lib/python3.7/dist-packages/sklearn/linear_model/_logistic.py:818: ConvergenceWarning: lbfgs failed to converge (status=1):\n",
            "STOP: TOTAL NO. of ITERATIONS REACHED LIMIT.\n",
            "\n",
            "Increase the number of iterations (max_iter) or scale the data as shown in:\n",
            "    https://scikit-learn.org/stable/modules/preprocessing.html\n",
            "Please also refer to the documentation for alternative solver options:\n",
            "    https://scikit-learn.org/stable/modules/linear_model.html#logistic-regression\n",
            "  extra_warning_msg=_LOGISTIC_SOLVER_CONVERGENCE_MSG,\n"
          ]
        }
      ],
      "source": [
        "MNB = MultinomialNB().fit(X_train,y_train)\n",
        "LR = LogisticRegression(multi_class='ovr').fit(X_train,y_train)"
      ]
    },
    {
      "cell_type": "code",
      "execution_count": 33,
      "metadata": {
        "id": "7LlofchaCErU"
      },
      "outputs": [],
      "source": [
        "from sklearn.tree import DecisionTreeClassifier\n",
        "from sklearn.ensemble import RandomForestClassifier\n",
        "DT = DecisionTreeClassifier().fit(X_train,y_train)\n",
        "RF = RandomForestClassifier().fit(X_train,y_train)"
      ]
    },
    {
      "cell_type": "code",
      "execution_count": 34,
      "metadata": {
        "id": "b5nzczr5G3ns"
      },
      "outputs": [],
      "source": [
        "y_predNB = MNB.predict(X_test)\n",
        "y_predLR=LR.predict(X_test)\n",
        "y_predDT=DT.predict(X_test)\n",
        "y_predRF=RF.predict(X_test)"
      ]
    },
    {
      "cell_type": "code",
      "execution_count": 35,
      "metadata": {
        "colab": {
          "base_uri": "https://localhost:8080/"
        },
        "id": "jn_7yjEgG7wO",
        "outputId": "831d4301-6122-4606-8a65-cd357efa9fcb"
      },
      "outputs": [
        {
          "output_type": "stream",
          "name": "stdout",
          "text": [
            "Naive Bayes\n",
            "Accuracy: 0.8521512385919165\n"
          ]
        }
      ],
      "source": [
        "print('Naive Bayes')\n",
        "print('Accuracy:', accuracy_score(y_test, y_predNB))"
      ]
    },
    {
      "cell_type": "code",
      "source": [
        "cm = confusion_matrix(y_test,y_predNB)"
      ],
      "metadata": {
        "id": "iMZgdyvK8VIf"
      },
      "execution_count": 36,
      "outputs": []
    },
    {
      "cell_type": "code",
      "source": [
        "cm_plot_labels = ['Not bully','Religious','Sexual','Threat','Troll']"
      ],
      "metadata": {
        "id": "OxXKiO8UAeYj"
      },
      "execution_count": 37,
      "outputs": []
    },
    {
      "cell_type": "code",
      "source": [
        "cmn = cm.astype('float') / cm.sum(axis=1)[:, np.newaxis]\n",
        "fig, ax = plt.subplots(figsize=(10,8))\n",
        "sns.heatmap(cmn, annot=True, fmt='.2f', xticklabels=cm_plot_labels, yticklabels=cm_plot_labels, cmap='Blues')\n",
        "plt.ylabel('Actual')\n",
        "plt.xlabel('Predicted')\n",
        "plt.show(block=False)"
      ],
      "metadata": {
        "colab": {
          "base_uri": "https://localhost:8080/",
          "height": 497
        },
        "id": "9kqNKdKi8suN",
        "outputId": "a634ff93-1b7f-4643-83fc-f7551e0f1718"
      },
      "execution_count": 38,
      "outputs": [
        {
          "output_type": "display_data",
          "data": {
            "text/plain": [
              "<Figure size 720x576 with 2 Axes>"
            ],
            "image/png": "[encoded data removed]"
          },
          "metadata": {
            "needs_background": "light"
          }
        }
      ]
    },
    {
      "cell_type": "code",
      "source": [
        "from sklearn.metrics import classification_report\n",
        "print(classification_report(y_test,y_predNB))"
      ],
      "metadata": {
        "colab": {
          "base_uri": "https://localhost:8080/"
        },
        "id": "4BSSAE1y-UdF",
        "outputId": "9b3ae20c-1ee4-4d53-9d31-c2fe1004373c"
      },
      "execution_count": 39,
      "outputs": [
        {
          "output_type": "stream",
          "name": "stdout",
          "text": [
            "              precision    recall  f1-score   support\n",
            "\n",
            "           0       0.87      0.74      0.80      2301\n",
            "           1       0.82      0.94      0.87      2301\n",
            "           2       0.86      0.84      0.85      2301\n",
            "           3       0.89      0.99      0.93      2301\n",
            "           4       0.82      0.75      0.78      2301\n",
            "\n",
            "    accuracy                           0.85     11505\n",
            "   macro avg       0.85      0.85      0.85     11505\n",
            "weighted avg       0.85      0.85      0.85     11505\n",
            "\n"
          ]
        }
      ]
    },
    {
      "cell_type": "code",
      "source": [
        "import seaborn as sns\n",
        "import matplotlib.pyplot as plt\n",
        "\n",
        "from sklearn.metrics import confusion_matrix\n",
        "\n",
        "cm = confusion_matrix(y_test,y_predNB)\n",
        "\n",
        "## Get Class Labels\n",
        "\n",
        "class_names = ['Not bully','Religious','Sexual','Threat','Troll']\n",
        "\n",
        "# Plot confusion matrix in a beautiful manner\n",
        "fig = plt.figure(figsize=(16, 14))\n",
        "ax= plt.subplot()\n",
        "sns.heatmap(cm, annot=True, ax = ax, fmt = 'g'); #annot=True to annotate cells\n",
        "# labels, title and ticks\n",
        "ax.set_xlabel('Predicted', fontsize=20)\n",
        "ax.xaxis.set_label_position('bottom')\n",
        "plt.xticks(rotation=90)\n",
        "ax.xaxis.set_ticklabels(class_names, fontsize = 10)\n",
        "ax.xaxis.tick_bottom()\n",
        "\n",
        "ax.set_ylabel('True', fontsize=20)\n",
        "ax.yaxis.set_ticklabels(class_names, fontsize = 10)\n",
        "plt.yticks(rotation=0)\n",
        "\n",
        "plt.title('Confusion Matrix', fontsize=20)\n",
        "\n",
        "plt.savefig('ConMat24.png')\n",
        "plt.show()\n"
      ],
      "metadata": {
        "colab": {
          "base_uri": "https://localhost:8080/",
          "height": 888
        },
        "id": "9SYBKphGuNc3",
        "outputId": "54cf497a-172a-4d16-a504-554d83069cdb"
      },
      "execution_count": 40,
      "outputs": [
        {
          "output_type": "display_data",
          "data": {
            "text/plain": [
              "<Figure size 1152x1008 with 2 Axes>"
            ],
            "image/png": "[encoded data removed]"
          },
          "metadata": {
            "needs_background": "light"
          }
        }
      ]
    },
    {
      "cell_type": "code",
      "execution_count": 41,
      "metadata": {
        "colab": {
          "base_uri": "https://localhost:8080/"
        },
        "id": "4u7IgVz5HtYE",
        "outputId": "17c7deb9-c055-410f-a69b-20317b493b46"
      },
      "outputs": [
        {
          "output_type": "stream",
          "name": "stdout",
          "text": [
            "Logistic regression\n",
            "Accuracy: 0.9087353324641461\n"
          ]
        }
      ],
      "source": [
        "print('Logistic regression')\n",
        "print('Accuracy:', accuracy_score(y_test, y_predLR))"
      ]
    },
    {
      "cell_type": "code",
      "source": [
        "cm = confusion_matrix(y_test,y_predLR)"
      ],
      "metadata": {
        "id": "9ujJG5UGudrz"
      },
      "execution_count": 42,
      "outputs": []
    },
    {
      "cell_type": "code",
      "source": [
        "cmn = cm.astype('float') / cm.sum(axis=1)[:, np.newaxis]\n",
        "fig, ax = plt.subplots(figsize=(10,8))\n",
        "sns.heatmap(cmn, annot=True, fmt='.2f', xticklabels=cm_plot_labels, yticklabels=cm_plot_labels, cmap='Blues')\n",
        "plt.ylabel('Actual')\n",
        "plt.xlabel('Predicted')\n",
        "plt.show(block=False)"
      ],
      "metadata": {
        "colab": {
          "base_uri": "https://localhost:8080/",
          "height": 497
        },
        "id": "kpSim-qPATYo",
        "outputId": "0d0cb633-18e5-4424-bbef-f0dd49251586"
      },
      "execution_count": 43,
      "outputs": [
        {
          "output_type": "display_data",
          "data": {
            "text/plain": [
              "<Figure size 720x576 with 2 Axes>"
            ],
            "image/png": "[encoded data removed]"
          },
          "metadata": {
            "needs_background": "light"
          }
        }
      ]
    },
    {
      "cell_type": "code",
      "source": [
        "print(classification_report(y_test,y_predLR))"
      ],
      "metadata": {
        "colab": {
          "base_uri": "https://localhost:8080/"
        },
        "id": "RVNcBnQnA6iZ",
        "outputId": "122a42a0-24d6-489e-a76b-39432ac1e1b4"
      },
      "execution_count": 44,
      "outputs": [
        {
          "output_type": "stream",
          "name": "stdout",
          "text": [
            "              precision    recall  f1-score   support\n",
            "\n",
            "           0       0.81      0.90      0.85      2301\n",
            "           1       0.97      0.95      0.96      2301\n",
            "           2       0.92      0.89      0.90      2301\n",
            "           3       0.97      1.00      0.99      2301\n",
            "           4       0.88      0.81      0.84      2301\n",
            "\n",
            "    accuracy                           0.91     11505\n",
            "   macro avg       0.91      0.91      0.91     11505\n",
            "weighted avg       0.91      0.91      0.91     11505\n",
            "\n"
          ]
        }
      ]
    },
    {
      "cell_type": "code",
      "source": [
        "import seaborn as sns\n",
        "import matplotlib.pyplot as plt\n",
        "\n",
        "### Confusion Matrix\n",
        "from sklearn.metrics import confusion_matrix\n",
        "\n",
        "cm = confusion_matrix(y_test, y_predLR)\n",
        "\n",
        "## Get Class Labels\n",
        "\n",
        "class_names = ['Not bully','Religious','Sexual','Threat','Troll']\n",
        "\n",
        "# Plot confusion matrix in a beautiful manner\n",
        "fig = plt.figure(figsize=(16, 14))\n",
        "ax= plt.subplot()\n",
        "sns.heatmap(cm, annot=True, ax = ax, fmt = 'g'); #annot=True to annotate cells\n",
        "# labels, title and ticks\n",
        "ax.set_xlabel('Predicted', fontsize=20)\n",
        "ax.xaxis.set_label_position('bottom')\n",
        "plt.xticks(rotation=90)\n",
        "ax.xaxis.set_ticklabels(class_names, fontsize = 10)\n",
        "ax.xaxis.tick_bottom()\n",
        "\n",
        "ax.set_ylabel('True', fontsize=20)\n",
        "ax.yaxis.set_ticklabels(class_names, fontsize = 10)\n",
        "plt.yticks(rotation=0)\n",
        "\n",
        "plt.title('Confusion Matrix', fontsize=20)\n",
        "\n",
        "plt.savefig('ConMat24.png')\n",
        "plt.show()\n"
      ],
      "metadata": {
        "colab": {
          "base_uri": "https://localhost:8080/",
          "height": 888
        },
        "id": "uw7NNpC2uigs",
        "outputId": "e83ced66-b8f7-45bf-e866-d04cc5d1d080"
      },
      "execution_count": 45,
      "outputs": [
        {
          "output_type": "display_data",
          "data": {
            "text/plain": [
              "<Figure size 1152x1008 with 2 Axes>"
            ],
            "image/png": "[encoded data removed]"
          },
          "metadata": {
            "needs_background": "light"
          }
        }
      ]
    },
    {
      "cell_type": "code",
      "execution_count": 46,
      "metadata": {
        "colab": {
          "base_uri": "https://localhost:8080/"
        },
        "id": "3bEymNge8Yga",
        "outputId": "f39cc72e-a26f-4867-94e7-7c857a766e68"
      },
      "outputs": [
        {
          "output_type": "stream",
          "name": "stdout",
          "text": [
            "Decision Tree\n",
            "Accuracy: 0.8936983920034768\n"
          ]
        }
      ],
      "source": [
        "print('Decision Tree')\n",
        "print('Accuracy:', accuracy_score(y_test, y_predDT))"
      ]
    },
    {
      "cell_type": "code",
      "source": [
        "cm = confusion_matrix(y_test,y_predDT)"
      ],
      "metadata": {
        "id": "IH0OrpVquolB"
      },
      "execution_count": 47,
      "outputs": []
    },
    {
      "cell_type": "code",
      "source": [
        "cmn = cm.astype('float') / cm.sum(axis=1)[:, np.newaxis]\n",
        "fig, ax = plt.subplots(figsize=(10,8))\n",
        "sns.heatmap(cmn, annot=True, fmt='.2f', xticklabels=cm_plot_labels, yticklabels=cm_plot_labels, cmap='Blues')\n",
        "plt.ylabel('Actual')\n",
        "plt.xlabel('Predicted')\n",
        "plt.show(block=False)"
      ],
      "metadata": {
        "colab": {
          "base_uri": "https://localhost:8080/",
          "height": 501
        },
        "id": "sq3OvqAaBc95",
        "outputId": "2325b474-7a1c-4265-9fb8-84d3bcd627bb"
      },
      "execution_count": 48,
      "outputs": [
        {
          "output_type": "display_data",
          "data": {
            "text/plain": [
              "<Figure size 720x576 with 2 Axes>"
            ],
            "image/png": "[encoded data removed]"
          },
          "metadata": {
            "needs_background": "light"
          }
        }
      ]
    },
    {
      "cell_type": "code",
      "source": [
        "import seaborn as sns\n",
        "import matplotlib.pyplot as plt\n",
        "\n",
        "### Confusion Matrix\n",
        "from sklearn.metrics import confusion_matrix\n",
        "\n",
        "cm = confusion_matrix(y_test, y_predDT)\n",
        "\n",
        "## Get Class Labels\n",
        "\n",
        "class_names = ['Not bully','Religious','Sexual','Threat','Troll']\n",
        "\n",
        "# Plot confusion matrix in a beautiful manner\n",
        "fig = plt.figure(figsize=(16, 14))\n",
        "ax= plt.subplot()\n",
        "sns.heatmap(cm, annot=True, ax = ax, fmt = 'g'); #annot=True to annotate cells\n",
        "# labels, title and ticks\n",
        "ax.set_xlabel('Predicted', fontsize=20)\n",
        "ax.xaxis.set_label_position('bottom')\n",
        "plt.xticks(rotation=90)\n",
        "ax.xaxis.set_ticklabels(class_names, fontsize = 10)\n",
        "ax.xaxis.tick_bottom()\n",
        "\n",
        "ax.set_ylabel('True', fontsize=20)\n",
        "ax.yaxis.set_ticklabels(class_names, fontsize = 10)\n",
        "plt.yticks(rotation=0)\n",
        "\n",
        "plt.title('Confusion Matrix', fontsize=20)\n",
        "\n",
        "plt.savefig('ConMat24.png')\n",
        "plt.show()\n"
      ],
      "metadata": {
        "colab": {
          "base_uri": "https://localhost:8080/",
          "height": 888
        },
        "id": "d2LtVl_IureV",
        "outputId": "d51c9677-3c91-4f8c-bcf7-c87e738d4acc"
      },
      "execution_count": 49,
      "outputs": [
        {
          "output_type": "display_data",
          "data": {
            "text/plain": [
              "<Figure size 1152x1008 with 2 Axes>"
            ],
            "image/png": "[encoded data removed]"
          },
          "metadata": {
            "needs_background": "light"
          }
        }
      ]
    },
    {
      "cell_type": "code",
      "execution_count": 50,
      "metadata": {
        "colab": {
          "base_uri": "https://localhost:8080/"
        },
        "id": "XM4-w76c9UzA",
        "outputId": "8e3cc8e5-a6de-4388-89c8-165b5502d201"
      },
      "outputs": [
        {
          "output_type": "stream",
          "name": "stdout",
          "text": [
            "Random Forest\n",
            "Accuracy: 0.9031725336810082\n"
          ]
        }
      ],
      "source": [
        "print('Random Forest')\n",
        "print('Accuracy:', accuracy_score(y_test, y_predRF))"
      ]
    },
    {
      "cell_type": "code",
      "source": [
        "cm = confusion_matrix(y_test,y_predRF)"
      ],
      "metadata": {
        "id": "8Hu0W6tnuytZ"
      },
      "execution_count": 51,
      "outputs": []
    },
    {
      "cell_type": "code",
      "source": [
        "cmn = cm.astype('float') / cm.sum(axis=1)[:, np.newaxis]\n",
        "fig, ax = plt.subplots(figsize=(10,8))\n",
        "sns.heatmap(cmn, annot=True, fmt='.2f', xticklabels=cm_plot_labels, yticklabels=cm_plot_labels, cmap='Blues')\n",
        "plt.ylabel('Actual')\n",
        "plt.xlabel('Predicted')\n",
        "plt.show(block=False)"
      ],
      "metadata": {
        "colab": {
          "base_uri": "https://localhost:8080/",
          "height": 501
        },
        "id": "Z7zxA9f2DBjC",
        "outputId": "5f4f5994-3e3a-4b46-e6d4-3753e640cc01"
      },
      "execution_count": 52,
      "outputs": [
        {
          "output_type": "display_data",
          "data": {
            "text/plain": [
              "<Figure size 720x576 with 2 Axes>"
            ],
            "image/png": "[encoded data removed]"
          },
          "metadata": {
            "needs_background": "light"
          }
        }
      ]
    },
    {
      "cell_type": "code",
      "source": [
        "print(classification_report(y_test,y_predRF))"
      ],
      "metadata": {
        "colab": {
          "base_uri": "https://localhost:8080/"
        },
        "id": "OLW445RCDQ7p",
        "outputId": "19851e45-4c10-425d-a279-352311be71d6"
      },
      "execution_count": 53,
      "outputs": [
        {
          "output_type": "stream",
          "name": "stdout",
          "text": [
            "              precision    recall  f1-score   support\n",
            "\n",
            "           0       0.79      0.91      0.84      2301\n",
            "           1       0.94      0.95      0.95      2301\n",
            "           2       0.94      0.87      0.90      2301\n",
            "           3       0.98      1.00      0.99      2301\n",
            "           4       0.88      0.78      0.83      2301\n",
            "\n",
            "    accuracy                           0.90     11505\n",
            "   macro avg       0.91      0.90      0.90     11505\n",
            "weighted avg       0.91      0.90      0.90     11505\n",
            "\n"
          ]
        }
      ]
    },
    {
      "cell_type": "code",
      "source": [
        "import seaborn as sns\n",
        "import matplotlib.pyplot as plt\n",
        "\n",
        "### Confusion Matrix\n",
        "from sklearn.metrics import confusion_matrix\n",
        "\n",
        "cm = confusion_matrix(y_test, y_predRF)\n",
        "\n",
        "## Get Class Labels\n",
        "\n",
        "class_names = ['Not bully','Religious','Sexual','Threat','Troll']\n",
        "\n",
        "# Plot confusion matrix in a beautiful manner\n",
        "fig = plt.figure(figsize=(16, 14))\n",
        "ax= plt.subplot()\n",
        "sns.heatmap(cm, annot=True, ax = ax, fmt = 'g'); #annot=True to annotate cells\n",
        "# labels, title and ticks\n",
        "ax.set_xlabel('Predicted', fontsize=20)\n",
        "ax.xaxis.set_label_position('bottom')\n",
        "plt.xticks(rotation=90)\n",
        "ax.xaxis.set_ticklabels(class_names, fontsize = 10)\n",
        "ax.xaxis.tick_bottom()\n",
        "\n",
        "ax.set_ylabel('True', fontsize=20)\n",
        "ax.yaxis.set_ticklabels(class_names, fontsize = 10)\n",
        "plt.yticks(rotation=0)\n",
        "\n",
        "plt.title('Confusion Matrix', fontsize=20)\n",
        "\n",
        "plt.savefig('ConMat24.png')\n",
        "plt.show()\n"
      ],
      "metadata": {
        "id": "HQT4x9c4u2tg",
        "colab": {
          "base_uri": "https://localhost:8080/",
          "height": 888
        },
        "outputId": "0188f56b-6da5-4b3a-8deb-6533ebbb60b1"
      },
      "execution_count": 54,
      "outputs": [
        {
          "output_type": "display_data",
          "data": {
            "text/plain": [
              "<Figure size 1152x1008 with 2 Axes>"
            ],
            "image/png": "[encoded data removed]"
          },
          "metadata": {
            "needs_background": "light"
          }
        }
      ]
    },
    {
      "cell_type": "code",
      "execution_count": 55,
      "metadata": {
        "id": "SoeUWgIQMHfF"
      },
      "outputs": [],
      "source": [
        "from sklearn.model_selection import train_test_split\n",
        "from sklearn.feature_extraction.text import TfidfTransformer\n",
        "from sklearn.naive_bayes import MultinomialNB\n",
        "from sklearn.linear_model import LogisticRegression\n",
        "from sklearn.ensemble import RandomForestClassifier\n",
        "from sklearn.svm import LinearSVC\n",
        "from sklearn.model_selection import cross_val_score\n",
        "from sklearn.metrics import confusion_matrix\n",
        "from sklearn import metrics\n",
        "from sklearn.metrics import accuracy_score\n",
        "from sklearn.metrics import classification_report\n",
        "from sklearn.metrics import f1_score"
      ]
    },
    {
      "cell_type": "code",
      "execution_count": 56,
      "metadata": {
        "colab": {
          "base_uri": "https://localhost:8080/"
        },
        "id": "H1QND2i9MCM2",
        "outputId": "d42365b2-14ef-4111-9acf-dd02883261a9"
      },
      "outputs": [
        {
          "output_type": "stream",
          "name": "stdout",
          "text": [
            "SVM\n",
            "Accuracy: 0.9147327249022165\n"
          ]
        },
        {
          "output_type": "stream",
          "name": "stderr",
          "text": [
            "/usr/local/lib/python3.7/dist-packages/sklearn/svm/_base.py:1208: ConvergenceWarning: Liblinear failed to converge, increase the number of iterations.\n",
            "  ConvergenceWarning,\n"
          ]
        }
      ],
      "source": [
        "from sklearn.datasets import make_classification\n",
        "from sklearn.linear_model import LogisticRegression\n",
        "from sklearn.multiclass import OneVsRestClassifier\n",
        "SVC = LinearSVC()\n",
        "# define the ovr strategy\n",
        "#ovr = OneVsRestClassifier(SVC)\n",
        "# fit model\n",
        "SVC.fit(X_train, y_train)\n",
        "# make predictions\n",
        "y_predSVM = SVC.predict(X_test)\n",
        "print('SVM')\n",
        "print('Accuracy:', accuracy_score(y_test, y_predSVM))"
      ]
    },
    {
      "cell_type": "code",
      "source": [
        "cm = confusion_matrix(y_test,y_predNB)"
      ],
      "metadata": {
        "id": "xMGSWE8TEgBP"
      },
      "execution_count": 57,
      "outputs": []
    },
    {
      "cell_type": "code",
      "source": [
        "cm_plot_labels = ['Not bully','Religious','Sexual','Threat','Troll']\n",
        "cmn = cm.astype('float') / cm.sum(axis=1)[:, np.newaxis]\n",
        "fig, ax = plt.subplots(figsize=(10,8))\n",
        "sns.heatmap(cmn, annot=True, fmt='.2f', xticklabels=cm_plot_labels, yticklabels=cm_plot_labels, cmap='Blues')\n",
        "plt.ylabel('Actual')\n",
        "plt.xlabel('Predicted')\n",
        "plt.show(block=False)"
      ],
      "metadata": {
        "colab": {
          "base_uri": "https://localhost:8080/",
          "height": 497
        },
        "id": "HpS5T8PoEiWi",
        "outputId": "e4fc6d71-82f2-4b62-cb18-9664072ed2c6"
      },
      "execution_count": 58,
      "outputs": [
        {
          "output_type": "display_data",
          "data": {
            "text/plain": [
              "<Figure size 720x576 with 2 Axes>"
            ],
            "image/png": "[encoded data removed]"
          },
          "metadata": {
            "needs_background": "light"
          }
        }
      ]
    },
    {
      "cell_type": "code",
      "source": [
        "print(classification_report(y_test,y_predSVM))"
      ],
      "metadata": {
        "colab": {
          "base_uri": "https://localhost:8080/"
        },
        "id": "v46OqYqbExd-",
        "outputId": "ad997eeb-f8d5-47a8-ada8-f357a5c2f681"
      },
      "execution_count": 59,
      "outputs": [
        {
          "output_type": "stream",
          "name": "stdout",
          "text": [
            "              precision    recall  f1-score   support\n",
            "\n",
            "           0       0.83      0.90      0.86      2301\n",
            "           1       0.97      0.96      0.96      2301\n",
            "           2       0.92      0.90      0.91      2301\n",
            "           3       0.98      1.00      0.99      2301\n",
            "           4       0.89      0.82      0.85      2301\n",
            "\n",
            "    accuracy                           0.91     11505\n",
            "   macro avg       0.92      0.91      0.91     11505\n",
            "weighted avg       0.92      0.91      0.91     11505\n",
            "\n"
          ]
        }
      ]
    },
    {
      "cell_type": "code",
      "execution_count": 60,
      "metadata": {
        "colab": {
          "base_uri": "https://localhost:8080/",
          "height": 888
        },
        "id": "lCqG7BeqwFxB",
        "outputId": "70216f9a-161b-4d81-d42b-bf3fc81eca90"
      },
      "outputs": [
        {
          "output_type": "display_data",
          "data": {
            "text/plain": [
              "<Figure size 1152x1008 with 2 Axes>"
            ],
            "image/png": "[encoded data removed]"
          },
          "metadata": {
            "needs_background": "light"
          }
        }
      ],
      "source": [
        "import seaborn as sns\n",
        "import matplotlib.pyplot as plt\n",
        "\n",
        "### Confusion Matrix\n",
        "from sklearn.metrics import confusion_matrix\n",
        "\n",
        "\n",
        "cm = confusion_matrix(y_test, y_predSVM)\n",
        "\n",
        "## Get Class Labels\n",
        "\n",
        "class_names = ['Not bully','Religious','Sexual','Threat','Troll']\n",
        "\n",
        "# Plot confusion matrix in a beautiful manner\n",
        "fig = plt.figure(figsize=(16, 14))\n",
        "ax= plt.subplot()\n",
        "sns.heatmap(cm, annot=True, ax = ax, fmt = 'g'); #annot=True to annotate cells\n",
        "# labels, title and ticks\n",
        "ax.set_xlabel('Predicted', fontsize=20)\n",
        "ax.xaxis.set_label_position('bottom')\n",
        "plt.xticks(rotation=90)\n",
        "ax.xaxis.set_ticklabels(class_names, fontsize = 10)\n",
        "ax.xaxis.tick_bottom()\n",
        "\n",
        "ax.set_ylabel('True', fontsize=20)\n",
        "ax.yaxis.set_ticklabels(class_names, fontsize = 10)\n",
        "plt.yticks(rotation=0)\n",
        "\n",
        "plt.title('Confusion Matrix', fontsize=20)\n",
        "\n",
        "plt.savefig('ConMat24.png')\n",
        "plt.show()\n"
      ]
    },
    {
      "cell_type": "code",
      "source": [
        "print('Naive Bayes')\n",
        "print('Accuracy:', accuracy_score(y_test, y_predNB))\n",
        "\n",
        "print('Logistic regression')\n",
        "print('Accuracy:', accuracy_score(y_test, y_predLR))\n",
        "\n",
        "print('Decision Tree')\n",
        "print('Accuracy:', accuracy_score(y_test, y_predDT))\n",
        "\n",
        "print('Random Forest')\n",
        "print('Accuracy:', accuracy_score(y_test, y_predRF))\n",
        "\n",
        "print('SVM')\n",
        "print('Accuracy:', accuracy_score(y_test, y_predSVM))"
      ],
      "metadata": {
        "colab": {
          "base_uri": "https://localhost:8080/"
        },
        "id": "Y6502IYMrQIo",
        "outputId": "d748fc06-6ac0-4be1-d3d8-6e86f0fd98e8"
      },
      "execution_count": 61,
      "outputs": [
        {
          "output_type": "stream",
          "name": "stdout",
          "text": [
            "Naive Bayes\n",
            "Accuracy: 0.8521512385919165\n",
            "Logistic regression\n",
            "Accuracy: 0.9087353324641461\n",
            "Decision Tree\n",
            "Accuracy: 0.8936983920034768\n",
            "Random Forest\n",
            "Accuracy: 0.9031725336810082\n",
            "SVM\n",
            "Accuracy: 0.9147327249022165\n"
          ]
        }
      ]
    },
    {
      "cell_type": "code",
      "execution_count": 62,
      "metadata": {
        "colab": {
          "base_uri": "https://localhost:8080/"
        },
        "id": "uRXwsllhpNxx",
        "outputId": "5ea294e5-5ca4-492e-a5ed-3226f5dcdd78"
      },
      "outputs": [
        {
          "output_type": "stream",
          "name": "stdout",
          "text": [
            "[2]\n"
          ]
        }
      ],
      "source": [
        "sentence = 'বোঝাই যায় প্রথম আলো প্রতিনিধি ভারতের জারজ সন্তান ।। গরুর বাচ্চা ভারত চলে যা ।,'\n",
        "apl = coun_vect.transform([sentence])  \n",
        "\n",
        "pred=MNB.predict(apl)\n",
        "print(pred)"
      ]
    },
    {
      "cell_type": "code",
      "source": [
        "sentence = 'বাংলাদেশের রানের থেকে আমার গার্লফ্রেন্ড এর সংখ্যা বেশি😆একবার খেলায় নিয়ে দেখ তদের চেয়ে ভালো করে দেখাবো,কথায় নয় কাজে বিশ্বাসি🥰'\n",
        "apl = coun_vect.transform([sentence])  \n",
        "\n",
        "pred=MNB.predict(apl)\n",
        "print(pred)"
      ],
      "metadata": {
        "colab": {
          "base_uri": "https://localhost:8080/"
        },
        "id": "I2dYT_Jys1GH",
        "outputId": "1485e89f-8ac5-4394-8dd3-26c390f2a60d"
      },
      "execution_count": 63,
      "outputs": [
        {
          "output_type": "stream",
          "name": "stdout",
          "text": [
            "[4]\n"
          ]
        }
      ]
    },
    {
      "cell_type": "code",
      "source": [
        "sentence = 'ইসলাম বিদ্বেষী কথা বলার কারনে তুমি সামান্য কানাডায় ঢুকতে পারলে না? চিন্তা করো জান্নাতে কিভাবে ঢুকবে?'\n",
        "apl = coun_vect.transform([sentence])  \n",
        "\n",
        "pred=MNB.predict(apl)\n",
        "print(pred)"
      ],
      "metadata": {
        "colab": {
          "base_uri": "https://localhost:8080/"
        },
        "id": "bkrQcKd6sun1",
        "outputId": "96dc8d08-7ef7-46a6-fdd6-aff52a52ee00"
      },
      "execution_count": 64,
      "outputs": [
        {
          "output_type": "stream",
          "name": "stdout",
          "text": [
            "[1]\n"
          ]
        }
      ]
    },
    {
      "cell_type": "code",
      "execution_count": 65,
      "metadata": {
        "colab": {
          "base_uri": "https://localhost:8080/"
        },
        "id": "oozec-IQrzxa",
        "outputId": "37c4f423-b34f-4732-8ae5-916489001043"
      },
      "outputs": [
        {
          "output_type": "stream",
          "name": "stdout",
          "text": [
            "[1]\n"
          ]
        }
      ],
      "source": [
        "sentence = 'শ্রী কৃষ্ণ মানুষের গর্বে জন্মেছে ۔একজন জন্ম নেয়া মানুষ কোনোদিন সৃষ্টি কর্তা হতে পারে না'\n",
        "apl = coun_vect.transform([sentence])  \n",
        "\n",
        "pred=LR.predict(apl)\n",
        "print(pred)"
      ]
    },
    {
      "cell_type": "code",
      "execution_count": 66,
      "metadata": {
        "colab": {
          "base_uri": "https://localhost:8080/"
        },
        "id": "FPAoQGAIz1sT",
        "outputId": "6e8a1551-faf1-4e41-9b46-0245e9f74636"
      },
      "outputs": [
        {
          "output_type": "stream",
          "name": "stdout",
          "text": [
            "[0]\n"
          ]
        }
      ],
      "source": [
        "sentence = 'তুমি আর আগের মত নাই।'\n",
        "apl = coun_vect.transform([sentence])  \n",
        "\n",
        "pred=LR.predict(apl)\n",
        "print(pred)"
      ]
    },
    {
      "cell_type": "code",
      "execution_count": 67,
      "metadata": {
        "colab": {
          "base_uri": "https://localhost:8080/"
        },
        "id": "J4_cCDzsr4WF",
        "outputId": "f6905918-180f-46b5-e6f3-b09f98804d1c"
      },
      "outputs": [
        {
          "output_type": "stream",
          "name": "stdout",
          "text": [
            "[4]\n"
          ]
        }
      ],
      "source": [
        "sentence = 'মদ খেয়ে মাতলামি করবা আর মিডিয়ায় এসে বিচার চাইবা! বাহ!!'\n",
        "apl = coun_vect.transform([sentence])  \n",
        "\n",
        "pred=SVC.predict(apl)\n",
        "print(pred)"
      ]
    },
    {
      "cell_type": "code",
      "execution_count": 68,
      "metadata": {
        "colab": {
          "base_uri": "https://localhost:8080/"
        },
        "id": "fQ5y_izu8Rpg",
        "outputId": "47225693-9f89-45e2-8e41-11706394958f"
      },
      "outputs": [
        {
          "output_type": "stream",
          "name": "stdout",
          "text": [
            "[3]\n"
          ]
        }
      ],
      "source": [
        "sentence = 'আমার জুতা, তোর মুখ। জুতা মেরে তোর অবস্থা খারাপ করে দেব।'\n",
        "apl = coun_vect.transform([sentence])  \n",
        "\n",
        "pred=SVC.predict(apl)\n",
        "print(pred)"
      ]
    },
    {
      "cell_type": "code",
      "execution_count": 69,
      "metadata": {
        "colab": {
          "base_uri": "https://localhost:8080/"
        },
        "id": "4QjJkHUw8Vxg",
        "outputId": "ae595b72-9203-44ec-b9f3-8828972e786f"
      },
      "outputs": [
        {
          "output_type": "stream",
          "name": "stdout",
          "text": [
            "[4]\n"
          ]
        }
      ],
      "source": [
        "sentence = 'পা দুটোতে মনে হচ্ছে পোলিও হয়েছে 🤣🙏'\n",
        "apl = coun_vect.transform([sentence])  \n",
        "\n",
        "pred=SVC.predict(apl)\n",
        "print(pred)"
      ]
    },
    {
      "cell_type": "code",
      "execution_count": 70,
      "metadata": {
        "id": "8whWyQtb4Nkx",
        "colab": {
          "base_uri": "https://localhost:8080/"
        },
        "outputId": "065676fc-ed48-4a28-fce6-5a65e7004482"
      },
      "outputs": [
        {
          "output_type": "stream",
          "name": "stdout",
          "text": [
            "[4]\n"
          ]
        }
      ],
      "source": [
        "sentence = 'কুকুরের পেটে যেমন ঘি সহ্য হয় না তেমনি ভিখারী কে কোটিপতি বানালে সে অমানুষিকতার পরিচয় দেয়'\n",
        "apl = coun_vect.transform([sentence])  \n",
        "\n",
        "pred=DT.predict(apl)\n",
        "print(pred)"
      ]
    },
    {
      "cell_type": "code",
      "source": [
        "sentence = 'চোর এর বাচ্চা চোর মাশরাফি ভোট চোর তুই যেই টাকা ও সুবিধা নিচ্ছিস তা হারাম হারাম কোরের বাচ্চা কারণ তুই অবৈধ এমপি।'\n",
        "apl = coun_vect.transform([sentence])  \n",
        "\n",
        "pred=RF.predict(apl)\n",
        "print(pred)"
      ],
      "metadata": {
        "colab": {
          "base_uri": "https://localhost:8080/"
        },
        "id": "VmIghw9lKuLA",
        "outputId": "929690ab-4ce5-46a4-b7a9-5eeab8724420"
      },
      "execution_count": 79,
      "outputs": [
        {
          "output_type": "stream",
          "name": "stdout",
          "text": [
            "[4]\n"
          ]
        }
      ]
    },
    {
      "cell_type": "code",
      "source": [
        "import matplotlib.pyplot as plt\n",
        "import numpy as np\n",
        "import matplotlib.cm as cm\n",
        "import itertools"
      ],
      "metadata": {
        "id": "zKsse_3EyNd2"
      },
      "execution_count": 80,
      "outputs": []
    },
    {
      "cell_type": "code",
      "source": [
        "models = ['Naive Bayes', 'Logistic regression', 'Decision Tree', 'SVM', 'Random Forest']\n",
        "accuracy = [85, 90, 89, 91, 90]\n",
        "color = itertools.cycle(['b','r','c', 'm','k'])"
      ],
      "metadata": {
        "id": "NLcLA0hdyPWy"
      },
      "execution_count": 81,
      "outputs": []
    },
    {
      "cell_type": "code",
      "source": [
        "plt.xlabel('Model Names')\n",
        "plt.ylabel('Accuracy')\n",
        "plt.xticks(rotation = 90)\n",
        "for i in range(len(models)):\n",
        "    plt.bar(models[i], accuracy[i], color = next(color))\n",
        "plt.show()"
      ],
      "metadata": {
        "colab": {
          "base_uri": "https://localhost:8080/",
          "height": 363
        },
        "id": "vJLmdlNzRapW",
        "outputId": "2f3be5a8-cf2f-4649-e74a-b86e123a9766"
      },
      "execution_count": 82,
      "outputs": [
        {
          "output_type": "display_data",
          "data": {
            "text/plain": [
              "<Figure size 432x288 with 1 Axes>"
            ],
            "image/png": "[encoded data removed]"
          },
          "metadata": {
            "needs_background": "light"
          }
        }
      ]
    }
  ],
  "metadata": {
    "accelerator": "GPU",
    "colab": {
      "collapsed_sections": [],
      "provenance": []
    },
    "gpuClass": "standard",
    "kernelspec": {
      "display_name": "Python 3 (ipykernel)",
      "language": "python",
      "name": "python3"
    },
    "language_info": {
      "codemirror_mode": {
        "name": "ipython",
        "version": 3
      },
      "file_extension": ".py",
      "mimetype": "text/x-python",
      "name": "python",
      "nbconvert_exporter": "python",
      "pygments_lexer": "ipython3",
      "version": "3.9.12"
    }
  },
  "nbformat": 4,
  "nbformat_minor": 0
}